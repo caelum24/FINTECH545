{
 "cells": [
  {
   "cell_type": "code",
   "execution_count": 1,
   "metadata": {},
   "outputs": [],
   "source": [
    "import pandas as pd\n",
    "import math\n",
    "import numpy as np"
   ]
  },
  {
   "cell_type": "markdown",
   "metadata": {},
   "source": [
    "## Test 7.1: Fit a Normal Distribution From Data"
   ]
  },
  {
   "cell_type": "code",
   "execution_count": 2,
   "metadata": {},
   "outputs": [],
   "source": [
    "# def fit_univariate_normal_from_data(x: pd.DataFrame):\n",
    "\n",
    "#     mu = x.mean().item()\n",
    "#     sigma = x.std().item()\n",
    "#     return mu, sigma\n",
    "    \n",
    "def fit_normal_dist_from_data(x: pd.DataFrame):\n",
    "    mu_vector = x.mean()\n",
    "    covariance_matrix = x.cov()\n",
    "\n",
    "    return mu_vector, covariance_matrix"
   ]
  },
  {
   "cell_type": "code",
   "execution_count": 3,
   "metadata": {},
   "outputs": [],
   "source": [
    "x = pd.read_csv(\"testfiles/data/test7_1.csv\")"
   ]
  },
  {
   "cell_type": "code",
   "execution_count": 9,
   "metadata": {},
   "outputs": [],
   "source": [
    "y = np.concat([x,x], axis=1)"
   ]
  },
  {
   "cell_type": "code",
   "execution_count": 11,
   "metadata": {},
   "outputs": [
    {
     "data": {
      "text/plain": [
       "(2,)"
      ]
     },
     "execution_count": 11,
     "metadata": {},
     "output_type": "execute_result"
    }
   ],
   "source": [
    "np.mean(y, axis=0)"
   ]
  },
  {
   "cell_type": "code",
   "execution_count": 13,
   "metadata": {},
   "outputs": [
    {
     "data": {
      "text/plain": [
       "array([[0.04677994, 0.04677994],\n",
       "       [0.04677994, 0.04677994]])"
      ]
     },
     "execution_count": 13,
     "metadata": {},
     "output_type": "execute_result"
    }
   ],
   "source": [
    "# x = x.to_numpy()\n",
    "np.sqrt(np.cov(y, rowvar=False)) #unbiased by default"
   ]
  },
  {
   "cell_type": "code",
   "execution_count": 4,
   "metadata": {},
   "outputs": [],
   "source": [
    "mu_vector, covariance_matrix = fit_normal_dist_from_data(x)\n",
    "\n",
    "# get the univariate results for this data\n",
    "mu = mu_vector.iloc[0]\n",
    "sigma = math.sqrt(covariance_matrix.iloc[0,0])"
   ]
  },
  {
   "cell_type": "code",
   "execution_count": 6,
   "metadata": {},
   "outputs": [
    {
     "name": "stdout",
     "output_type": "stream",
     "text": [
      "0.04602573645286826 0.046779939563919654\n"
     ]
    }
   ],
   "source": [
    "print(mu, sigma)"
   ]
  },
  {
   "cell_type": "code",
   "execution_count": 5,
   "metadata": {},
   "outputs": [],
   "source": [
    "# check that these values are correct (within a small margin due to precision)\n",
    "error_epsilon = 1e-12\n",
    "test_vals = pd.read_csv(\"testfiles/data/testout7_1.csv\")\n",
    "assert abs(mu - test_vals.loc[0, 'mu']) < error_epsilon, \"Output mu and test mu do not match\"\n",
    "assert abs(sigma - test_vals.loc[0, 'sigma']) < error_epsilon, 'Output sigma and test sigma do not match'"
   ]
  },
  {
   "cell_type": "markdown",
   "metadata": {},
   "source": [
    "## Test 7.2: Fit a T Distribution"
   ]
  },
  {
   "cell_type": "code",
   "execution_count": 30,
   "metadata": {},
   "outputs": [],
   "source": [
    "x = pd.read_csv(\"testfiles/data/test7_2.csv\")"
   ]
  },
  {
   "cell_type": "markdown",
   "metadata": {},
   "source": [
    "#### Attempt to do t-fitting by hand\n",
    "\n",
    "##### I found that since nu and sigma both deal with how wide our distribution is, any changes that would be made to nu often just get overpowered by changes to sigma. As such, my nu value was never being optimized away from the initial value"
   ]
  },
  {
   "cell_type": "code",
   "execution_count": 17,
   "metadata": {},
   "outputs": [],
   "source": [
    "import numpy as np\n",
    "from scipy.special import gamma, gammaln\n",
    "from scipy.optimize import minimize"
   ]
  },
  {
   "cell_type": "code",
   "execution_count": 19,
   "metadata": {},
   "outputs": [],
   "source": [
    "def t_log_likelihood(parameters, x):\n",
    "    mu, sigma, nu = parameters\n",
    "    log_likelihood = np.sum(\n",
    "        gammaln((nu + 1) / 2) - gammaln(nu / 2) - np.log(sigma) - 0.5*np.log(np.pi*nu)\n",
    "        - (nu+1)/2 * np.log(1 + ((x - mu)/sigma)**2 / nu)\n",
    "    )\n",
    "\n",
    "    return -log_likelihood"
   ]
  },
  {
   "cell_type": "code",
   "execution_count": 15,
   "metadata": {},
   "outputs": [],
   "source": [
    "def fit_t_dist_from_data(x: pd.DataFrame):\n",
    "\n",
    "    mu_guess = x.mean().item()\n",
    "    sigma_guess = x.std().item()\n",
    "    nu_guess = 10\n",
    "\n",
    "    initial_params = [mu_guess, sigma_guess, nu_guess]\n",
    "\n",
    "    # Minimize negative log-likelihood\n",
    "    res = minimize(t_log_likelihood, initial_params, args=(x.values,),\n",
    "                bounds=[(None, None), (1e-5, None), (1e-5, None)])\n",
    "\n",
    "    mu, sigma, nu = res.x\n",
    "    return mu, sigma, nu"
   ]
  },
  {
   "cell_type": "code",
   "execution_count": 18,
   "metadata": {},
   "outputs": [
    {
     "ename": "NameError",
     "evalue": "name 't_log_likelihood' is not defined",
     "output_type": "error",
     "traceback": [
      "\u001b[31m---------------------------------------------------------------------------\u001b[39m",
      "\u001b[31mNameError\u001b[39m                                 Traceback (most recent call last)",
      "\u001b[36mCell\u001b[39m\u001b[36m \u001b[39m\u001b[32mIn[18]\u001b[39m\u001b[32m, line 1\u001b[39m\n\u001b[32m----> \u001b[39m\u001b[32m1\u001b[39m mu, sigma, nu = \u001b[43mfit_t_dist_from_data\u001b[49m\u001b[43m(\u001b[49m\u001b[43my\u001b[49m\u001b[43m)\u001b[49m\n",
      "\u001b[36mCell\u001b[39m\u001b[36m \u001b[39m\u001b[32mIn[15]\u001b[39m\u001b[32m, line 10\u001b[39m, in \u001b[36mfit_t_dist_from_data\u001b[39m\u001b[34m(x)\u001b[39m\n\u001b[32m      7\u001b[39m initial_params = [mu_guess, sigma_guess, nu_guess]\n\u001b[32m      9\u001b[39m \u001b[38;5;66;03m# Minimize negative log-likelihood\u001b[39;00m\n\u001b[32m---> \u001b[39m\u001b[32m10\u001b[39m res = minimize(\u001b[43mt_log_likelihood\u001b[49m, initial_params, args=(x.values,),\n\u001b[32m     11\u001b[39m             bounds=[(\u001b[38;5;28;01mNone\u001b[39;00m, \u001b[38;5;28;01mNone\u001b[39;00m), (\u001b[32m1e-5\u001b[39m, \u001b[38;5;28;01mNone\u001b[39;00m), (\u001b[32m1e-5\u001b[39m, \u001b[38;5;28;01mNone\u001b[39;00m)])\n\u001b[32m     13\u001b[39m mu, sigma, nu = res.x\n\u001b[32m     14\u001b[39m \u001b[38;5;28;01mreturn\u001b[39;00m mu, sigma, nu\n",
      "\u001b[31mNameError\u001b[39m: name 't_log_likelihood' is not defined"
     ]
    }
   ],
   "source": [
    "mu, sigma, nu = fit_t_dist_from_data(x)"
   ]
  },
  {
   "cell_type": "code",
   "execution_count": 14,
   "metadata": {},
   "outputs": [
    {
     "name": "stdout",
     "output_type": "stream",
     "text": [
      "0.046209336843006064 0.0459403982963629\n",
      "0.04802717250457455 0.045442845180787\n",
      "10.000000860912918 6.336874964943411\n"
     ]
    },
    {
     "ename": "AssertionError",
     "evalue": "Output mu and test mu do not match",
     "output_type": "error",
     "traceback": [
      "\u001b[31m---------------------------------------------------------------------------\u001b[39m",
      "\u001b[31mAssertionError\u001b[39m                            Traceback (most recent call last)",
      "\u001b[36mCell\u001b[39m\u001b[36m \u001b[39m\u001b[32mIn[14]\u001b[39m\u001b[32m, line 6\u001b[39m\n\u001b[32m      4\u001b[39m \u001b[38;5;28mprint\u001b[39m(sigma, test_vals.loc[\u001b[32m0\u001b[39m, \u001b[33m'\u001b[39m\u001b[33msigma\u001b[39m\u001b[33m'\u001b[39m])\n\u001b[32m      5\u001b[39m \u001b[38;5;28mprint\u001b[39m(nu, test_vals.loc[\u001b[32m0\u001b[39m, \u001b[33m'\u001b[39m\u001b[33mnu\u001b[39m\u001b[33m'\u001b[39m])\n\u001b[32m----> \u001b[39m\u001b[32m6\u001b[39m \u001b[38;5;28;01massert\u001b[39;00m \u001b[38;5;28mabs\u001b[39m(mu - test_vals.loc[\u001b[32m0\u001b[39m, \u001b[33m'\u001b[39m\u001b[33mmu\u001b[39m\u001b[33m'\u001b[39m]) < error_epsilon, \u001b[33m\"\u001b[39m\u001b[33mOutput mu and test mu do not match\u001b[39m\u001b[33m\"\u001b[39m\n\u001b[32m      7\u001b[39m \u001b[38;5;28;01massert\u001b[39;00m \u001b[38;5;28mabs\u001b[39m(sigma - test_vals.loc[\u001b[32m0\u001b[39m, \u001b[33m'\u001b[39m\u001b[33msigma\u001b[39m\u001b[33m'\u001b[39m]) < error_epsilon, \u001b[33m'\u001b[39m\u001b[33mOutput sigma and test sigma do not match\u001b[39m\u001b[33m'\u001b[39m\n\u001b[32m      8\u001b[39m \u001b[38;5;28;01massert\u001b[39;00m \u001b[38;5;28mabs\u001b[39m(nu - test_vals.loc[\u001b[32m0\u001b[39m, \u001b[33m'\u001b[39m\u001b[33mnu\u001b[39m\u001b[33m'\u001b[39m]) < error_epsilon, \u001b[33m'\u001b[39m\u001b[33mOutput nu and test nu do not match\u001b[39m\u001b[33m'\u001b[39m\n",
      "\u001b[31mAssertionError\u001b[39m: Output mu and test mu do not match"
     ]
    }
   ],
   "source": [
    "error_epsilon = 1e-5\n",
    "test_vals = pd.read_csv(\"testfiles/data/testout7_2.csv\")\n",
    "print(mu, test_vals.loc[0, 'mu'])\n",
    "print(sigma, test_vals.loc[0, 'sigma'])\n",
    "print(nu, test_vals.loc[0, 'nu'])\n",
    "assert abs(mu - test_vals.loc[0, 'mu']) < error_epsilon, \"Output mu and test mu do not match\"\n",
    "assert abs(sigma - test_vals.loc[0, 'sigma']) < error_epsilon, 'Output sigma and test sigma do not match'\n",
    "assert abs(nu - test_vals.loc[0, 'nu']) < error_epsilon, 'Output nu and test nu do not match'"
   ]
  },
  {
   "cell_type": "markdown",
   "metadata": {},
   "source": [
    "#### Package way to do t-fitting"
   ]
  },
  {
   "cell_type": "code",
   "execution_count": 28,
   "metadata": {},
   "outputs": [],
   "source": [
    "from scipy.stats import t\n",
    "\n",
    "# t =  x - mu / sqrt(unbiased_var/n)"
   ]
  },
  {
   "cell_type": "code",
   "execution_count": 27,
   "metadata": {},
   "outputs": [
    {
     "data": {
      "text/plain": [
       "(np.float64(0.04594038004735414),\n",
       " np.float64(0.04544287220830122),\n",
       " np.float64(6.336866997308613))"
      ]
     },
     "execution_count": 27,
     "metadata": {},
     "output_type": "execute_result"
    }
   ],
   "source": [
    "nu, mu, sigma = t.fit(x)\n",
    "mu, sigma, nu"
   ]
  },
  {
   "cell_type": "code",
   "execution_count": 17,
   "metadata": {},
   "outputs": [],
   "source": [
    "error_epsilon = 1e-5\n",
    "test_vals = pd.read_csv(\"testfiles/data/testout7_2.csv\")\n",
    "assert abs(mu - test_vals.loc[0, 'mu']) < error_epsilon, \"Output mu and test mu do not match\"\n",
    "assert abs(sigma - test_vals.loc[0, 'sigma']) < error_epsilon, 'Output sigma and test sigma do not match'\n",
    "assert abs(nu - test_vals.loc[0, 'nu']) < error_epsilon, 'Output nu and test nu do not match'"
   ]
  },
  {
   "cell_type": "markdown",
   "metadata": {},
   "source": [
    "## Test 7.3: T-regression"
   ]
  },
  {
   "cell_type": "code",
   "execution_count": 18,
   "metadata": {},
   "outputs": [],
   "source": [
    "from statsmodels.miscmodels.tmodel import TLinearModel\n",
    "import statsmodels.api as sm"
   ]
  },
  {
   "cell_type": "code",
   "execution_count": 19,
   "metadata": {},
   "outputs": [],
   "source": [
    "x = pd.read_csv(\"testfiles/data/test7_3.csv\")"
   ]
  },
  {
   "cell_type": "code",
   "execution_count": 20,
   "metadata": {},
   "outputs": [],
   "source": [
    "def t_regression(X: pd.DataFrame, y:pd.Series, add_constant:bool = True, print_summary = False):\n",
    "\n",
    "    if add_constant:\n",
    "        X = sm.add_constant(X)\n",
    "    \n",
    "    model = TLinearModel(y, X)\n",
    "    result = model.fit()\n",
    "\n",
    "    alpha = result.params[0]\n",
    "    betas = result.params[1:-2]\n",
    "    nu = result.params[-2]\n",
    "    sigma = result.params[-1]\n",
    "    mu = 0.0 # mean is 0 if we included a constant (intercept term)\n",
    "\n",
    "    if print_summary:\n",
    "        result.summary()\n",
    "\n",
    "    return alpha, betas, mu, sigma, nu"
   ]
  },
  {
   "cell_type": "code",
   "execution_count": 21,
   "metadata": {},
   "outputs": [
    {
     "name": "stdout",
     "output_type": "stream",
     "text": [
      "running Tmodel initialize\n",
      "Optimization terminated successfully.\n",
      "         Current function value: -1.378814\n",
      "         Iterations: 281\n",
      "         Function evaluations: 451\n"
     ]
    }
   ],
   "source": [
    "X, y = x.loc[:, (\"x1\", \"x2\", \"x3\")], x.loc[:, (\"y\")]\n",
    "\n",
    "alpha, betas, mu, sigma, nu = t_regression(X, y, add_constant=True)"
   ]
  },
  {
   "cell_type": "code",
   "execution_count": 22,
   "metadata": {},
   "outputs": [],
   "source": [
    "error_epsilon = 1e-4\n",
    "test_vals = pd.read_csv(\"testfiles/data/testout7_3.csv\")\n",
    "assert abs(mu - test_vals.loc[0, 'mu']) < error_epsilon, \"Output mu and test mu do not match\"\n",
    "assert abs(sigma - test_vals.loc[0, 'sigma']) < error_epsilon, 'Output sigma and test sigma do not match'\n",
    "assert abs(nu - test_vals.loc[0, 'nu']) < error_epsilon, 'Output nu and test nu do not match'\n",
    "assert abs(alpha - test_vals.loc[0, 'Alpha']) < error_epsilon, \"Output mu and test mu do not match\"\n",
    "for i in range(0,len(betas)):\n",
    "    assert abs(betas[i] - test_vals.loc[0, f'B{i+1}']) < error_epsilon, f'Output B{i+1} and test B{i+1} do not match'"
   ]
  }
 ],
 "metadata": {
  "kernelspec": {
   "display_name": "Python 3.12.7 ('.venv': venv)",
   "language": "python",
   "name": "python3"
  },
  "language_info": {
   "codemirror_mode": {
    "name": "ipython",
    "version": 3
   },
   "file_extension": ".py",
   "mimetype": "text/x-python",
   "name": "python",
   "nbconvert_exporter": "python",
   "pygments_lexer": "ipython3",
   "version": "3.12.7"
  },
  "orig_nbformat": 4,
  "vscode": {
   "interpreter": {
    "hash": "536fca8a70b20dc309c68387fb4322ec0bd98e3a90262e6704560667c02e5263"
   }
  }
 },
 "nbformat": 4,
 "nbformat_minor": 2
}
