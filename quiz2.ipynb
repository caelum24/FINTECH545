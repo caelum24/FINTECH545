{
 "cells": [
  {
   "cell_type": "code",
   "execution_count": 3,
   "metadata": {},
   "outputs": [],
   "source": [
    "import pandas as pd\n",
    "import numpy as np"
   ]
  },
  {
   "cell_type": "code",
   "execution_count": 5,
   "metadata": {},
   "outputs": [],
   "source": [
    "# from risk_management import \n",
    "from risk_management import distributions, measurements, risk_metrics, simulations"
   ]
  },
  {
   "cell_type": "code",
   "execution_count": 11,
   "metadata": {},
   "outputs": [],
   "source": [
    "quiz2_data = pd.read_csv(\"/Users/willneuner/Desktop/FINTECH545/quiz2.csv\")\n",
    "quiz2_data = quiz2_data.set_index(\"Date\")"
   ]
  },
  {
   "cell_type": "markdown",
   "metadata": {},
   "source": [
    "# Q1"
   ]
  },
  {
   "cell_type": "code",
   "execution_count": 52,
   "metadata": {},
   "outputs": [],
   "source": [
    "returns = measurements.compute_returns(quiz2_data)"
   ]
  },
  {
   "cell_type": "code",
   "execution_count": 15,
   "metadata": {},
   "outputs": [
    {
     "data": {
      "text/html": [
       "<div>\n",
       "<style scoped>\n",
       "    .dataframe tbody tr th:only-of-type {\n",
       "        vertical-align: middle;\n",
       "    }\n",
       "\n",
       "    .dataframe tbody tr th {\n",
       "        vertical-align: top;\n",
       "    }\n",
       "\n",
       "    .dataframe thead th {\n",
       "        text-align: right;\n",
       "    }\n",
       "</style>\n",
       "<table border=\"1\" class=\"dataframe\">\n",
       "  <thead>\n",
       "    <tr style=\"text-align: right;\">\n",
       "      <th></th>\n",
       "      <th>A</th>\n",
       "      <th>B</th>\n",
       "    </tr>\n",
       "  </thead>\n",
       "  <tbody>\n",
       "    <tr>\n",
       "      <th>A</th>\n",
       "      <td>0.000186</td>\n",
       "      <td>0.000098</td>\n",
       "    </tr>\n",
       "    <tr>\n",
       "      <th>B</th>\n",
       "      <td>0.000098</td>\n",
       "      <td>0.000223</td>\n",
       "    </tr>\n",
       "  </tbody>\n",
       "</table>\n",
       "</div>"
      ],
      "text/plain": [
       "          A         B\n",
       "A  0.000186  0.000098\n",
       "B  0.000098  0.000223"
      ]
     },
     "execution_count": 15,
     "metadata": {},
     "output_type": "execute_result"
    }
   ],
   "source": [
    "cov = measurements.compute_covariance(arith_returns, exponentially_weighted= True, lambda_=0.94)\n",
    "cov"
   ]
  },
  {
   "cell_type": "code",
   "execution_count": 39,
   "metadata": {},
   "outputs": [
    {
     "data": {
      "text/plain": [
       "np.float64(0.00018556516330829975)"
      ]
     },
     "execution_count": 39,
     "metadata": {},
     "output_type": "execute_result"
    }
   ],
   "source": []
  },
  {
   "cell_type": "markdown",
   "metadata": {},
   "source": [
    "# Q2"
   ]
  },
  {
   "cell_type": "code",
   "execution_count": 53,
   "metadata": {},
   "outputs": [
    {
     "data": {
      "text/plain": [
       "(np.float64(0.024247060657005774), np.float64(0.023514297521262814))"
      ]
     },
     "execution_count": 53,
     "metadata": {},
     "output_type": "execute_result"
    }
   ],
   "source": [
    "risk_metrics.univariate_normal_VaR(returns, alpha = 0.05) # IGNORE -> USING WRONG COVARIANCE"
   ]
  },
  {
   "cell_type": "code",
   "execution_count": 38,
   "metadata": {},
   "outputs": [],
   "source": [
    "from scipy.stats import norm, t"
   ]
  },
  {
   "cell_type": "code",
   "execution_count": 47,
   "metadata": {},
   "outputs": [
    {
     "data": {
      "text/plain": [
       "np.float64(0.022406575215702135)"
      ]
     },
     "execution_count": 47,
     "metadata": {},
     "output_type": "execute_result"
    }
   ],
   "source": [
    "alpha = 0.05 # TODO -> need to change how my VaR functions take inputs -> just pass in covariance and mean\n",
    "mean = 0\n",
    "-norm.ppf(alpha, loc = 0, scale = np.sqrt(cov.iloc[0,0])) # FAILED -> didn't do mean = 0"
   ]
  },
  {
   "cell_type": "code",
   "execution_count": null,
   "metadata": {},
   "outputs": [],
   "source": [
    "def univariate_normal_VaR(x: pd.DataFrame, alpha = 0.05):\n",
    "    mu_vector, covariance_matrix = fit_normal_dist_from_data(x)\n",
    "    mean, std = mu_vector.iloc[0], np.sqrt(covariance_matrix.iloc[0,0])\n",
    "\n",
    "    abs_VaR = -norm.ppf(alpha, loc = mean, scale = std)\n",
    "    rel_VaR = mean - norm.ppf(alpha, loc = mean, scale = std)\n",
    "\n",
    "    return abs_VaR, rel_VaR"
   ]
  },
  {
   "cell_type": "markdown",
   "metadata": {},
   "source": [
    "# Q3"
   ]
  },
  {
   "cell_type": "code",
   "execution_count": 36,
   "metadata": {},
   "outputs": [
    {
     "data": {
      "text/plain": [
       "(np.float64(23.17140757586222),\n",
       " np.float64(-2.767923570081434e-09),\n",
       " np.float64(0.01684821607629417))"
      ]
     },
     "execution_count": 36,
     "metadata": {},
     "output_type": "execute_result"
    }
   ],
   "source": [
    "from scipy.stats import norm, t"
   ]
  },
  {
   "cell_type": "code",
   "execution_count": 33,
   "metadata": {},
   "outputs": [
    {
     "name": "stdout",
     "output_type": "stream",
     "text": [
      "-0.0017142480795700901 0.016848213929765654 23.171412845229682\n"
     ]
    },
    {
     "data": {
      "text/plain": [
       "(np.float64(-2.767923570081434e-09),\n",
       " np.float64(0.01684821607629417),\n",
       " np.float64(23.17140757586222))"
      ]
     },
     "execution_count": 33,
     "metadata": {},
     "output_type": "execute_result"
    }
   ],
   "source": [
    "mu, sigma, nu = distributions.fit_t_dist(returns.loc[:, \"B\"])\n",
    "mu, sigma, nu\n",
    "print(mu, sigma, nu)\n",
    "zero_mean_returns = returns.loc[:, \"B\"] - mu\n",
    "distributions.fit_t_dist(zero_mean_returns)\n"
   ]
  },
  {
   "cell_type": "code",
   "execution_count": 37,
   "metadata": {},
   "outputs": [
    {
     "data": {
      "text/plain": [
       "(np.float64(0.030580967449628897), np.float64(0.028866719370058806))"
      ]
     },
     "execution_count": 37,
     "metadata": {},
     "output_type": "execute_result"
    }
   ],
   "source": [
    "risk_metrics.univariate_t_VaR(returns.loc[:, \"B\"], alpha=0.05)"
   ]
  },
  {
   "cell_type": "code",
   "execution_count": 58,
   "metadata": {},
   "outputs": [
    {
     "name": "stdout",
     "output_type": "stream",
     "text": [
      "-0.0017142480795700901 0.016848213929765654 23.171412845229682\n"
     ]
    },
    {
     "data": {
      "text/plain": [
       "np.float64(0.030580967449628897)"
      ]
     },
     "execution_count": 58,
     "metadata": {},
     "output_type": "execute_result"
    }
   ],
   "source": [
    "nu, mu, sigma = t.fit(returns.loc[:, \"B\"])\n",
    "alpha = 0.05\n",
    "print(mu, sigma, nu)\n",
    "-t.ppf(alpha, df = nu, loc = mu, scale = sigma)"
   ]
  },
  {
   "cell_type": "code",
   "execution_count": 35,
   "metadata": {},
   "outputs": [
    {
     "data": {
      "text/plain": [
       "(np.float64(0.02886672608887374), np.float64(0.02886672332095017))"
      ]
     },
     "execution_count": 35,
     "metadata": {},
     "output_type": "execute_result"
    }
   ],
   "source": [
    "risk_metrics.univariate_t_VaR(zero_mean_returns, alpha=0.05)"
   ]
  },
  {
   "cell_type": "code",
   "execution_count": 50,
   "metadata": {},
   "outputs": [
    {
     "name": "stdout",
     "output_type": "stream",
     "text": [
      "0.028866721334801507\n"
     ]
    }
   ],
   "source": [
    "### ANSWER\n",
    "zero_mean_returns = returns.loc[:, \"B\"] - mu\n",
    "mu, sigma, nu = distributions.fit_t_dist(zero_mean_returns)\n",
    "\n",
    "abs_VaR = -t.ppf(alpha, df = nu, loc = 0, scale = sigma)\n",
    "print(abs_VaR) # actual answer was 2.91?"
   ]
  },
  {
   "cell_type": "code",
   "execution_count": null,
   "metadata": {},
   "outputs": [],
   "source": []
  }
 ],
 "metadata": {
  "kernelspec": {
   "display_name": "Python 3.12.7 ('.venv': venv)",
   "language": "python",
   "name": "python3"
  },
  "language_info": {
   "codemirror_mode": {
    "name": "ipython",
    "version": 3
   },
   "file_extension": ".py",
   "mimetype": "text/x-python",
   "name": "python",
   "nbconvert_exporter": "python",
   "pygments_lexer": "ipython3",
   "version": "3.12.7"
  },
  "orig_nbformat": 4,
  "vscode": {
   "interpreter": {
    "hash": "536fca8a70b20dc309c68387fb4322ec0bd98e3a90262e6704560667c02e5263"
   }
  }
 },
 "nbformat": 4,
 "nbformat_minor": 2
}
