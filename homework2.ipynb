{
 "cells": [
  {
   "cell_type": "code",
   "execution_count": 105,
   "metadata": {},
   "outputs": [],
   "source": [
    "import pandas as pd\n",
    "import numpy as np"
   ]
  },
  {
   "cell_type": "code",
   "execution_count": 23,
   "metadata": {},
   "outputs": [],
   "source": [
    "test1_data = pd.read_csv(\"testfiles/data/test1.csv\")"
   ]
  },
  {
   "cell_type": "code",
   "execution_count": 24,
   "metadata": {},
   "outputs": [
    {
     "data": {
      "text/html": [
       "<div>\n",
       "<style scoped>\n",
       "    .dataframe tbody tr th:only-of-type {\n",
       "        vertical-align: middle;\n",
       "    }\n",
       "\n",
       "    .dataframe tbody tr th {\n",
       "        vertical-align: top;\n",
       "    }\n",
       "\n",
       "    .dataframe thead th {\n",
       "        text-align: right;\n",
       "    }\n",
       "</style>\n",
       "<table border=\"1\" class=\"dataframe\">\n",
       "  <thead>\n",
       "    <tr style=\"text-align: right;\">\n",
       "      <th></th>\n",
       "      <th>x1</th>\n",
       "      <th>x2</th>\n",
       "      <th>x3</th>\n",
       "      <th>x4</th>\n",
       "      <th>x5</th>\n",
       "    </tr>\n",
       "  </thead>\n",
       "  <tbody>\n",
       "    <tr>\n",
       "      <th>0</th>\n",
       "      <td>NaN</td>\n",
       "      <td>-1.049925</td>\n",
       "      <td>-0.367390</td>\n",
       "      <td>-1.275708</td>\n",
       "      <td>0.642827</td>\n",
       "    </tr>\n",
       "    <tr>\n",
       "      <th>1</th>\n",
       "      <td>-1.365501</td>\n",
       "      <td>1.388988</td>\n",
       "      <td>0.949546</td>\n",
       "      <td>-0.013575</td>\n",
       "      <td>1.308596</td>\n",
       "    </tr>\n",
       "    <tr>\n",
       "      <th>2</th>\n",
       "      <td>2.222779</td>\n",
       "      <td>-0.956345</td>\n",
       "      <td>0.132482</td>\n",
       "      <td>-0.197584</td>\n",
       "      <td>-0.457551</td>\n",
       "    </tr>\n",
       "    <tr>\n",
       "      <th>3</th>\n",
       "      <td>1.223125</td>\n",
       "      <td>2.121199</td>\n",
       "      <td>0.362741</td>\n",
       "      <td>0.072131</td>\n",
       "      <td>NaN</td>\n",
       "    </tr>\n",
       "    <tr>\n",
       "      <th>4</th>\n",
       "      <td>0.751136</td>\n",
       "      <td>-0.787819</td>\n",
       "      <td>1.925311</td>\n",
       "      <td>NaN</td>\n",
       "      <td>1.329777</td>\n",
       "    </tr>\n",
       "    <tr>\n",
       "      <th>5</th>\n",
       "      <td>NaN</td>\n",
       "      <td>NaN</td>\n",
       "      <td>-0.287618</td>\n",
       "      <td>0.926628</td>\n",
       "      <td>NaN</td>\n",
       "    </tr>\n",
       "    <tr>\n",
       "      <th>6</th>\n",
       "      <td>1.026931</td>\n",
       "      <td>-0.675588</td>\n",
       "      <td>NaN</td>\n",
       "      <td>NaN</td>\n",
       "      <td>NaN</td>\n",
       "    </tr>\n",
       "    <tr>\n",
       "      <th>7</th>\n",
       "      <td>0.534427</td>\n",
       "      <td>0.683678</td>\n",
       "      <td>-0.860848</td>\n",
       "      <td>-1.240771</td>\n",
       "      <td>0.493723</td>\n",
       "    </tr>\n",
       "    <tr>\n",
       "      <th>8</th>\n",
       "      <td>NaN</td>\n",
       "      <td>0.490084</td>\n",
       "      <td>-0.728208</td>\n",
       "      <td>0.660641</td>\n",
       "      <td>NaN</td>\n",
       "    </tr>\n",
       "    <tr>\n",
       "      <th>9</th>\n",
       "      <td>0.480244</td>\n",
       "      <td>0.901406</td>\n",
       "      <td>1.329765</td>\n",
       "      <td>1.328672</td>\n",
       "      <td>-0.085088</td>\n",
       "    </tr>\n",
       "  </tbody>\n",
       "</table>\n",
       "</div>"
      ],
      "text/plain": [
       "         x1        x2        x3        x4        x5\n",
       "0       NaN -1.049925 -0.367390 -1.275708  0.642827\n",
       "1 -1.365501  1.388988  0.949546 -0.013575  1.308596\n",
       "2  2.222779 -0.956345  0.132482 -0.197584 -0.457551\n",
       "3  1.223125  2.121199  0.362741  0.072131       NaN\n",
       "4  0.751136 -0.787819  1.925311       NaN  1.329777\n",
       "5       NaN       NaN -0.287618  0.926628       NaN\n",
       "6  1.026931 -0.675588       NaN       NaN       NaN\n",
       "7  0.534427  0.683678 -0.860848 -1.240771  0.493723\n",
       "8       NaN  0.490084 -0.728208  0.660641       NaN\n",
       "9  0.480244  0.901406  1.329765  1.328672 -0.085088"
      ]
     },
     "execution_count": 24,
     "metadata": {},
     "output_type": "execute_result"
    }
   ],
   "source": [
    "test1_data"
   ]
  },
  {
   "cell_type": "markdown",
   "metadata": {},
   "source": [
    "## Test 1.1 Covariance Missing data, skip missing rows"
   ]
  },
  {
   "cell_type": "code",
   "execution_count": 32,
   "metadata": {},
   "outputs": [],
   "source": [
    "test1_cov = test1_data.dropna().cov()"
   ]
  },
  {
   "cell_type": "code",
   "execution_count": 36,
   "metadata": {},
   "outputs": [],
   "source": [
    "test_1_1_vals = pd.read_csv(\"testfiles/data/testout_1.1.csv\")\n",
    "error_epsilon = 1e-12\n",
    "for i in range(len(test1_cov)):\n",
    "    for j in range(len(test1_cov.columns)):\n",
    "        assert abs(test1_cov.iloc[i,j] - test_1_1_vals.iloc[i,j]) < error_epsilon, f\"row {i} and column {j} of the data do not match\""
   ]
  },
  {
   "cell_type": "markdown",
   "metadata": {},
   "source": [
    "## Test 1.2 Correlation Missing data, skip missing rows"
   ]
  },
  {
   "cell_type": "code",
   "execution_count": 34,
   "metadata": {},
   "outputs": [],
   "source": [
    "test1_corr = test1_data.dropna().corr()"
   ]
  },
  {
   "cell_type": "code",
   "execution_count": 35,
   "metadata": {},
   "outputs": [],
   "source": [
    "test_1_2_vals = pd.read_csv(\"testfiles/data/testout_1.2.csv\")\n",
    "error_epsilon = 1e-12\n",
    "for i in range(len(test1_corr)):\n",
    "    for j in range(len(test1_corr.columns)):\n",
    "        assert abs(test1_corr.iloc[i,j] - test_1_2_vals.iloc[i,j]) < error_epsilon, f\"row {i} and column {j} of the data do not match\""
   ]
  },
  {
   "cell_type": "markdown",
   "metadata": {},
   "source": [
    "## Test 1.3 Covariance Missing Data, Pairwise"
   ]
  },
  {
   "cell_type": "code",
   "execution_count": 37,
   "metadata": {},
   "outputs": [],
   "source": [
    "test1_cov_missing = test1_data.cov()"
   ]
  },
  {
   "cell_type": "code",
   "execution_count": 40,
   "metadata": {},
   "outputs": [],
   "source": [
    "test_1_3_vals = pd.read_csv(\"testfiles/data/testout_1.3.csv\")\n",
    "error_epsilon = 1e-12\n",
    "for i in range(len(test1_cov_missing)):\n",
    "    for j in range(len(test1_cov_missing.columns)):\n",
    "        assert abs(test1_cov_missing.iloc[i,j] - test_1_3_vals.iloc[i,j]) < error_epsilon, f\"row {i} and column {j} of the data do not match\""
   ]
  },
  {
   "cell_type": "markdown",
   "metadata": {},
   "source": [
    "## Test 1.4 Correlation Missing Data, Pairwise"
   ]
  },
  {
   "cell_type": "code",
   "execution_count": 42,
   "metadata": {},
   "outputs": [],
   "source": [
    "test1_corr_missing = test1_data.corr()"
   ]
  },
  {
   "cell_type": "code",
   "execution_count": 44,
   "metadata": {},
   "outputs": [],
   "source": [
    "test_1_4_vals = pd.read_csv(\"testfiles/data/testout_1.4.csv\")\n",
    "error_epsilon = 1e-12\n",
    "for i in range(len(test1_corr_missing)):\n",
    "    for j in range(len(test1_corr_missing.columns)):\n",
    "        assert abs(test1_corr_missing.iloc[i,j] - test_1_4_vals.iloc[i,j]) < error_epsilon, f\"row {i} and column {j} of the data do not match\""
   ]
  },
  {
   "cell_type": "markdown",
   "metadata": {},
   "source": [
    "## Test 2.1 EW Covariance, lambda=0.97"
   ]
  },
  {
   "cell_type": "code",
   "execution_count": 45,
   "metadata": {},
   "outputs": [],
   "source": [
    "test2_data = pd.read_csv(\"testfiles/data/test2.csv\")"
   ]
  },
  {
   "cell_type": "code",
   "execution_count": 83,
   "metadata": {},
   "outputs": [],
   "source": [
    "lambda_= 0.97\n",
    "ewm_cov = test2_data.ewm(alpha = (1-lambda_),).cov(bias=True)\n",
    "last_ewm_cov_matrix = ewm_cov.loc[ewm_cov.index.get_level_values(0).max()]"
   ]
  },
  {
   "cell_type": "code",
   "execution_count": 86,
   "metadata": {},
   "outputs": [
    {
     "data": {
      "text/html": [
       "<div>\n",
       "<style scoped>\n",
       "    .dataframe tbody tr th:only-of-type {\n",
       "        vertical-align: middle;\n",
       "    }\n",
       "\n",
       "    .dataframe tbody tr th {\n",
       "        vertical-align: top;\n",
       "    }\n",
       "\n",
       "    .dataframe thead th {\n",
       "        text-align: right;\n",
       "    }\n",
       "</style>\n",
       "<table border=\"1\" class=\"dataframe\">\n",
       "  <thead>\n",
       "    <tr style=\"text-align: right;\">\n",
       "      <th></th>\n",
       "      <th></th>\n",
       "      <th>x1</th>\n",
       "      <th>x2</th>\n",
       "      <th>x3</th>\n",
       "      <th>x4</th>\n",
       "      <th>x5</th>\n",
       "    </tr>\n",
       "  </thead>\n",
       "  <tbody>\n",
       "    <tr>\n",
       "      <th rowspan=\"5\" valign=\"top\">0</th>\n",
       "      <th>x1</th>\n",
       "      <td>0.000000</td>\n",
       "      <td>0.000000</td>\n",
       "      <td>0.000000</td>\n",
       "      <td>0.000000</td>\n",
       "      <td>0.000000</td>\n",
       "    </tr>\n",
       "    <tr>\n",
       "      <th>x2</th>\n",
       "      <td>0.000000</td>\n",
       "      <td>0.000000</td>\n",
       "      <td>0.000000</td>\n",
       "      <td>0.000000</td>\n",
       "      <td>0.000000</td>\n",
       "    </tr>\n",
       "    <tr>\n",
       "      <th>x3</th>\n",
       "      <td>0.000000</td>\n",
       "      <td>0.000000</td>\n",
       "      <td>0.000000</td>\n",
       "      <td>0.000000</td>\n",
       "      <td>0.000000</td>\n",
       "    </tr>\n",
       "    <tr>\n",
       "      <th>x4</th>\n",
       "      <td>0.000000</td>\n",
       "      <td>0.000000</td>\n",
       "      <td>0.000000</td>\n",
       "      <td>0.000000</td>\n",
       "      <td>0.000000</td>\n",
       "    </tr>\n",
       "    <tr>\n",
       "      <th>x5</th>\n",
       "      <td>0.000000</td>\n",
       "      <td>0.000000</td>\n",
       "      <td>0.000000</td>\n",
       "      <td>0.000000</td>\n",
       "      <td>0.000000</td>\n",
       "    </tr>\n",
       "    <tr>\n",
       "      <th>...</th>\n",
       "      <th>...</th>\n",
       "      <td>...</td>\n",
       "      <td>...</td>\n",
       "      <td>...</td>\n",
       "      <td>...</td>\n",
       "      <td>...</td>\n",
       "    </tr>\n",
       "    <tr>\n",
       "      <th rowspan=\"5\" valign=\"top\">39</th>\n",
       "      <th>x1</th>\n",
       "      <td>0.848630</td>\n",
       "      <td>0.120043</td>\n",
       "      <td>0.179149</td>\n",
       "      <td>0.083942</td>\n",
       "      <td>0.055432</td>\n",
       "    </tr>\n",
       "    <tr>\n",
       "      <th>x2</th>\n",
       "      <td>0.120043</td>\n",
       "      <td>1.079589</td>\n",
       "      <td>0.024682</td>\n",
       "      <td>0.115124</td>\n",
       "      <td>-0.429611</td>\n",
       "    </tr>\n",
       "    <tr>\n",
       "      <th>x3</th>\n",
       "      <td>0.179149</td>\n",
       "      <td>0.024682</td>\n",
       "      <td>0.736457</td>\n",
       "      <td>0.133765</td>\n",
       "      <td>0.069033</td>\n",
       "    </tr>\n",
       "    <tr>\n",
       "      <th>x4</th>\n",
       "      <td>0.083942</td>\n",
       "      <td>0.115124</td>\n",
       "      <td>0.133765</td>\n",
       "      <td>0.867932</td>\n",
       "      <td>0.112788</td>\n",
       "    </tr>\n",
       "    <tr>\n",
       "      <th>x5</th>\n",
       "      <td>0.055432</td>\n",
       "      <td>-0.429611</td>\n",
       "      <td>0.069033</td>\n",
       "      <td>0.112788</td>\n",
       "      <td>1.137927</td>\n",
       "    </tr>\n",
       "  </tbody>\n",
       "</table>\n",
       "<p>200 rows × 5 columns</p>\n",
       "</div>"
      ],
      "text/plain": [
       "             x1        x2        x3        x4        x5\n",
       "0  x1  0.000000  0.000000  0.000000  0.000000  0.000000\n",
       "   x2  0.000000  0.000000  0.000000  0.000000  0.000000\n",
       "   x3  0.000000  0.000000  0.000000  0.000000  0.000000\n",
       "   x4  0.000000  0.000000  0.000000  0.000000  0.000000\n",
       "   x5  0.000000  0.000000  0.000000  0.000000  0.000000\n",
       "...         ...       ...       ...       ...       ...\n",
       "39 x1  0.848630  0.120043  0.179149  0.083942  0.055432\n",
       "   x2  0.120043  1.079589  0.024682  0.115124 -0.429611\n",
       "   x3  0.179149  0.024682  0.736457  0.133765  0.069033\n",
       "   x4  0.083942  0.115124  0.133765  0.867932  0.112788\n",
       "   x5  0.055432 -0.429611  0.069033  0.112788  1.137927\n",
       "\n",
       "[200 rows x 5 columns]"
      ]
     },
     "execution_count": 86,
     "metadata": {},
     "output_type": "execute_result"
    }
   ],
   "source": [
    "ewm_cov"
   ]
  },
  {
   "cell_type": "code",
   "execution_count": 84,
   "metadata": {},
   "outputs": [
    {
     "data": {
      "text/html": [
       "<div>\n",
       "<style scoped>\n",
       "    .dataframe tbody tr th:only-of-type {\n",
       "        vertical-align: middle;\n",
       "    }\n",
       "\n",
       "    .dataframe tbody tr th {\n",
       "        vertical-align: top;\n",
       "    }\n",
       "\n",
       "    .dataframe thead th {\n",
       "        text-align: right;\n",
       "    }\n",
       "</style>\n",
       "<table border=\"1\" class=\"dataframe\">\n",
       "  <thead>\n",
       "    <tr style=\"text-align: right;\">\n",
       "      <th></th>\n",
       "      <th>x1</th>\n",
       "      <th>x2</th>\n",
       "      <th>x3</th>\n",
       "      <th>x4</th>\n",
       "      <th>x5</th>\n",
       "    </tr>\n",
       "  </thead>\n",
       "  <tbody>\n",
       "    <tr>\n",
       "      <th>x1</th>\n",
       "      <td>0.848630</td>\n",
       "      <td>0.120043</td>\n",
       "      <td>0.179149</td>\n",
       "      <td>0.083942</td>\n",
       "      <td>0.055432</td>\n",
       "    </tr>\n",
       "    <tr>\n",
       "      <th>x2</th>\n",
       "      <td>0.120043</td>\n",
       "      <td>1.079589</td>\n",
       "      <td>0.024682</td>\n",
       "      <td>0.115124</td>\n",
       "      <td>-0.429611</td>\n",
       "    </tr>\n",
       "    <tr>\n",
       "      <th>x3</th>\n",
       "      <td>0.179149</td>\n",
       "      <td>0.024682</td>\n",
       "      <td>0.736457</td>\n",
       "      <td>0.133765</td>\n",
       "      <td>0.069033</td>\n",
       "    </tr>\n",
       "    <tr>\n",
       "      <th>x4</th>\n",
       "      <td>0.083942</td>\n",
       "      <td>0.115124</td>\n",
       "      <td>0.133765</td>\n",
       "      <td>0.867932</td>\n",
       "      <td>0.112788</td>\n",
       "    </tr>\n",
       "    <tr>\n",
       "      <th>x5</th>\n",
       "      <td>0.055432</td>\n",
       "      <td>-0.429611</td>\n",
       "      <td>0.069033</td>\n",
       "      <td>0.112788</td>\n",
       "      <td>1.137927</td>\n",
       "    </tr>\n",
       "  </tbody>\n",
       "</table>\n",
       "</div>"
      ],
      "text/plain": [
       "          x1        x2        x3        x4        x5\n",
       "x1  0.848630  0.120043  0.179149  0.083942  0.055432\n",
       "x2  0.120043  1.079589  0.024682  0.115124 -0.429611\n",
       "x3  0.179149  0.024682  0.736457  0.133765  0.069033\n",
       "x4  0.083942  0.115124  0.133765  0.867932  0.112788\n",
       "x5  0.055432 -0.429611  0.069033  0.112788  1.137927"
      ]
     },
     "execution_count": 84,
     "metadata": {},
     "output_type": "execute_result"
    }
   ],
   "source": [
    "last_ewm_cov_matrix"
   ]
  },
  {
   "cell_type": "code",
   "execution_count": 85,
   "metadata": {},
   "outputs": [],
   "source": [
    "test_2_1_vals = pd.read_csv(\"testfiles/data/testout_2.1.csv\")\n",
    "error_epsilon = 1e-12\n",
    "for i in range(len(last_ewm_cov_matrix)):\n",
    "    for j in range(len(last_ewm_cov_matrix.columns)):\n",
    "        assert abs(last_ewm_cov_matrix.iloc[i,j] - test_2_1_vals.iloc[i,j]) < error_epsilon, f\"row {i} and column {j} of the data do not match\""
   ]
  },
  {
   "cell_type": "markdown",
   "metadata": {},
   "source": [
    "## Test 2.2 EW Correlation, lambda=0.94"
   ]
  },
  {
   "cell_type": "code",
   "execution_count": 87,
   "metadata": {},
   "outputs": [],
   "source": [
    "lambda_= 0.94\n",
    "ewm_corr = test2_data.ewm(alpha = (1-lambda_),).corr()\n",
    "last_ewm_corr_matrix = ewm_corr.loc[ewm_corr.index.get_level_values(0).max()]"
   ]
  },
  {
   "cell_type": "code",
   "execution_count": 88,
   "metadata": {},
   "outputs": [
    {
     "data": {
      "text/html": [
       "<div>\n",
       "<style scoped>\n",
       "    .dataframe tbody tr th:only-of-type {\n",
       "        vertical-align: middle;\n",
       "    }\n",
       "\n",
       "    .dataframe tbody tr th {\n",
       "        vertical-align: top;\n",
       "    }\n",
       "\n",
       "    .dataframe thead th {\n",
       "        text-align: right;\n",
       "    }\n",
       "</style>\n",
       "<table border=\"1\" class=\"dataframe\">\n",
       "  <thead>\n",
       "    <tr style=\"text-align: right;\">\n",
       "      <th></th>\n",
       "      <th>x1</th>\n",
       "      <th>x2</th>\n",
       "      <th>x3</th>\n",
       "      <th>x4</th>\n",
       "      <th>x5</th>\n",
       "    </tr>\n",
       "  </thead>\n",
       "  <tbody>\n",
       "    <tr>\n",
       "      <th>x1</th>\n",
       "      <td>1.000000</td>\n",
       "      <td>0.084787</td>\n",
       "      <td>0.190100</td>\n",
       "      <td>0.129045</td>\n",
       "      <td>0.070706</td>\n",
       "    </tr>\n",
       "    <tr>\n",
       "      <th>x2</th>\n",
       "      <td>0.084787</td>\n",
       "      <td>1.000000</td>\n",
       "      <td>-0.077432</td>\n",
       "      <td>0.202228</td>\n",
       "      <td>-0.442546</td>\n",
       "    </tr>\n",
       "    <tr>\n",
       "      <th>x3</th>\n",
       "      <td>0.190100</td>\n",
       "      <td>-0.077432</td>\n",
       "      <td>1.000000</td>\n",
       "      <td>0.198267</td>\n",
       "      <td>0.102093</td>\n",
       "    </tr>\n",
       "    <tr>\n",
       "      <th>x4</th>\n",
       "      <td>0.129045</td>\n",
       "      <td>0.202228</td>\n",
       "      <td>0.198267</td>\n",
       "      <td>1.000000</td>\n",
       "      <td>0.119541</td>\n",
       "    </tr>\n",
       "    <tr>\n",
       "      <th>x5</th>\n",
       "      <td>0.070706</td>\n",
       "      <td>-0.442546</td>\n",
       "      <td>0.102093</td>\n",
       "      <td>0.119541</td>\n",
       "      <td>1.000000</td>\n",
       "    </tr>\n",
       "  </tbody>\n",
       "</table>\n",
       "</div>"
      ],
      "text/plain": [
       "          x1        x2        x3        x4        x5\n",
       "x1  1.000000  0.084787  0.190100  0.129045  0.070706\n",
       "x2  0.084787  1.000000 -0.077432  0.202228 -0.442546\n",
       "x3  0.190100 -0.077432  1.000000  0.198267  0.102093\n",
       "x4  0.129045  0.202228  0.198267  1.000000  0.119541\n",
       "x5  0.070706 -0.442546  0.102093  0.119541  1.000000"
      ]
     },
     "execution_count": 88,
     "metadata": {},
     "output_type": "execute_result"
    }
   ],
   "source": [
    "last_ewm_corr_matrix"
   ]
  },
  {
   "cell_type": "code",
   "execution_count": 79,
   "metadata": {},
   "outputs": [],
   "source": [
    "test_2_2_vals = pd.read_csv(\"testfiles/data/testout_2.2.csv\")\n",
    "error_epsilon = 1e-12\n",
    "for i in range(len(last_ewm_corr_matrix)):\n",
    "    for j in range(len(last_ewm_corr_matrix.columns)):\n",
    "        assert abs(last_ewm_corr_matrix.iloc[i,j] - test_2_2_vals.iloc[i,j]) < error_epsilon, f\"row {i} and column {j} of the data do not match\""
   ]
  },
  {
   "cell_type": "markdown",
   "metadata": {},
   "source": [
    "## Test 2.3 Covariance with EW Variance (l=0.97), EW Correlation (l=0.94)"
   ]
  },
  {
   "cell_type": "code",
   "execution_count": 117,
   "metadata": {},
   "outputs": [],
   "source": [
    "lambda_= 0.97\n",
    "ewm_var = test2_data.ewm(alpha = (1-lambda_),).var(bias=True)\n",
    "std_devs = np.sqrt(ewm_var.iloc[-1])\n",
    "std_dev_products_matrix = np.outer(std_devs, std_devs)\n",
    "\n",
    "lambda_= 0.94\n",
    "ewm_corr = test2_data.ewm(alpha = (1-lambda_),).corr()\n",
    "last_ewm_corr_matrix = ewm_corr.loc[ewm_corr.index.get_level_values(0).max()]\n",
    "\n",
    "covariance_matrix = last_ewm_corr_matrix*std_dev_products_matrix"
   ]
  },
  {
   "cell_type": "code",
   "execution_count": 118,
   "metadata": {},
   "outputs": [],
   "source": [
    "test_2_3_vals = pd.read_csv(\"testfiles/data/testout_2.3.csv\")\n",
    "error_epsilon = 1e-12\n",
    "for i in range(len(covariance_matrix)):\n",
    "    for j in range(len(covariance_matrix.columns)):\n",
    "        assert abs(covariance_matrix.iloc[i,j] - test_2_3_vals.iloc[i,j]) < error_epsilon, f\"row {i} and column {j} of the data do not match\""
   ]
  },
  {
   "cell_type": "markdown",
   "metadata": {},
   "source": [
    "## Test 3.1 near_psd covariance"
   ]
  },
  {
   "cell_type": "code",
   "execution_count": 121,
   "metadata": {},
   "outputs": [
    {
     "ename": "ModuleNotFoundError",
     "evalue": "No module named 'numpy.lib.nanfunctions'",
     "output_type": "error",
     "traceback": [
      "\u001b[31m---------------------------------------------------------------------------\u001b[39m",
      "\u001b[31mModuleNotFoundError\u001b[39m                       Traceback (most recent call last)",
      "\u001b[36mCell\u001b[39m\u001b[36m \u001b[39m\u001b[32mIn[121]\u001b[39m\u001b[32m, line 1\u001b[39m\n\u001b[32m----> \u001b[39m\u001b[32m1\u001b[39m \u001b[38;5;28;01mimport\u001b[39;00m\u001b[38;5;250m \u001b[39m\u001b[34;01mpyfinance\u001b[39;00m\n",
      "\u001b[36mFile \u001b[39m\u001b[32m~/Desktop/FINTECH545/.venv/lib/python3.12/site-packages/pyfinance/__init__.py:32\u001b[39m\n\u001b[32m     29\u001b[39m __version__ = \u001b[33m'\u001b[39m\u001b[33m1.3.0\u001b[39m\u001b[33m'\u001b[39m\n\u001b[32m     31\u001b[39m \u001b[38;5;66;03m# Echoing Pandas, bring these to top-level namespace.\u001b[39;00m\n\u001b[32m---> \u001b[39m\u001b[32m32\u001b[39m \u001b[38;5;28;01mfrom\u001b[39;00m\u001b[38;5;250m \u001b[39m\u001b[34;01m.\u001b[39;00m\u001b[34;01mreturns\u001b[39;00m\u001b[38;5;250m \u001b[39m\u001b[38;5;28;01mimport\u001b[39;00m TFrame, TSeries  \u001b[38;5;66;03m# noqa\u001b[39;00m\n",
      "\u001b[36mFile \u001b[39m\u001b[32m~/Desktop/FINTECH545/.venv/lib/python3.12/site-packages/pyfinance/returns.py:31\u001b[39m\n\u001b[32m     28\u001b[39m \u001b[38;5;28;01mfrom\u001b[39;00m\u001b[38;5;250m \u001b[39m\u001b[34;01mnumbers\u001b[39;00m\u001b[38;5;250m \u001b[39m\u001b[38;5;28;01mimport\u001b[39;00m Number\n\u001b[32m     30\u001b[39m \u001b[38;5;28;01mimport\u001b[39;00m\u001b[38;5;250m \u001b[39m\u001b[34;01mnumpy\u001b[39;00m\u001b[38;5;250m \u001b[39m\u001b[38;5;28;01mas\u001b[39;00m\u001b[38;5;250m \u001b[39m\u001b[34;01mnp\u001b[39;00m\n\u001b[32m---> \u001b[39m\u001b[32m31\u001b[39m \u001b[38;5;28;01mfrom\u001b[39;00m\u001b[38;5;250m \u001b[39m\u001b[34;01mnumpy\u001b[39;00m\u001b[34;01m.\u001b[39;00m\u001b[34;01mlib\u001b[39;00m\u001b[34;01m.\u001b[39;00m\u001b[34;01mnanfunctions\u001b[39;00m\u001b[38;5;250m \u001b[39m\u001b[38;5;28;01mimport\u001b[39;00m (\n\u001b[32m     32\u001b[39m     nanmin,\n\u001b[32m     33\u001b[39m     nansum,\n\u001b[32m     34\u001b[39m     nanprod,\n\u001b[32m     35\u001b[39m     nancumsum,\n\u001b[32m     36\u001b[39m     nancumprod,\n\u001b[32m     37\u001b[39m     nanmean,\n\u001b[32m     38\u001b[39m     nanstd,\n\u001b[32m     39\u001b[39m )\n\u001b[32m     40\u001b[39m \u001b[38;5;28;01mimport\u001b[39;00m\u001b[38;5;250m \u001b[39m\u001b[34;01mpandas\u001b[39;00m\u001b[38;5;250m \u001b[39m\u001b[38;5;28;01mas\u001b[39;00m\u001b[38;5;250m \u001b[39m\u001b[34;01mpd\u001b[39;00m\n\u001b[32m     42\u001b[39m \u001b[38;5;28;01mfrom\u001b[39;00m\u001b[38;5;250m \u001b[39m\u001b[34;01mpyfinance\u001b[39;00m\u001b[38;5;250m \u001b[39m\u001b[38;5;28;01mimport\u001b[39;00m ols, utils\n",
      "\u001b[31mModuleNotFoundError\u001b[39m: No module named 'numpy.lib.nanfunctions'"
     ]
    }
   ],
   "source": [
    "import pyfinance"
   ]
  },
  {
   "cell_type": "code",
   "execution_count": null,
   "metadata": {},
   "outputs": [],
   "source": [
    "data_3_1_vals = pd.read_csv(\"testfiles/data/testout_1.3.csv\")"
   ]
  },
  {
   "cell_type": "code",
   "execution_count": 119,
   "metadata": {},
   "outputs": [],
   "source": [
    "test_3_1_vals = pd.read_csv(\"testfiles/data/testout_3.1.csv\")"
   ]
  },
  {
   "cell_type": "markdown",
   "metadata": {},
   "source": [
    "## Test 3.3 Higham Covariance"
   ]
  },
  {
   "cell_type": "code",
   "execution_count": null,
   "metadata": {},
   "outputs": [],
   "source": []
  },
  {
   "cell_type": "markdown",
   "metadata": {},
   "source": [
    "## Test 6.1 Calculate Arithmetic Returns"
   ]
  },
  {
   "cell_type": "code",
   "execution_count": 144,
   "metadata": {},
   "outputs": [],
   "source": [
    "test_6_data = pd.read_csv(\"testfiles/data/test6.csv\")\n",
    "test_6_data = test_6_data.set_index(\"Date\")"
   ]
  },
  {
   "cell_type": "code",
   "execution_count": 149,
   "metadata": {},
   "outputs": [],
   "source": [
    "arithmetic_returns = test_6_data.pct_change().dropna()"
   ]
  },
  {
   "cell_type": "code",
   "execution_count": 153,
   "metadata": {},
   "outputs": [],
   "source": [
    "test_6_1_vals = pd.read_csv(\"testfiles/data/testout6_1.csv\")\n",
    "test_6_1_vals = test_6_1_vals.set_index(\"Date\")\n",
    "error_epsilon = 1e-12\n",
    "\n",
    "for i in range(len(arithmetic_returns)):\n",
    "    for j in range(len(arithmetic_returns.columns)):\n",
    "        assert abs(arithmetic_returns.iloc[i,j] - test_6_1_vals.iloc[i,j]) < error_epsilon, f\"row {i} and column {j} of the data do not match\""
   ]
  },
  {
   "cell_type": "markdown",
   "metadata": {},
   "source": [
    "## Test 6.2 Calculate Log Returns"
   ]
  },
  {
   "cell_type": "code",
   "execution_count": 167,
   "metadata": {},
   "outputs": [],
   "source": [
    "log_returns = np.log(test_6_data / test_6_data.shift(1)) # log(Pt / Pt-1)\n",
    "log_returns = log_returns.dropna()"
   ]
  },
  {
   "cell_type": "code",
   "execution_count": 168,
   "metadata": {},
   "outputs": [],
   "source": [
    "test_6_2_vals = pd.read_csv(\"testfiles/data/testout6_2.csv\")\n",
    "test_6_2_vals = test_6_2_vals.set_index(\"Date\")\n",
    "error_epsilon = 1e-12\n",
    "\n",
    "for i in range(len(arithmetic_returns)):\n",
    "    for j in range(len(arithmetic_returns.columns)):\n",
    "        assert abs(log_returns.iloc[i,j] - test_6_2_vals.iloc[i,j]) < error_epsilon, f\"row {i} and column {j} of the data do not match\""
   ]
  }
 ],
 "metadata": {
  "kernelspec": {
   "display_name": "Python 3.12.7 ('.venv': venv)",
   "language": "python",
   "name": "python3"
  },
  "language_info": {
   "codemirror_mode": {
    "name": "ipython",
    "version": 3
   },
   "file_extension": ".py",
   "mimetype": "text/x-python",
   "name": "python",
   "nbconvert_exporter": "python",
   "pygments_lexer": "ipython3",
   "version": "3.12.7"
  },
  "orig_nbformat": 4,
  "vscode": {
   "interpreter": {
    "hash": "536fca8a70b20dc309c68387fb4322ec0bd98e3a90262e6704560667c02e5263"
   }
  }
 },
 "nbformat": 4,
 "nbformat_minor": 2
}
