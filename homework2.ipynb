{
 "cells": [
  {
   "cell_type": "code",
   "execution_count": 1,
   "metadata": {},
   "outputs": [],
   "source": [
    "import pandas as pd\n",
    "import numpy as np"
   ]
  },
  {
   "cell_type": "code",
   "execution_count": 2,
   "metadata": {},
   "outputs": [],
   "source": [
    "def check_matrix_correctness(input_matrix: pd.DataFrame, test_matrix:pd.DataFrame, error_epsilon = 1e-12):\n",
    "    assert input_matrix.shape == test_matrix.shape, \"Input matrix and test matrix have different shapes\"\n",
    "    for i in range(len(input_matrix)):\n",
    "        for j in range(len(input_matrix.columns)):\n",
    "            assert abs(input_matrix.iloc[i,j] - test_matrix.iloc[i,j]) < error_epsilon, f\"row {i} and column {j} of the data do not match\"\n",
    "    \n",
    "    return True"
   ]
  },
  {
   "cell_type": "markdown",
   "metadata": {},
   "source": [
    "## Test 1.1 Covariance Missing data, skip missing rows"
   ]
  },
  {
   "cell_type": "code",
   "execution_count": 24,
   "metadata": {},
   "outputs": [],
   "source": [
    "test1_cov = test1_data.dropna().cov()"
   ]
  },
  {
   "cell_type": "code",
   "execution_count": 25,
   "metadata": {},
   "outputs": [
    {
     "data": {
      "text/html": [
       "<div>\n",
       "<style scoped>\n",
       "    .dataframe tbody tr th:only-of-type {\n",
       "        vertical-align: middle;\n",
       "    }\n",
       "\n",
       "    .dataframe tbody tr th {\n",
       "        vertical-align: top;\n",
       "    }\n",
       "\n",
       "    .dataframe thead th {\n",
       "        text-align: right;\n",
       "    }\n",
       "</style>\n",
       "<table border=\"1\" class=\"dataframe\">\n",
       "  <thead>\n",
       "    <tr style=\"text-align: right;\">\n",
       "      <th></th>\n",
       "      <th>x1</th>\n",
       "      <th>x2</th>\n",
       "      <th>x3</th>\n",
       "      <th>x4</th>\n",
       "      <th>x5</th>\n",
       "    </tr>\n",
       "  </thead>\n",
       "  <tbody>\n",
       "    <tr>\n",
       "      <th>x1</th>\n",
       "      <td>2.148513</td>\n",
       "      <td>-1.389470</td>\n",
       "      <td>-0.516466</td>\n",
       "      <td>-0.129327</td>\n",
       "      <td>-1.056814</td>\n",
       "    </tr>\n",
       "    <tr>\n",
       "      <th>x2</th>\n",
       "      <td>-1.389470</td>\n",
       "      <td>1.035342</td>\n",
       "      <td>0.339993</td>\n",
       "      <td>0.193888</td>\n",
       "      <td>0.626876</td>\n",
       "    </tr>\n",
       "    <tr>\n",
       "      <th>x3</th>\n",
       "      <td>-0.516466</td>\n",
       "      <td>0.339993</td>\n",
       "      <td>0.942388</td>\n",
       "      <td>0.947887</td>\n",
       "      <td>0.051788</td>\n",
       "    </tr>\n",
       "    <tr>\n",
       "      <th>x4</th>\n",
       "      <td>-0.129327</td>\n",
       "      <td>0.193888</td>\n",
       "      <td>0.947887</td>\n",
       "      <td>1.113436</td>\n",
       "      <td>-0.204731</td>\n",
       "    </tr>\n",
       "    <tr>\n",
       "      <th>x5</th>\n",
       "      <td>-1.056814</td>\n",
       "      <td>0.626876</td>\n",
       "      <td>0.051788</td>\n",
       "      <td>-0.204731</td>\n",
       "      <td>0.592027</td>\n",
       "    </tr>\n",
       "  </tbody>\n",
       "</table>\n",
       "</div>"
      ],
      "text/plain": [
       "          x1        x2        x3        x4        x5\n",
       "x1  2.148513 -1.389470 -0.516466 -0.129327 -1.056814\n",
       "x2 -1.389470  1.035342  0.339993  0.193888  0.626876\n",
       "x3 -0.516466  0.339993  0.942388  0.947887  0.051788\n",
       "x4 -0.129327  0.193888  0.947887  1.113436 -0.204731\n",
       "x5 -1.056814  0.626876  0.051788 -0.204731  0.592027"
      ]
     },
     "execution_count": 25,
     "metadata": {},
     "output_type": "execute_result"
    }
   ],
   "source": [
    "test1_cov"
   ]
  },
  {
   "cell_type": "code",
   "execution_count": 185,
   "metadata": {},
   "outputs": [
    {
     "data": {
      "text/plain": [
       "True"
      ]
     },
     "execution_count": 185,
     "metadata": {},
     "output_type": "execute_result"
    }
   ],
   "source": [
    "test_1_1_vals = pd.read_csv(\"testfiles/data/testout_1.1.csv\")\n",
    "check_matrix_correctness(test1_cov, test_1_1_vals, error_epsilon=1e-12)"
   ]
  },
  {
   "cell_type": "markdown",
   "metadata": {},
   "source": [
    "## Test 1.2 Correlation Missing data, skip missing rows"
   ]
  },
  {
   "cell_type": "code",
   "execution_count": 34,
   "metadata": {},
   "outputs": [],
   "source": [
    "test1_corr = test1_data.dropna().corr()"
   ]
  },
  {
   "cell_type": "code",
   "execution_count": 186,
   "metadata": {},
   "outputs": [
    {
     "data": {
      "text/plain": [
       "True"
      ]
     },
     "execution_count": 186,
     "metadata": {},
     "output_type": "execute_result"
    }
   ],
   "source": [
    "test_1_2_vals = pd.read_csv(\"testfiles/data/testout_1.2.csv\")\n",
    "check_matrix_correctness(test1_corr, test_1_2_vals, error_epsilon=1e-12)"
   ]
  },
  {
   "cell_type": "markdown",
   "metadata": {},
   "source": [
    "## Test 1.3 Covariance Missing Data, Pairwise"
   ]
  },
  {
   "cell_type": "code",
   "execution_count": 37,
   "metadata": {},
   "outputs": [],
   "source": [
    "test1_cov_missing = test1_data.cov()"
   ]
  },
  {
   "cell_type": "code",
   "execution_count": 187,
   "metadata": {},
   "outputs": [
    {
     "data": {
      "text/plain": [
       "True"
      ]
     },
     "execution_count": 187,
     "metadata": {},
     "output_type": "execute_result"
    }
   ],
   "source": [
    "test_1_3_vals = pd.read_csv(\"testfiles/data/testout_1.3.csv\")\n",
    "check_matrix_correctness(test1_cov_missing, test_1_3_vals, error_epsilon=1e-12)"
   ]
  },
  {
   "cell_type": "markdown",
   "metadata": {},
   "source": [
    "## Test 1.4 Correlation Missing Data, Pairwise"
   ]
  },
  {
   "cell_type": "code",
   "execution_count": 14,
   "metadata": {},
   "outputs": [],
   "source": [
    "test1_corr_missing = test1_data.corr()"
   ]
  },
  {
   "cell_type": "code",
   "execution_count": 15,
   "metadata": {},
   "outputs": [
    {
     "ename": "NameError",
     "evalue": "name 'check_matrix_correctness' is not defined",
     "output_type": "error",
     "traceback": [
      "\u001b[31m---------------------------------------------------------------------------\u001b[39m",
      "\u001b[31mNameError\u001b[39m                                 Traceback (most recent call last)",
      "\u001b[36mCell\u001b[39m\u001b[36m \u001b[39m\u001b[32mIn[15]\u001b[39m\u001b[32m, line 2\u001b[39m\n\u001b[32m      1\u001b[39m test_1_4_vals = pd.read_csv(\u001b[33m\"\u001b[39m\u001b[33mtestfiles/data/testout_1.4.csv\u001b[39m\u001b[33m\"\u001b[39m)\n\u001b[32m----> \u001b[39m\u001b[32m2\u001b[39m \u001b[43mcheck_matrix_correctness\u001b[49m(test1_corr_missing, test_1_4_vals)\n",
      "\u001b[31mNameError\u001b[39m: name 'check_matrix_correctness' is not defined"
     ]
    }
   ],
   "source": [
    "test_1_4_vals = pd.read_csv(\"testfiles/data/testout_1.4.csv\")\n",
    "check_matrix_correctness(test1_corr_missing, test_1_4_vals)"
   ]
  },
  {
   "cell_type": "code",
   "execution_count": null,
   "metadata": {},
   "outputs": [],
   "source": [
    "def compute_correlation(x:pd.DataFrame, drop_missing = False):\n",
    "    if drop_missing:\n",
    "        return x.dropna().corr()\n",
    "    else:\n",
    "        return x.corr()\n",
    "\n",
    "def compute_covariance(x:pd.DataFrame, drop_missing = False):\n",
    "    if drop_missing:\n",
    "        return x.dropna().cov()\n",
    "    else:\n",
    "        return x.cov()"
   ]
  },
  {
   "cell_type": "markdown",
   "metadata": {},
   "source": [
    "## Test 2.1 EW Covariance, lambda=0.97"
   ]
  },
  {
   "cell_type": "code",
   "execution_count": null,
   "metadata": {},
   "outputs": [],
   "source": [
    "test2_data = pd.read_csv(\"testfiles/data/test2.csv\")"
   ]
  },
  {
   "cell_type": "code",
   "execution_count": null,
   "metadata": {},
   "outputs": [],
   "source": [
    "lambda_= 0.97\n",
    "ewm_cov = test2_data.ewm(alpha = (1-lambda_),).cov(bias=True)\n",
    "last_ewm_cov_matrix = ewm_cov.loc[ewm_cov.index.get_level_values(0).max()]"
   ]
  },
  {
   "cell_type": "code",
   "execution_count": null,
   "metadata": {},
   "outputs": [
    {
     "data": {
      "text/plain": [
       "True"
      ]
     },
     "execution_count": 189,
     "metadata": {},
     "output_type": "execute_result"
    }
   ],
   "source": [
    "test_2_1_vals = pd.read_csv(\"testfiles/data/testout_2.1.csv\")\n",
    "check_matrix_correctness(last_ewm_cov_matrix, test_2_1_vals, error_epsilon=1e-12)"
   ]
  },
  {
   "cell_type": "markdown",
   "metadata": {},
   "source": [
    "## Test 2.2 EW Correlation, lambda=0.94"
   ]
  },
  {
   "cell_type": "code",
   "execution_count": 87,
   "metadata": {},
   "outputs": [],
   "source": [
    "lambda_= 0.94\n",
    "ewm_corr = test2_data.ewm(alpha = (1-lambda_),).corr()\n",
    "last_ewm_corr_matrix = ewm_corr.loc[ewm_corr.index.get_level_values(0).max()]"
   ]
  },
  {
   "cell_type": "code",
   "execution_count": 190,
   "metadata": {},
   "outputs": [
    {
     "data": {
      "text/plain": [
       "True"
      ]
     },
     "execution_count": 190,
     "metadata": {},
     "output_type": "execute_result"
    }
   ],
   "source": [
    "test_2_2_vals = pd.read_csv(\"testfiles/data/testout_2.2.csv\")\n",
    "check_matrix_correctness(last_ewm_corr_matrix, test_2_2_vals, error_epsilon=1e-12)"
   ]
  },
  {
   "cell_type": "markdown",
   "metadata": {},
   "source": [
    "## Test 2.3 Covariance with EW Variance (l=0.97), EW Correlation (l=0.94)"
   ]
  },
  {
   "cell_type": "code",
   "execution_count": 117,
   "metadata": {},
   "outputs": [],
   "source": [
    "lambda_= 0.97\n",
    "ewm_var = test2_data.ewm(alpha = (1-lambda_),).var(bias=True)\n",
    "std_devs = np.sqrt(ewm_var.iloc[-1])\n",
    "std_dev_products_matrix = np.outer(std_devs, std_devs)\n",
    "\n",
    "lambda_= 0.94\n",
    "ewm_corr = test2_data.ewm(alpha = (1-lambda_),).corr()\n",
    "last_ewm_corr_matrix = ewm_corr.loc[ewm_corr.index.get_level_values(0).max()]\n",
    "\n",
    "covariance_matrix = last_ewm_corr_matrix*std_dev_products_matrix"
   ]
  },
  {
   "cell_type": "code",
   "execution_count": 191,
   "metadata": {},
   "outputs": [
    {
     "data": {
      "text/plain": [
       "True"
      ]
     },
     "execution_count": 191,
     "metadata": {},
     "output_type": "execute_result"
    }
   ],
   "source": [
    "test_2_3_vals = pd.read_csv(\"testfiles/data/testout_2.3.csv\")\n",
    "check_matrix_correctness(covariance_matrix, test_2_3_vals, error_epsilon=1e-12)"
   ]
  },
  {
   "cell_type": "markdown",
   "metadata": {},
   "source": [
    "## Test 3.1 near_psd covariance"
   ]
  },
  {
   "cell_type": "code",
   "execution_count": 376,
   "metadata": {},
   "outputs": [],
   "source": [
    "data_3_1_vals = pd.read_csv(\"testfiles/data/testout_1.3.csv\")\n",
    "\n",
    "def near_psd(A: pd.DataFrame, epsilon = 0.0):\n",
    "\n",
    "    A = np.asarray(A)\n",
    "    n = A.shape[0]\n",
    "\n",
    "    invSD = None\n",
    "    out = A.copy()\n",
    "\n",
    "    diag_vals = np.diag(out)\n",
    "    count_ones = np.sum(np.isclose(diag_vals, 1.0))\n",
    "\n",
    "    if count_ones != n:\n",
    "        # convert covariance matrix to correlation matrix\n",
    "        stds = np.sqrt(diag_vals)\n",
    "        invSD = np.diag(1.0 / stds)\n",
    "        out = invSD @ out @ invSD\n",
    "\n",
    "    # out, invSD = convert_covariance_to_correlation(out, n)\n",
    "\n",
    "    # svd\n",
    "    eigenvalues, eigenvectors  = np.linalg.eigh(out)\n",
    "    eigenvalues = np.maximum(eigenvalues, epsilon)\n",
    "\n",
    "    T = 1.0 / ((eigenvectors ** 2) @ eigenvalues)\n",
    "    T = np.diag(np.sqrt(T))\n",
    "\n",
    "    l = np.diag(np.sqrt(eigenvalues))\n",
    "\n",
    "    B = T @ eigenvectors @ l\n",
    "\n",
    "    out = B @ B.T\n",
    "\n",
    "    # Add back the variance if invSD was set earlier\n",
    "    if invSD is not None:\n",
    "        stds = 1.0 / np.diag(invSD)\n",
    "        SD = np.diag(stds)\n",
    "        out = SD @ out @ SD\n",
    "        # out = invSD @ out @ invSD\n",
    "    \n",
    "    return out"
   ]
  },
  {
   "cell_type": "code",
   "execution_count": 377,
   "metadata": {},
   "outputs": [],
   "source": [
    "near_psd_covariance = pd.DataFrame(near_psd(data_3_1_vals, epsilon=0))"
   ]
  },
  {
   "cell_type": "code",
   "execution_count": 336,
   "metadata": {},
   "outputs": [
    {
     "data": {
      "text/plain": [
       "True"
      ]
     },
     "execution_count": 336,
     "metadata": {},
     "output_type": "execute_result"
    }
   ],
   "source": [
    "test_3_1_vals = pd.read_csv(\"testfiles/data/testout_3.1.csv\")\n",
    "check_matrix_correctness(near_psd_covariance, test_3_1_vals, error_epsilon=1e-8)"
   ]
  },
  {
   "cell_type": "markdown",
   "metadata": {},
   "source": [
    "## Test 3.2 near_psd correlation"
   ]
  },
  {
   "cell_type": "code",
   "execution_count": 340,
   "metadata": {},
   "outputs": [
    {
     "data": {
      "text/plain": [
       "True"
      ]
     },
     "execution_count": 340,
     "metadata": {},
     "output_type": "execute_result"
    }
   ],
   "source": [
    "data_3_2_vals = pd.read_csv(\"testfiles/data/testout_1.4.csv\")\n",
    "near_psd_correlation = pd.DataFrame(near_psd(data_3_2_vals, epsilon=0))\n",
    "test_3_2_vals = pd.read_csv(\"testfiles/data/testout_3.2.csv\")\n",
    "check_matrix_correctness(near_psd_correlation, test_3_2_vals, error_epsilon=1e-8)"
   ]
  },
  {
   "cell_type": "markdown",
   "metadata": {},
   "source": [
    "## Test 3.3 Higham Covariance"
   ]
  },
  {
   "cell_type": "code",
   "execution_count": 406,
   "metadata": {},
   "outputs": [],
   "source": [
    "def higham_covariance(A: pd.DataFrame, tolerance = 1e-8, max_iterations= 100_000):\n",
    "\n",
    "    def P_u(A):\n",
    "        # TODO -> could add weights\n",
    "        np.fill_diagonal(A, 1)\n",
    "        return A\n",
    "    \n",
    "    def P_s(A):\n",
    "        # TODO -> could add weights\n",
    "        eigenvalues, eigenvectors = np.linalg.eigh(A)\n",
    "        diag = np.maximum(np.diag(eigenvalues), 0)\n",
    "        A_proj = eigenvectors @ diag @ eigenvectors.T\n",
    "    \n",
    "        return A_proj\n",
    "    \n",
    "    def valid_correlation_matrix(A, tolerance):\n",
    "        # check 1 on diagonals\n",
    "        if not np.allclose(np.diag(A), 1):\n",
    "            return False\n",
    "\n",
    "        # check symmetry\n",
    "        if not np.allclose(A, A.T, atol=tolerance):\n",
    "            return False\n",
    "\n",
    "        # ensure non-negative eigenvalues\n",
    "        eigvalues = np.linalg.eigvalsh(A)\n",
    "        return np.all(eigvalues >= -tolerance)\n",
    "\n",
    "    # convert to correlation\n",
    "    A = np.asarray(A)\n",
    "    n = A.shape[0]\n",
    "\n",
    "    invSD = None\n",
    "    out = A.copy()\n",
    "\n",
    "    diag_vals = np.diag(out)\n",
    "    count_ones = np.sum(np.isclose(diag_vals, 1.0))\n",
    "\n",
    "    if count_ones != n:\n",
    "        # convert covariance matrix to correlation matrix\n",
    "        stds = np.sqrt(diag_vals)\n",
    "        invSD = np.diag(1.0 / stds)\n",
    "        out = invSD @ out @ invSD\n",
    "    \n",
    "    # start higham\n",
    "    delta_S = np.zeros_like(out)\n",
    "    Y = out.copy()\n",
    "    gamma = np.inf\n",
    "\n",
    "    for i in range(max_iterations):\n",
    "        R = Y - delta_S\n",
    "        X = P_s(R)\n",
    "        delta_S = X - R\n",
    "        Y = P_u(X)\n",
    "    \n",
    "        if valid_correlation_matrix(Y, tolerance):\n",
    "            break\n",
    "    \n",
    "    # convert back to covariance if needed\n",
    "    if invSD is not None:\n",
    "        stds = 1.0 / np.diag(invSD)\n",
    "        SD = np.diag(stds)\n",
    "        Y = SD @ Y @ SD\n",
    "        # out = invSD @ out @ invSD\n",
    "    \n",
    "    return Y #, i"
   ]
  },
  {
   "cell_type": "code",
   "execution_count": 417,
   "metadata": {},
   "outputs": [
    {
     "data": {
      "text/plain": [
       "True"
      ]
     },
     "execution_count": 417,
     "metadata": {},
     "output_type": "execute_result"
    }
   ],
   "source": [
    "data_3_3_vals = pd.read_csv(\"testfiles/data/testout_1.3.csv\")\n",
    "adjusted_cov, iteration_count = higham_covariance(data_3_3_vals, tolerance=0.0, max_iterations=1000)\n",
    "\n",
    "test_3_3_vals = pd.read_csv(\"testfiles/data/testout_3.3.csv\")\n",
    "check_matrix_correctness(pd.DataFrame(adjusted_cov), test_3_3_vals, error_epsilon=1e-9)"
   ]
  },
  {
   "cell_type": "markdown",
   "metadata": {},
   "source": [
    "## Test 3.4 Higham correlation"
   ]
  },
  {
   "cell_type": "code",
   "execution_count": 419,
   "metadata": {},
   "outputs": [],
   "source": [
    "data_3_4_vals = pd.read_csv(\"testfiles/data/testout_1.4.csv\")\n",
    "adjusted_corr, iteration_count = higham_covariance(data_3_4_vals, tolerance=0.0, max_iterations=1000)"
   ]
  },
  {
   "cell_type": "code",
   "execution_count": 422,
   "metadata": {},
   "outputs": [
    {
     "data": {
      "text/plain": [
       "True"
      ]
     },
     "execution_count": 422,
     "metadata": {},
     "output_type": "execute_result"
    }
   ],
   "source": [
    "test_3_4_vals = pd.read_csv(\"testfiles/data/testout_3.4.csv\")\n",
    "check_matrix_correctness(pd.DataFrame(adjusted_corr), test_3_4_vals, error_epsilon=1e-12)"
   ]
  },
  {
   "cell_type": "markdown",
   "metadata": {},
   "source": [
    "## Test 4.1 Cholesky PSD"
   ]
  },
  {
   "cell_type": "code",
   "execution_count": 20,
   "metadata": {},
   "outputs": [],
   "source": [
    "from numpy.linalg import cholesky"
   ]
  },
  {
   "cell_type": "code",
   "execution_count": 21,
   "metadata": {},
   "outputs": [],
   "source": [
    "data_4_1 = pd.read_csv(\"testfiles/data/testout_3.1.csv\")"
   ]
  },
  {
   "cell_type": "markdown",
   "metadata": {},
   "source": [
    "#### Package way of computing cholesky"
   ]
  },
  {
   "cell_type": "code",
   "execution_count": 23,
   "metadata": {},
   "outputs": [
    {
     "data": {
      "text/html": [
       "<div>\n",
       "<style scoped>\n",
       "    .dataframe tbody tr th:only-of-type {\n",
       "        vertical-align: middle;\n",
       "    }\n",
       "\n",
       "    .dataframe tbody tr th {\n",
       "        vertical-align: top;\n",
       "    }\n",
       "\n",
       "    .dataframe thead th {\n",
       "        text-align: right;\n",
       "    }\n",
       "</style>\n",
       "<table border=\"1\" class=\"dataframe\">\n",
       "  <thead>\n",
       "    <tr style=\"text-align: right;\">\n",
       "      <th></th>\n",
       "      <th>0</th>\n",
       "      <th>1</th>\n",
       "      <th>2</th>\n",
       "      <th>3</th>\n",
       "      <th>4</th>\n",
       "    </tr>\n",
       "  </thead>\n",
       "  <tbody>\n",
       "    <tr>\n",
       "      <th>0</th>\n",
       "      <td>1.083506</td>\n",
       "      <td>0.000000</td>\n",
       "      <td>0.000000</td>\n",
       "      <td>0.000000</td>\n",
       "      <td>0.000000e+00</td>\n",
       "    </tr>\n",
       "    <tr>\n",
       "      <th>1</th>\n",
       "      <td>-0.570360</td>\n",
       "      <td>0.996437</td>\n",
       "      <td>0.000000</td>\n",
       "      <td>0.000000</td>\n",
       "      <td>0.000000e+00</td>\n",
       "    </tr>\n",
       "    <tr>\n",
       "      <th>2</th>\n",
       "      <td>-0.262628</td>\n",
       "      <td>-0.133175</td>\n",
       "      <td>0.911807</td>\n",
       "      <td>0.000000</td>\n",
       "      <td>0.000000e+00</td>\n",
       "    </tr>\n",
       "    <tr>\n",
       "      <th>3</th>\n",
       "      <td>-0.060130</td>\n",
       "      <td>0.412871</td>\n",
       "      <td>0.431384</td>\n",
       "      <td>0.731160</td>\n",
       "      <td>0.000000e+00</td>\n",
       "    </tr>\n",
       "    <tr>\n",
       "      <th>4</th>\n",
       "      <td>-0.635240</td>\n",
       "      <td>-0.223938</td>\n",
       "      <td>0.054179</td>\n",
       "      <td>-0.256892</td>\n",
       "      <td>1.193941e-08</td>\n",
       "    </tr>\n",
       "  </tbody>\n",
       "</table>\n",
       "</div>"
      ],
      "text/plain": [
       "          0         1         2         3             4\n",
       "0  1.083506  0.000000  0.000000  0.000000  0.000000e+00\n",
       "1 -0.570360  0.996437  0.000000  0.000000  0.000000e+00\n",
       "2 -0.262628 -0.133175  0.911807  0.000000  0.000000e+00\n",
       "3 -0.060130  0.412871  0.431384  0.731160  0.000000e+00\n",
       "4 -0.635240 -0.223938  0.054179 -0.256892  1.193941e-08"
      ]
     },
     "execution_count": 23,
     "metadata": {},
     "output_type": "execute_result"
    }
   ],
   "source": [
    "chol"
   ]
  },
  {
   "cell_type": "code",
   "execution_count": 22,
   "metadata": {},
   "outputs": [
    {
     "ename": "NameError",
     "evalue": "name 'check_matrix_correctness' is not defined",
     "output_type": "error",
     "traceback": [
      "\u001b[31m---------------------------------------------------------------------------\u001b[39m",
      "\u001b[31mNameError\u001b[39m                                 Traceback (most recent call last)",
      "\u001b[36mCell\u001b[39m\u001b[36m \u001b[39m\u001b[32mIn[22]\u001b[39m\u001b[32m, line 3\u001b[39m\n\u001b[32m      1\u001b[39m chol = pd.DataFrame(cholesky(data_4_1))\n\u001b[32m      2\u001b[39m test_4_1_vals = pd.read_csv(\u001b[33m\"\u001b[39m\u001b[33mtestfiles/data/testout_4.1.csv\u001b[39m\u001b[33m\"\u001b[39m)\n\u001b[32m----> \u001b[39m\u001b[32m3\u001b[39m \u001b[43mcheck_matrix_correctness\u001b[49m(chol, test_4_1_vals, error_epsilon=\u001b[32m1e-8\u001b[39m)\n",
      "\u001b[31mNameError\u001b[39m: name 'check_matrix_correctness' is not defined"
     ]
    }
   ],
   "source": [
    "chol = pd.DataFrame(cholesky(data_4_1))\n",
    "test_4_1_vals = pd.read_csv(\"testfiles/data/testout_4.1.csv\")\n",
    "check_matrix_correctness(chol, test_4_1_vals, error_epsilon=1e-8)"
   ]
  },
  {
   "cell_type": "markdown",
   "metadata": {},
   "source": [
    "#### Manual code for computing cholesky"
   ]
  },
  {
   "cell_type": "code",
   "execution_count": 442,
   "metadata": {},
   "outputs": [],
   "source": [
    "def cholesky_psd(A:np.array, zero_tol = 1e-8):\n",
    "    assert len(A.shape) == 2, \"Matrix array must have 2 dimensions\"\n",
    "    assert A.shape[0] == A.shape[1], \"Matrix must be square\"\n",
    "\n",
    "    n = A.shape[0]\n",
    "    root = np.zeros_like(A)\n",
    "\n",
    "    for j in range(n):\n",
    "        row_sum_of_squares = root[j, :j].dot(root[j, :j])\n",
    "        diag = A[j,j] - row_sum_of_squares\n",
    "\n",
    "        # correcting for floating point errors\n",
    "        if diag <= 0 and diag >= -zero_tol:\n",
    "            diag = 0.0\n",
    "        if diag < 0:\n",
    "            raise np.linalg.LinAlgError(\"Matrix not positive semidefinite\")\n",
    "        root[j,j] = np.sqrt(diag)\n",
    "        \n",
    "        # if diag is 0, the rest of column remains 0 (do nothing)\n",
    "        # else update the rest of the column values\n",
    "        if root[j,j] != 0.0:\n",
    "            divisor = 1/root[j,j]\n",
    "            for i in range(j+1, n):\n",
    "                subvector_sum = root[i, :j].dot(root[j, :j])\n",
    "                root[i,j] = (A[i,j] - subvector_sum) * divisor\n",
    "        \n",
    "    return root\n",
    "\n",
    "\n",
    "manual_chol = cholesky_psd(np.array(data_4_1))\n"
   ]
  },
  {
   "cell_type": "code",
   "execution_count": 445,
   "metadata": {},
   "outputs": [
    {
     "data": {
      "text/plain": [
       "True"
      ]
     },
     "execution_count": 445,
     "metadata": {},
     "output_type": "execute_result"
    }
   ],
   "source": [
    "test_4_1_vals = pd.read_csv(\"testfiles/data/testout_4.1.csv\")\n",
    "check_matrix_correctness(pd.DataFrame(manual_chol), test_4_1_vals, error_epsilon=1e-8)"
   ]
  },
  {
   "cell_type": "markdown",
   "metadata": {},
   "source": [
    "## Test 6.1 Calculate Arithmetic Returns"
   ]
  },
  {
   "cell_type": "code",
   "execution_count": 144,
   "metadata": {},
   "outputs": [],
   "source": [
    "test_6_data = pd.read_csv(\"testfiles/data/test6.csv\")\n",
    "test_6_data = test_6_data.set_index(\"Date\")"
   ]
  },
  {
   "cell_type": "code",
   "execution_count": 149,
   "metadata": {},
   "outputs": [],
   "source": [
    "arithmetic_returns = test_6_data.pct_change().dropna()"
   ]
  },
  {
   "cell_type": "code",
   "execution_count": 203,
   "metadata": {},
   "outputs": [
    {
     "data": {
      "text/plain": [
       "True"
      ]
     },
     "execution_count": 203,
     "metadata": {},
     "output_type": "execute_result"
    }
   ],
   "source": [
    "test_6_1_vals = pd.read_csv(\"testfiles/data/testout6_1.csv\")\n",
    "test_6_1_vals = test_6_1_vals.set_index(\"Date\")\n",
    "check_matrix_correctness(arithmetic_returns, test_6_1_vals, error_epsilon=1e-12)"
   ]
  },
  {
   "cell_type": "markdown",
   "metadata": {},
   "source": [
    "## Test 6.2 Calculate Log Returns"
   ]
  },
  {
   "cell_type": "code",
   "execution_count": 167,
   "metadata": {},
   "outputs": [],
   "source": [
    "log_returns = np.log(test_6_data / test_6_data.shift(1)) # log(Pt / Pt-1)\n",
    "log_returns = log_returns.dropna()"
   ]
  },
  {
   "cell_type": "code",
   "execution_count": 204,
   "metadata": {},
   "outputs": [
    {
     "data": {
      "text/plain": [
       "True"
      ]
     },
     "execution_count": 204,
     "metadata": {},
     "output_type": "execute_result"
    }
   ],
   "source": [
    "test_6_2_vals = pd.read_csv(\"testfiles/data/testout6_2.csv\")\n",
    "test_6_2_vals = test_6_2_vals.set_index(\"Date\")\n",
    "check_matrix_correctness(log_returns, test_6_2_vals, error_epsilon=1e-12)"
   ]
  }
 ],
 "metadata": {
  "kernelspec": {
   "display_name": "Python 3.12.7 ('.venv': venv)",
   "language": "python",
   "name": "python3"
  },
  "language_info": {
   "codemirror_mode": {
    "name": "ipython",
    "version": 3
   },
   "file_extension": ".py",
   "mimetype": "text/x-python",
   "name": "python",
   "nbconvert_exporter": "python",
   "pygments_lexer": "ipython3",
   "version": "3.12.7"
  },
  "orig_nbformat": 4,
  "vscode": {
   "interpreter": {
    "hash": "536fca8a70b20dc309c68387fb4322ec0bd98e3a90262e6704560667c02e5263"
   }
  }
 },
 "nbformat": 4,
 "nbformat_minor": 2
}
