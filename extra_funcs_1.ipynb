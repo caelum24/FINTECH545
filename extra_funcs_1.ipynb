{
 "cells": [
  {
   "cell_type": "code",
   "execution_count": 133,
   "metadata": {},
   "outputs": [],
   "source": [
    "from scipy.stats import norm\n",
    "import numpy as np\n",
    "import matplotlib.pyplot as plt\n",
    "import pandas as pd\n",
    "import statsmodels.api as sm\n",
    "from scipy.optimize import minimize"
   ]
  },
  {
   "cell_type": "code",
   "execution_count": 68,
   "metadata": {},
   "outputs": [
    {
     "name": "stdout",
     "output_type": "stream",
     "text": [
      "7.69459862670642e-23\n"
     ]
    }
   ],
   "source": [
    "## Normal distribution\n",
    "normal_dist = norm\n",
    "# calling norm() freezes the pdf\n",
    "\n",
    "# NOTE -> this computes biased variance for these distributions\n",
    "\n",
    "x = 0\n",
    "# loc and scale can be input to any of the below functions to represent a non-standard normal\n",
    "normal_dist.pdf(x, loc=10, scale = 1) # loc = mean, scale = std\n",
    "normal_dist.cdf(x)\n",
    "normal_dist.logpdf(x)\n",
    "normal_dist.logcdf(x)\n",
    "\n",
    "# 1-cdf = sf (survival function)\n",
    "normal_dist.sf(x)\n",
    "normal_dist.logsf(x)\n",
    "\n",
    "# percent point function (inverse cdf)\n",
    "normal_dist.ppf(x)\n",
    "# isf (inverse sf)\n",
    "normal_dist.isf(x)\n",
    "\n",
    "normal_dist.moment(order=2, loc=0, scale = 1) # 0 based mean for all moments\n",
    "\n",
    "lb, ub = normal_dist.support()\n",
    "normal_dist.stats(moments=\"mvsk\") # compute mean, var, skew, kurtosis\n",
    "\n",
    "normal_dist.interval(confidence=0.5) # 50% confidence interval\n",
    "\n",
    "mean, std = norm.fit([0.4, 0.5, -0.4, -0.5]) # mean, std (population statistics)\n",
    "# print(mean, std**2)\n",
    "# expected value of a function with normal random variables as input\n",
    "ev = norm.expect(lambda x: x**4)"
   ]
  },
  {
   "cell_type": "code",
   "execution_count": 62,
   "metadata": {},
   "outputs": [],
   "source": [
    "# log normal distribution\n",
    "# everything above (same functions and all)\n",
    "from scipy.stats import lognorm\n"
   ]
  },
  {
   "cell_type": "code",
   "execution_count": 64,
   "metadata": {},
   "outputs": [],
   "source": [
    "# student's t distribution\n",
    "# everything above (same functions and all)\n",
    "from scipy.stats import t"
   ]
  },
  {
   "cell_type": "code",
   "execution_count": 92,
   "metadata": {},
   "outputs": [
    {
     "data": {
      "text/plain": [
       "np.float64(10.983241413430726)"
      ]
     },
     "execution_count": 92,
     "metadata": {},
     "output_type": "execute_result"
    }
   ],
   "source": [
    "## moment computation for datasets (mean, variance, skew, kurtosis) both biased and unbiased\n",
    "from scipy.stats import skew, kurtosis\n",
    "\n",
    "data = np.array([12, 15, 17, 18, 21, 23, 25, 29, 31, 35, 1000])\n",
    "n = len(data)\n",
    "\n",
    "mean = np.mean(data)\n",
    "var = np.var(data, ddof=1) #ddof = 0 means /n -> biased, 1 means / (n-1) -> unbiased)\n",
    "\n",
    "sk = skew(data, bias= False) # biased for population, unbiased for sample\n",
    "kurt = kurtosis(data, fisher=True, bias=False) # fisher means -3 (normal has kurt of 0) -> excess kurtosis"
   ]
  },
  {
   "cell_type": "code",
   "execution_count": 93,
   "metadata": {},
   "outputs": [
    {
     "name": "stdout",
     "output_type": "stream",
     "text": [
      "PearsonRResult(statistic=np.float64(-0.8285038835884277), pvalue=np.float64(0.021280260007523352))\n",
      "SignificanceResult(statistic=np.float64(-0.7857142857142859), pvalue=np.float64(0.03623846267982714))\n"
     ]
    }
   ],
   "source": [
    "# covariance, pearson coefficient, spearman's rank\n",
    "from scipy.stats import pearsonr, spearmanr\n",
    "\n",
    "x, y = [1, 2, 3, 4, 5, 6, 7], [10, 9, 2.5, 6, 4, 3, 2] # coefficient and 2-sided p value\n",
    "res = pearsonr(x,y)\n",
    "print(res)\n",
    "res2 = spearmanr(x,y)\n",
    "print(res2)"
   ]
  },
  {
   "cell_type": "code",
   "execution_count": 115,
   "metadata": {},
   "outputs": [
    {
     "data": {
      "text/plain": [
       "[<matplotlib.lines.Line2D at 0x144e81370>]"
      ]
     },
     "execution_count": 115,
     "metadata": {},
     "output_type": "execute_result"
    },
    {
     "data": {
      "image/png": "[encoded data removed]",
      "text/plain": [
       "<Figure size 640x480 with 1 Axes>"
      ]
     },
     "metadata": {},
     "output_type": "display_data"
    }
   ],
   "source": [
    "# conditional distributions\n",
    "from scipy.stats import multivariate_normal, multivariate_t\n",
    "\n",
    "# mean: μ1∣2​=μ1​+ Σ_12​Σ_22^−1​(x2​−μ2​)\n",
    "# covariance: Σ1∣2​=Σ11​−Σ12​Σ22^(−1)​Σ21​\n",
    "\n",
    "# mean vector and covariance\n",
    "mu = np.array([0, 0])\n",
    "cov = np.array([[1, 0.8],\n",
    "                [0.8, 2]])\n",
    "\n",
    "# Partition\n",
    "mu1, mu2 = mu[0], mu[1]\n",
    "Sigma11 = cov[0:1, 0:1]  # scalar in this case\n",
    "Sigma12 = cov[0:1, 1:2]\n",
    "Sigma21 = cov[1:2, 0:1]\n",
    "Sigma22 = cov[1:2, 1:2]\n",
    "\n",
    "x2 = np.array([5])  # observed value for X2\n",
    "\n",
    "# Conditional mean and covariance\n",
    "cond_mean = mu1 + Sigma12 @ np.linalg.inv(Sigma22) @ (x2 - mu2)\n",
    "cond_cov = Sigma11 - Sigma12 @ np.linalg.inv(Sigma22) @ Sigma21\n",
    "\n",
    "# Evaluate conditional distribution of X1|X2=x2\n",
    "x1_vals = np.linspace(-5, 5, 100)\n",
    "pdf_vals = multivariate_normal(mean=cond_mean.flatten(),\n",
    "                               cov=cond_cov).pdf(x1_vals)\n",
    "\n",
    "plt.plot(x1_vals, pdf_vals)"
   ]
  },
  {
   "cell_type": "code",
   "execution_count": 128,
   "metadata": {},
   "outputs": [],
   "source": [
    "# OLS\n",
    "data = {'X1': [1, 2, 3, 4, 5],\n",
    "        'X2': [2, 4, 5, 4, 6],\n",
    "        'Y': [3, 5, 7, 8, 10]}\n",
    "df = pd.DataFrame(data)\n",
    "\n",
    "# Define dependent and independent variables\n",
    "Y = df['Y']\n",
    "X = df[['X1', 'X2']]\n",
    "\n",
    "# Add a constant (intercept) to the independent variables\n",
    "X = sm.add_constant(X)\n",
    "\n",
    "model = sm.OLS(Y, X)\n",
    "results = model.fit()\n",
    "coefficients = results.params\n",
    "# results.aic, results.bic\n",
    "# print(results.summary())\n"
   ]
  },
  {
   "cell_type": "code",
   "execution_count": 132,
   "metadata": {},
   "outputs": [],
   "source": [
    "# MLE\n",
    "\n",
    "def log_likelihood(parameters, x):\n",
    "\n",
    "    # define function pdf using the parameters find probability\n",
    "    # density at data point x. Take the log to be able to add probabilities\n",
    "\n",
    "    # return -1 * log likelihood\n",
    "    pass\n",
    "\n",
    "\n",
    "def fit_model(init_parameters: list, x: pd.DataFrame):\n",
    "\n",
    "    # define parameter initial guesses with init_parameters\n",
    "    # get input data with x\n",
    "\n",
    "    # Minimize negative log-likelihood\n",
    "    res = minimize(log_likelihood, init_parameters, args=(x.values,),\n",
    "                bounds=[(None, None), (1e-5, None), (1e-5, None)]) # bounds are the regions to search\n",
    "\n",
    "    parameter_results = res.x\n",
    "    return parameter_results"
   ]
  },
  {
   "cell_type": "code",
   "execution_count": 134,
   "metadata": {},
   "outputs": [
    {
     "name": "stdout",
     "output_type": "stream",
     "text": [
      "Durbin-Watson statistic: 3.4262295081967205\n"
     ]
    }
   ],
   "source": [
    "# Durbin Watson\n",
    "from statsmodels.stats.stattools import durbin_watson\n",
    "\n",
    "# DW is a test to detect autocorrelation in the residuals from a statistical model or regression\n",
    "\n",
    "residuals = np.array([0.1, -0.2, 0.3, -0.1, 0.05]) # Example residuals\n",
    "dw_statistic = durbin_watson(residuals)\n",
    "print(f\"Durbin-Watson statistic: {dw_statistic}\")\n",
    "\n",
    "# Close to 2: Indicates no autocorrelation.\n",
    "# Close to 0: Indicates positive autocorrelation.\n",
    "# Close to 4: Indicates negative autocorrelation."
   ]
  },
  {
   "cell_type": "code",
   "execution_count": 137,
   "metadata": {},
   "outputs": [
    {
     "name": "stdout",
     "output_type": "stream",
     "text": [
      "R-squared: 0.6000000000000001\n",
      "Chi-square statistic: 1.0479925303454722\n",
      "p-value: 0.9586027079005394\n"
     ]
    }
   ],
   "source": [
    "# goodness of fit -> R^2, adjusted R^2, AIC, AICc, BIC, BICc\n",
    "\n",
    "# R^2\n",
    "from sklearn.linear_model import LinearRegression\n",
    "from sklearn.metrics import r2_score\n",
    "import numpy as np\n",
    "\n",
    "# Sample data\n",
    "X = np.array([1, 2, 3, 4, 5]).reshape(-1, 1)\n",
    "y = np.array([2, 4, 5, 4, 5])\n",
    "\n",
    "# Fit linear regression model\n",
    "model = LinearRegression().fit(X, y)\n",
    "\n",
    "# Calculate R-squared\n",
    "r_squared = r2_score(y, model.predict(X))\n",
    "print(f\"R-squared: {r_squared}\")\n",
    "\n",
    "# R-squared and ajdusted R-squared\n",
    "def r2(actual: np.ndarray, predicted: np.ndarray):\n",
    "    \"\"\" R2 Score \"\"\"\n",
    "    return r2_score(actual, predicted)\n",
    "\n",
    "def adjr2(actual: np.ndarray, predicted: np.ndarray, rowcount: np.int, featurecount: np.int):\n",
    "    \"\"\" R2 Score \"\"\"\n",
    "    return 1-(1-r2(actual,predicted))*(rowcount-1)/(rowcount-featurecount)\n",
    "\n",
    "# CHI^2\n",
    "from scipy.stats import chi2_contingency\n",
    "\n",
    "observed = [16, 18, 16, 14, 12, 12]\n",
    "expected = [16, 16, 16, 16, 16, 16]\n",
    "\n",
    "chi2, p_value, dof, expected = chi2_contingency([observed, expected])\n",
    "print(f\"Chi-square statistic: {chi2}\")\n",
    "print(f\"p-value: {p_value}\")"
   ]
  },
  {
   "cell_type": "code",
   "execution_count": 138,
   "metadata": {},
   "outputs": [
    {
     "name": "stdout",
     "output_type": "stream",
     "text": [
      "R²: 0.5335\n",
      "Adjusted R²: 0.5239\n",
      "AIC: 273.0542\n",
      "BIC: 280.8697\n",
      "AICc: 273.3042\n",
      "BICc: 280.9947\n"
     ]
    }
   ],
   "source": [
    "# goodness of fit with statsmodels (built into OLS)\n",
    "\n",
    "np.random.seed(0)\n",
    "X = np.random.rand(100, 2)\n",
    "y = 1 + 2*X[:,0] - 3*X[:,1] + np.random.randn(100)\n",
    "\n",
    "# Add constant for intercept\n",
    "X = sm.add_constant(X)\n",
    "\n",
    "# Fit model\n",
    "model = sm.OLS(y, X).fit()\n",
    "\n",
    "r2 = model.rsquared\n",
    "adj_r2 = model.rsquared_adj\n",
    "\n",
    "print(f\"R²: {r2:.4f}\")\n",
    "print(f\"Adjusted R²: {adj_r2:.4f}\")\n",
    "\n",
    "\n",
    "# lower aic and bic is better\n",
    "aic = model.aic\n",
    "bic = model.bic\n",
    "\n",
    "print(f\"AIC: {aic:.4f}\")\n",
    "print(f\"BIC: {bic:.4f}\")\n",
    "\n",
    "n = model.nobs\n",
    "k = model.df_model + 1  # includes intercept\n",
    "aicc = aic + (2*k*(k+1))/(n - k - 1)\n",
    "\n",
    "print(f\"AICc: {aicc:.4f}\")\n",
    "\n",
    "bicc = bic + (k*(k+1))/(n - k - 1)\n",
    "\n",
    "print(f\"BICc: {bicc:.4f}\")\n"
   ]
  }
 ],
 "metadata": {
  "kernelspec": {
   "display_name": "Python 3.12.7 ('.venv': venv)",
   "language": "python",
   "name": "python3"
  },
  "language_info": {
   "codemirror_mode": {
    "name": "ipython",
    "version": 3
   },
   "file_extension": ".py",
   "mimetype": "text/x-python",
   "name": "python",
   "nbconvert_exporter": "python",
   "pygments_lexer": "ipython3",
   "version": "3.12.7"
  },
  "orig_nbformat": 4,
  "vscode": {
   "interpreter": {
    "hash": "536fca8a70b20dc309c68387fb4322ec0bd98e3a90262e6704560667c02e5263"
   }
  }
 },
 "nbformat": 4,
 "nbformat_minor": 2
}
