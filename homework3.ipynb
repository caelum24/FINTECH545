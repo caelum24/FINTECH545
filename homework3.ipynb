{
 "cells": [
  {
   "cell_type": "code",
   "execution_count": 7,
   "metadata": {},
   "outputs": [],
   "source": [
    "import numpy as np\n",
    "import pandas as pd\n",
    "from scipy.stats import norm"
   ]
  },
  {
   "cell_type": "markdown",
   "metadata": {},
   "source": [
    "## Test 8.1 Normal VaR"
   ]
  },
  {
   "cell_type": "code",
   "execution_count": 3,
   "metadata": {},
   "outputs": [],
   "source": [
    "data_8_1 = pd.read_csv(\"testfiles/data/test7_1.csv\")"
   ]
  },
  {
   "cell_type": "code",
   "execution_count": 36,
   "metadata": {},
   "outputs": [],
   "source": [
    "# function from homework 1\n",
    "def fit_normal_dist_from_data(x: pd.DataFrame):\n",
    "    mu_vector = x.mean()\n",
    "    covariance_matrix = x.cov()\n",
    "\n",
    "    return mu_vector, covariance_matrix\n",
    "\n",
    "mu_vector, covariance_matrix = fit_normal_dist_from_data(data_8_1)\n",
    "mean, std = mu_vector.iloc[0], np.sqrt(covariance_matrix.iloc[0,0])\n",
    "\n",
    "\n",
    "def univariate_normal_VaR(x: pd.DataFrame, alpha = 0.05):\n",
    "    mu_vector, covariance_matrix = fit_normal_dist_from_data(x)\n",
    "    mean, std = mu_vector.iloc[0], np.sqrt(covariance_matrix.iloc[0,0])\n",
    "\n",
    "    abs_VaR = np.abs(norm.ppf(alpha, loc = mean, scale = std))\n",
    "    rel_VaR = np.abs(norm.ppf(alpha, loc = mean, scale = std) - mean)\n",
    "\n",
    "    return abs_VaR, rel_VaR"
   ]
  },
  {
   "cell_type": "code",
   "execution_count": 34,
   "metadata": {},
   "outputs": [],
   "source": [
    "abs_VaR, rel_VaR = univariate_normal_VaR(data_8_1, alpha = 0.05)\n",
    "test_8_1 = pd.read_csv(\"testfiles/data/testout8_1.csv\")\n",
    "assert \tabs(abs_VaR - test_8_1.loc[0, \"VaR Absolute\"]) < 1e-12, \"Absolute value at risk does not match\"\n",
    "assert \tabs(rel_VaR - test_8_1.loc[0, \"VaR Diff from Mean\"]) < 1e-12, \"Absolute value at risk does not match\""
   ]
  },
  {
   "cell_type": "markdown",
   "metadata": {},
   "source": [
    "## Test 8.2 VaR T Distribution"
   ]
  },
  {
   "cell_type": "code",
   "execution_count": 55,
   "metadata": {},
   "outputs": [
    {
     "name": "stdout",
     "output_type": "stream",
     "text": [
      "-0.04152970272060709\n"
     ]
    }
   ],
   "source": [
    "data_8_2 = pd.read_csv(\"testfiles/data/test7_2.csv\")\n",
    "\n",
    "# function from homework 1\n",
    "from scipy.stats import t\n",
    "nu, mu, sigma = t.fit(data_8_2)\n",
    "mu, sigma, nu\n",
    "alpha = 0.05\n",
    "# print(t.ppf(alpha, df = nu, loc = mu, scale = sigma))\n",
    "\n",
    "def univariate_t_VaR(x: pd.DataFrame, alpha = 0.05):\n",
    "    nu, mu, sigma = t.fit(x)\n",
    "\n",
    "    abs_VaR = abs(t.ppf(alpha, df = nu, loc = mu, scale = sigma))\n",
    "    rel_VaR = abs(t.ppf(alpha, df = nu, loc = mu, scale = sigma) - mu)\n",
    "        \n",
    "    return abs_VaR, rel_VaR"
   ]
  },
  {
   "cell_type": "code",
   "execution_count": 64,
   "metadata": {},
   "outputs": [],
   "source": [
    "data_8_2 = pd.read_csv(\"testfiles/data/test7_2.csv\")\n",
    "abs_VaR, rel_VaR = univariate_t_VaR(data_8_2, alpha = 0.05)\n",
    "\n",
    "test_8_2 = pd.read_csv(\"testfiles/data/testout8_2.csv\")\n",
    "error_epsilon = 1e-7\n",
    "assert \tabs(abs_VaR - test_8_2.loc[0, \"VaR Absolute\"]) < error_epsilon, \"Absolute value at risk does not match\"\n",
    "assert \tabs(rel_VaR - test_8_2.loc[0, \"VaR Diff from Mean\"]) < error_epsilon, \"Absolute value at risk does not match\""
   ]
  },
  {
   "cell_type": "markdown",
   "metadata": {},
   "source": [
    "## Test 8.3 VaR from Simulation"
   ]
  },
  {
   "cell_type": "code",
   "execution_count": 67,
   "metadata": {},
   "outputs": [],
   "source": [
    "data_8_3 = pd.read_csv(\"testfiles/data/test7_2.csv\")"
   ]
  },
  {
   "cell_type": "code",
   "execution_count": 79,
   "metadata": {},
   "outputs": [
    {
     "data": {
      "text/plain": [
       "np.float64(-2.1974612227789314)"
      ]
     },
     "execution_count": 79,
     "metadata": {},
     "output_type": "execute_result"
    }
   ],
   "source": [
    "np.sort(t.rvs(df=3, loc=0, scale=1, size=10, random_state=0))\n",
    "# np.floor(3.1)"
   ]
  },
  {
   "cell_type": "code",
   "execution_count": 86,
   "metadata": {},
   "outputs": [
    {
     "data": {
      "text/plain": [
       "-0.010000000000000009"
      ]
     },
     "execution_count": 86,
     "metadata": {},
     "output_type": "execute_result"
    }
   ],
   "source": [
    "0.99/1.00 - 1"
   ]
  },
  {
   "cell_type": "code",
   "execution_count": 90,
   "metadata": {},
   "outputs": [
    {
     "data": {
      "text/plain": [
       "-0.01"
      ]
     },
     "execution_count": 90,
     "metadata": {},
     "output_type": "execute_result"
    }
   ],
   "source": [
    "(-.01)* 1"
   ]
  },
  {
   "cell_type": "code",
   "execution_count": 112,
   "metadata": {},
   "outputs": [
    {
     "data": {
      "text/plain": [
       "(np.float64(0.04153711619644411), np.float64(0.08744443878072904))"
      ]
     },
     "execution_count": 112,
     "metadata": {},
     "output_type": "execute_result"
    }
   ],
   "source": [
    "# TODO\n",
    "def monte_carlo_VaR_sim(x: pd.DataFrame, n_draws, alpha = 0.05):\n",
    "\n",
    "    # mu, sigma = fit_normal_dist_from_data(x)\n",
    "    # random_returns = norm.rvs(loc=mu, scale=sigma, size = n_draws, random_state = 0)\n",
    "    nu, mu, sigma = t.fit(x)\n",
    "    random_returns = t.rvs(df=nu, loc=mu, scale=sigma, size=n_draws, random_state=0)\n",
    "\n",
    "    portfolio_value = 1\n",
    "    portfolio_values = random_returns * portfolio_value # + portfolio_value\n",
    "\n",
    "    sorted_values = np.sort(portfolio_values)\n",
    "    alpha_index = int(np.floor(alpha * n_draws))\n",
    "\n",
    "    abs_VaR = np.abs(sorted_values[alpha_index])\n",
    "    rel_VaR = np.abs(sorted_values[alpha_index] - np.mean(sorted_values))\n",
    "\n",
    "    return abs_VaR, rel_VaR\n",
    "\n",
    "    # now/prev - 1 = ret   now - prev = ret * prev -> now = ret * prev + prev\n",
    "        \n",
    "monte_carlo_VaR_sim(data_8_3, n_draws=10_000_000, alpha=0.05)"
   ]
  },
  {
   "cell_type": "code",
   "execution_count": 113,
   "metadata": {},
   "outputs": [],
   "source": [
    "test_8_3 = pd.read_csv(\"testfiles/data/testout8_3.csv\")"
   ]
  },
  {
   "cell_type": "code",
   "execution_count": 114,
   "metadata": {},
   "outputs": [
    {
     "data": {
      "text/html": [
       "<div>\n",
       "<style scoped>\n",
       "    .dataframe tbody tr th:only-of-type {\n",
       "        vertical-align: middle;\n",
       "    }\n",
       "\n",
       "    .dataframe tbody tr th {\n",
       "        vertical-align: top;\n",
       "    }\n",
       "\n",
       "    .dataframe thead th {\n",
       "        text-align: right;\n",
       "    }\n",
       "</style>\n",
       "<table border=\"1\" class=\"dataframe\">\n",
       "  <thead>\n",
       "    <tr style=\"text-align: right;\">\n",
       "      <th></th>\n",
       "      <th>VaR Absolute</th>\n",
       "      <th>VaR Diff from Mean</th>\n",
       "    </tr>\n",
       "  </thead>\n",
       "  <tbody>\n",
       "    <tr>\n",
       "      <th>0</th>\n",
       "      <td>0.040212</td>\n",
       "      <td>0.086586</td>\n",
       "    </tr>\n",
       "  </tbody>\n",
       "</table>\n",
       "</div>"
      ],
      "text/plain": [
       "   VaR Absolute  VaR Diff from Mean\n",
       "0      0.040212            0.086586"
      ]
     },
     "execution_count": 114,
     "metadata": {},
     "output_type": "execute_result"
    }
   ],
   "source": [
    "test_8_3"
   ]
  },
  {
   "cell_type": "code",
   "execution_count": null,
   "metadata": {},
   "outputs": [],
   "source": []
  }
 ],
 "metadata": {
  "kernelspec": {
   "display_name": "Python 3.12.7 ('.venv': venv)",
   "language": "python",
   "name": "python3"
  },
  "language_info": {
   "codemirror_mode": {
    "name": "ipython",
    "version": 3
   },
   "file_extension": ".py",
   "mimetype": "text/x-python",
   "name": "python",
   "nbconvert_exporter": "python",
   "pygments_lexer": "ipython3",
   "version": "3.12.7"
  },
  "orig_nbformat": 4,
  "vscode": {
   "interpreter": {
    "hash": "536fca8a70b20dc309c68387fb4322ec0bd98e3a90262e6704560667c02e5263"
   }
  }
 },
 "nbformat": 4,
 "nbformat_minor": 2
}
