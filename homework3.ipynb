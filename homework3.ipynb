{
 "cells": [
  {
   "cell_type": "code",
   "execution_count": 2,
   "metadata": {},
   "outputs": [],
   "source": [
    "import numpy as np\n",
    "import pandas as pd\n",
    "from scipy.stats import norm\n",
    "from numpy.linalg import cholesky"
   ]
  },
  {
   "cell_type": "code",
   "execution_count": 30,
   "metadata": {},
   "outputs": [
    {
     "data": {
      "text/plain": [
       "array([[0.08497905, 0.08758581, 0.04230441, 0.00898354, 0.00387595],\n",
       "       [0.08758581, 0.16048451, 0.05813615, 0.01234549, 0.00532646],\n",
       "       [0.04230441, 0.05813615, 0.03744009, 0.00596294, 0.00257271],\n",
       "       [0.00898354, 0.01234549, 0.00596294, 0.00168834, 0.00054633],\n",
       "       [0.00387595, 0.00532646, 0.00257271, 0.00054633, 0.00031428]])"
      ]
     },
     "execution_count": 30,
     "metadata": {},
     "output_type": "execute_result"
    }
   ],
   "source": [
    "np.asarray(data_5_1)"
   ]
  },
  {
   "cell_type": "code",
   "execution_count": 31,
   "metadata": {},
   "outputs": [],
   "source": [
    "def check_matrix_correctness(input_matrix, test_matrix, error_epsilon = 1e-12):\n",
    "\n",
    "    input_matrix = np.asarray(input_matrix)\n",
    "    test_matrix = np.asarray(test_matrix)\n",
    "    assert input_matrix.shape == test_matrix.shape, \"Input matrix and test matrix have different shapes\"\n",
    "    for i in range(input_matrix.shape[0]):\n",
    "        for j in range(input_matrix.shape[1]):\n",
    "            assert abs(input_matrix[i,j] - test_matrix[i,j]) < error_epsilon, f\"row {i} and column {j} of the data do not match\"\n",
    "    \n",
    "    return True"
   ]
  },
  {
   "cell_type": "code",
   "execution_count": 25,
   "metadata": {},
   "outputs": [
    {
     "data": {
      "text/plain": [
       "5"
      ]
     },
     "execution_count": 25,
     "metadata": {},
     "output_type": "execute_result"
    }
   ],
   "source": [
    "data_5_1.shape[0]"
   ]
  },
  {
   "cell_type": "markdown",
   "metadata": {},
   "source": [
    "## Test 5.1 Normal Simulation PD Input 0 mean - 100,000 simulations, compare input vs output covariance"
   ]
  },
  {
   "cell_type": "code",
   "execution_count": 36,
   "metadata": {},
   "outputs": [
    {
     "data": {
      "text/plain": [
       "np.True_"
      ]
     },
     "execution_count": 36,
     "metadata": {},
     "output_type": "execute_result"
    }
   ],
   "source": [
    "np.any(np.array([1,2,-3]) < 0)"
   ]
  },
  {
   "cell_type": "code",
   "execution_count": 39,
   "metadata": {},
   "outputs": [],
   "source": [
    "data_5_1 = pd.read_csv(\"testfiles/data/test5_1.csv\")\n",
    "\n",
    "def normal_monte_carlo_simulation(mean_vector, covariance_matrix, n_sims, fix_method, seed=1234):\n",
    "\n",
    "    np.random.seed(seed=seed)\n",
    "\n",
    "    # check for positive-semidefiniteness\n",
    "    eigvals = np.linalg.eigvalsh(covariance_matrix)\n",
    "    if np.any(eigvals < 0):\n",
    "        # if not positive-semidefinite, use fix_method to fix\n",
    "        input_cov = covariance_matrix\n",
    "        covariance_matrix = fix_method(input_cov)\n",
    "\n",
    "    simulation_data = np.random.multivariate_normal(mean_vector, covariance_matrix, n_sims).T # len(cov), n\n",
    "    sim_cov = np.cov(simulation_data, bias=False)\n",
    "    \n",
    "    return sim_cov"
   ]
  },
  {
   "cell_type": "code",
   "execution_count": 40,
   "metadata": {},
   "outputs": [
    {
     "data": {
      "text/plain": [
       "True"
      ]
     },
     "execution_count": 40,
     "metadata": {},
     "output_type": "execute_result"
    }
   ],
   "source": [
    "covariance_matrix = data_5_1\n",
    "mean_vector = np.zeros(shape=(len(covariance_matrix)))\n",
    "n_sims = 100_000\n",
    "sim_cov = normal_monte_carlo_simulation(mean_vector, covariance_matrix, n_sims = n_sims, fix_method=lambda x: x)\n",
    "test_5_1 = pd.read_csv(\"testfiles/data/testout_5.1.csv\")\n",
    "check_matrix_correctness(sim_cov, test_5_1, error_epsilon=1e-3)"
   ]
  },
  {
   "cell_type": "markdown",
   "metadata": {},
   "source": [
    "## Test 5.2 Normal Simulation PSD Input 0 mean - 100,000 simulations, compare input vs output covariance"
   ]
  },
  {
   "cell_type": "code",
   "execution_count": 41,
   "metadata": {},
   "outputs": [],
   "source": [
    "from covariance_comp import higham_covariance, near_psd"
   ]
  },
  {
   "cell_type": "code",
   "execution_count": 44,
   "metadata": {},
   "outputs": [],
   "source": [
    "data_5_2 = pd.read_csv(\"testfiles/data/test5_2.csv\")"
   ]
  },
  {
   "cell_type": "code",
   "execution_count": 56,
   "metadata": {},
   "outputs": [
    {
     "data": {
      "text/plain": [
       "True"
      ]
     },
     "execution_count": 56,
     "metadata": {},
     "output_type": "execute_result"
    }
   ],
   "source": [
    "covariance_matrix = data_5_2\n",
    "mean_vector = np.zeros(shape=(len(covariance_matrix)))\n",
    "n_sims = 100_000\n",
    "sim_cov = normal_monte_carlo_simulation(mean_vector, covariance_matrix, n_sims = n_sims, fix_method=near_psd)\n",
    "test_5_2 = pd.read_csv(\"testfiles/data/testout_5.2.csv\")\n",
    "check_matrix_correctness(sim_cov, test_5_2, error_epsilon=1e-3)"
   ]
  },
  {
   "cell_type": "code",
   "execution_count": 57,
   "metadata": {},
   "outputs": [
    {
     "data": {
      "text/plain": [
       "array([[0.08510358, 0.11695222, 0.04232675, 0.00897542, 0.00388869],\n",
       "       [0.11695222, 0.16071969, 0.05816685, 0.01233432, 0.00534397],\n",
       "       [0.04232675, 0.05816685, 0.03748337, 0.00595592, 0.00258017],\n",
       "       [0.00897542, 0.01233432, 0.00595592, 0.00168238, 0.00054672],\n",
       "       [0.00388869, 0.00534397, 0.00258017, 0.00054672, 0.00031543]])"
      ]
     },
     "execution_count": 57,
     "metadata": {},
     "output_type": "execute_result"
    }
   ],
   "source": [
    "sim_cov"
   ]
  },
  {
   "cell_type": "markdown",
   "metadata": {},
   "source": [
    "## Test 5.3 Normal Simulation nonPSD Input, 0 mean, near_psd fix - 100,000 simulations, compare input vs output covariance"
   ]
  },
  {
   "cell_type": "code",
   "execution_count": 64,
   "metadata": {},
   "outputs": [
    {
     "data": {
      "text/plain": [
       "True"
      ]
     },
     "execution_count": 64,
     "metadata": {},
     "output_type": "execute_result"
    }
   ],
   "source": [
    "data_5_3 = pd.read_csv(\"testfiles/data/test5_3.csv\")\n",
    "covariance_matrix = data_5_3\n",
    "mean_vector = np.zeros(shape=(len(covariance_matrix)))\n",
    "n_sims = 100_000\n",
    "sim_cov = normal_monte_carlo_simulation(mean_vector, covariance_matrix, n_sims = n_sims, fix_method=near_psd)\n",
    "test_5_3 = pd.read_csv(\"testfiles/data/testout_5.3.csv\")\n",
    "check_matrix_correctness(sim_cov, test_5_3, error_epsilon=1e-3)"
   ]
  },
  {
   "cell_type": "markdown",
   "metadata": {},
   "source": [
    "## Test 5.4 Normal Simulation PSD Input, 0 mean, higham fix - 100,000 simulations, compare input vs output covariance"
   ]
  },
  {
   "cell_type": "code",
   "execution_count": 65,
   "metadata": {},
   "outputs": [
    {
     "data": {
      "text/plain": [
       "True"
      ]
     },
     "execution_count": 65,
     "metadata": {},
     "output_type": "execute_result"
    }
   ],
   "source": [
    "data_5_4 = pd.read_csv(\"testfiles/data/test5_3.csv\")\n",
    "covariance_matrix = data_5_4\n",
    "mean_vector = np.zeros(shape=(len(covariance_matrix)))\n",
    "n_sims = 100_000\n",
    "sim_cov = normal_monte_carlo_simulation(mean_vector, covariance_matrix, n_sims = n_sims, fix_method=higham_covariance)\n",
    "test_5_4 = pd.read_csv(\"testfiles/data/testout_5.4.csv\")\n",
    "check_matrix_correctness(sim_cov, test_5_4, error_epsilon=1e-3)"
   ]
  },
  {
   "cell_type": "markdown",
   "metadata": {},
   "source": [
    "## Test 5.5 PCA Simulation, 99% explained, 0 mean - 100,000 simulations compare input vs output covariance"
   ]
  },
  {
   "cell_type": "code",
   "execution_count": 203,
   "metadata": {},
   "outputs": [],
   "source": [
    "mean_vector = np.zeros(shape=len(data_5_2))\n",
    "\n",
    "data_5_5 = pd.read_csv(\"testfiles/data/test5_2.csv\")\n",
    "covariance_matrix = data_5_2\n",
    "def pca_monte_carlo_simulation(mean_vector, covariance_matrix, n_sims, explained_threshold = 0.99, seed=1234):\n",
    "\n",
    "    np.random.seed(seed)\n",
    "    eigvals, eigvecs = np.linalg.eigh(covariance_matrix)\n",
    "    eigvals = np.clip(eigvals, 0, None)\n",
    "    idx = np.argsort(eigvals)[::-1]\n",
    "    eigvals = eigvals[idx]\n",
    "    eigvecs = eigvecs[:, idx]\n",
    "\n",
    "    k = len(eigvals)\n",
    "    pct_explained = eigvals[:k-1].sum() / eigvals.sum()\n",
    "    while pct_explained > explained_threshold:\n",
    "        k -= 1\n",
    "        pct_explained = eigvals[:k-1].sum() / eigvals.sum()\n",
    "\n",
    "    L = eigvecs[:,:k] @ np.diag(np.sqrt(eigvals[:k]))\n",
    "    simulation_data = np.random.multivariate_normal(np.zeros(k), np.identity(k), n_sims).T # len(cov), n\n",
    "    transformed_data = L @ simulation_data + mean_vector[:,np.newaxis]\n",
    "\n",
    "    sim_cov = np.cov(transformed_data, bias=False)\n",
    "\n",
    "    return sim_cov"
   ]
  },
  {
   "cell_type": "code",
   "execution_count": 204,
   "metadata": {},
   "outputs": [
    {
     "data": {
      "text/plain": [
       "True"
      ]
     },
     "execution_count": 204,
     "metadata": {},
     "output_type": "execute_result"
    }
   ],
   "source": [
    "data_5_5 = pd.read_csv(\"testfiles/data/test5_2.csv\")\n",
    "covariance_matrix = data_5_2\n",
    "mean_vector = np.zeros(shape=len(covariance_matrix))\n",
    "n_sims = 100_000\n",
    "sim_cov = pca_monte_carlo_simulation(mean_vector, covariance_matrix, n_sims, explained_threshold = 0.99)\n",
    "test_5_5 = pd.read_csv(\"testfiles/data/testout_5.5.csv\")\n",
    "check_matrix_correctness(sim_cov, test_5_5, error_epsilon=1e-3)"
   ]
  },
  {
   "cell_type": "markdown",
   "metadata": {},
   "source": [
    "## Test 8.1 Normal VaR"
   ]
  },
  {
   "cell_type": "code",
   "execution_count": 3,
   "metadata": {},
   "outputs": [],
   "source": [
    "data_8_1 = pd.read_csv(\"testfiles/data/test7_1.csv\")"
   ]
  },
  {
   "cell_type": "code",
   "execution_count": 4,
   "metadata": {},
   "outputs": [],
   "source": [
    "# function from homework 1\n",
    "def fit_normal_dist_from_data(x: pd.DataFrame):\n",
    "    mu_vector = x.mean()\n",
    "    covariance_matrix = x.cov()\n",
    "\n",
    "    return mu_vector, covariance_matrix\n",
    "\n",
    "mu_vector, covariance_matrix = fit_normal_dist_from_data(data_8_1)\n",
    "mean, std = mu_vector.iloc[0], np.sqrt(covariance_matrix.iloc[0,0])\n",
    "\n",
    "\n",
    "def univariate_normal_VaR(x: pd.DataFrame, alpha = 0.05):\n",
    "    mu_vector, covariance_matrix = fit_normal_dist_from_data(x)\n",
    "    mean, std = mu_vector.iloc[0], np.sqrt(covariance_matrix.iloc[0,0])\n",
    "\n",
    "    abs_VaR = np.abs(norm.ppf(alpha, loc = mean, scale = std))\n",
    "    rel_VaR = np.abs(norm.ppf(alpha, loc = mean, scale = std) - mean)\n",
    "\n",
    "    return abs_VaR, rel_VaR"
   ]
  },
  {
   "cell_type": "code",
   "execution_count": 8,
   "metadata": {},
   "outputs": [],
   "source": [
    "abs_VaR, rel_VaR = univariate_normal_VaR(data_8_1, alpha = 0.05)\n",
    "test_8_1 = pd.read_csv(\"testfiles/data/testout8_1.csv\")\n",
    "error_epsilon =1e-12\n",
    "assert \tabs(abs_VaR - test_8_1.loc[0, \"VaR Absolute\"]) < error_epsilon, \"Absolute value at risk does not match\"\n",
    "assert \tabs(rel_VaR - test_8_1.loc[0, \"VaR Diff from Mean\"]) < error_epsilon, \"Absolute value at risk does not match\""
   ]
  },
  {
   "cell_type": "markdown",
   "metadata": {},
   "source": [
    "## Test 8.2 VaR T Distribution"
   ]
  },
  {
   "cell_type": "code",
   "execution_count": 6,
   "metadata": {},
   "outputs": [],
   "source": [
    "data_8_2 = pd.read_csv(\"testfiles/data/test7_2.csv\")\n",
    "\n",
    "# function from homework 1\n",
    "from scipy.stats import t\n",
    "nu, mu, sigma = t.fit(data_8_2)\n",
    "mu, sigma, nu\n",
    "alpha = 0.05\n",
    "# print(t.ppf(alpha, df = nu, loc = mu, scale = sigma))\n",
    "\n",
    "def univariate_t_VaR(x: pd.DataFrame, alpha = 0.05):\n",
    "    nu, mu, sigma = t.fit(x)\n",
    "\n",
    "    abs_VaR = abs(t.ppf(alpha, df = nu, loc = mu, scale = sigma))\n",
    "    rel_VaR = abs(t.ppf(alpha, df = nu, loc = mu, scale = sigma) - mu)\n",
    "        \n",
    "    return abs_VaR, rel_VaR"
   ]
  },
  {
   "cell_type": "code",
   "execution_count": 9,
   "metadata": {},
   "outputs": [],
   "source": [
    "data_8_2 = pd.read_csv(\"testfiles/data/test7_2.csv\")\n",
    "abs_VaR, rel_VaR = univariate_t_VaR(data_8_2, alpha = 0.05)\n",
    "\n",
    "test_8_2 = pd.read_csv(\"testfiles/data/testout8_2.csv\")\n",
    "error_epsilon = 1e-7\n",
    "assert \tabs(abs_VaR - test_8_2.loc[0, \"VaR Absolute\"]) < error_epsilon, \"Absolute value at risk does not match\"\n",
    "assert \tabs(rel_VaR - test_8_2.loc[0, \"VaR Diff from Mean\"]) < error_epsilon, \"Absolute value at risk does not match\""
   ]
  },
  {
   "cell_type": "markdown",
   "metadata": {},
   "source": [
    "## Test 8.3 VaR from Simulation"
   ]
  },
  {
   "cell_type": "code",
   "execution_count": 16,
   "metadata": {},
   "outputs": [
    {
     "data": {
      "text/html": [
       "<div>\n",
       "<style scoped>\n",
       "    .dataframe tbody tr th:only-of-type {\n",
       "        vertical-align: middle;\n",
       "    }\n",
       "\n",
       "    .dataframe tbody tr th {\n",
       "        vertical-align: top;\n",
       "    }\n",
       "\n",
       "    .dataframe thead th {\n",
       "        text-align: right;\n",
       "    }\n",
       "</style>\n",
       "<table border=\"1\" class=\"dataframe\">\n",
       "  <thead>\n",
       "    <tr style=\"text-align: right;\">\n",
       "      <th></th>\n",
       "      <th>x1</th>\n",
       "    </tr>\n",
       "  </thead>\n",
       "  <tbody>\n",
       "    <tr>\n",
       "      <th>0</th>\n",
       "      <td>0.062695</td>\n",
       "    </tr>\n",
       "    <tr>\n",
       "      <th>1</th>\n",
       "      <td>-0.001343</td>\n",
       "    </tr>\n",
       "    <tr>\n",
       "      <th>2</th>\n",
       "      <td>0.058816</td>\n",
       "    </tr>\n",
       "    <tr>\n",
       "      <th>3</th>\n",
       "      <td>0.074756</td>\n",
       "    </tr>\n",
       "    <tr>\n",
       "      <th>4</th>\n",
       "      <td>0.014312</td>\n",
       "    </tr>\n",
       "    <tr>\n",
       "      <th>...</th>\n",
       "      <td>...</td>\n",
       "    </tr>\n",
       "    <tr>\n",
       "      <th>95</th>\n",
       "      <td>0.083073</td>\n",
       "    </tr>\n",
       "    <tr>\n",
       "      <th>96</th>\n",
       "      <td>0.125152</td>\n",
       "    </tr>\n",
       "    <tr>\n",
       "      <th>97</th>\n",
       "      <td>0.046132</td>\n",
       "    </tr>\n",
       "    <tr>\n",
       "      <th>98</th>\n",
       "      <td>0.036900</td>\n",
       "    </tr>\n",
       "    <tr>\n",
       "      <th>99</th>\n",
       "      <td>-0.117543</td>\n",
       "    </tr>\n",
       "  </tbody>\n",
       "</table>\n",
       "<p>100 rows × 1 columns</p>\n",
       "</div>"
      ],
      "text/plain": [
       "          x1\n",
       "0   0.062695\n",
       "1  -0.001343\n",
       "2   0.058816\n",
       "3   0.074756\n",
       "4   0.014312\n",
       "..       ...\n",
       "95  0.083073\n",
       "96  0.125152\n",
       "97  0.046132\n",
       "98  0.036900\n",
       "99 -0.117543\n",
       "\n",
       "[100 rows x 1 columns]"
      ]
     },
     "execution_count": 16,
     "metadata": {},
     "output_type": "execute_result"
    }
   ],
   "source": [
    "data_8_3 = pd.read_csv(\"testfiles/data/test7_2.csv\")"
   ]
  },
  {
   "cell_type": "code",
   "execution_count": 12,
   "metadata": {},
   "outputs": [
    {
     "data": {
      "text/plain": [
       "array([-2.19746122, -1.53369098, -0.92363499, -0.15447375,  0.42911921,\n",
       "        0.81651664,  1.1574403 ,  1.67969022,  1.85192399,  1.868763  ])"
      ]
     },
     "execution_count": 12,
     "metadata": {},
     "output_type": "execute_result"
    }
   ],
   "source": [
    "np.sort(t.rvs(df=3, loc=0, scale=1, size=10, random_state=0))\n",
    "# np.floor(3.1)"
   ]
  },
  {
   "cell_type": "code",
   "execution_count": 86,
   "metadata": {},
   "outputs": [
    {
     "data": {
      "text/plain": [
       "-0.010000000000000009"
      ]
     },
     "execution_count": 86,
     "metadata": {},
     "output_type": "execute_result"
    }
   ],
   "source": [
    "0.99/1.00 - 1"
   ]
  },
  {
   "cell_type": "code",
   "execution_count": 90,
   "metadata": {},
   "outputs": [
    {
     "data": {
      "text/plain": [
       "-0.01"
      ]
     },
     "execution_count": 90,
     "metadata": {},
     "output_type": "execute_result"
    }
   ],
   "source": [
    "(-.01)* 1"
   ]
  },
  {
   "cell_type": "code",
   "execution_count": 57,
   "metadata": {},
   "outputs": [
    {
     "data": {
      "text/plain": [
       "array([1, 6])"
      ]
     },
     "execution_count": 57,
     "metadata": {},
     "output_type": "execute_result"
    }
   ],
   "source": [
    "np.array([1,2]) * np.array([1,3])"
   ]
  },
  {
   "cell_type": "code",
   "execution_count": 58,
   "metadata": {},
   "outputs": [
    {
     "data": {
      "text/plain": [
       "array([2.71828183, 7.3890561 ])"
      ]
     },
     "execution_count": 58,
     "metadata": {},
     "output_type": "execute_result"
    }
   ],
   "source": [
    "np.exp(np.array([1,2]))"
   ]
  },
  {
   "cell_type": "code",
   "execution_count": 93,
   "metadata": {},
   "outputs": [
    {
     "data": {
      "text/plain": [
       "(np.float64(0.04396698284271605), np.float64(0.08996220587152681))"
      ]
     },
     "execution_count": 93,
     "metadata": {},
     "output_type": "execute_result"
    }
   ],
   "source": [
    "def monte_carlo_VaR_sim(mean_vector, covariance_matrix, current_prices, holdings, n_draws, return_type = \"arithmetic\", alpha = 0.05, seed = 1234):\n",
    "\n",
    "    if return_type not in [\"arithmetic\", \"geometric\", \"brownian\"]:\n",
    "        raise ValueError(\"Returns must be one of arithmetic, geometric, brownian\")\n",
    "\n",
    "    if covariance_matrix.shape[0] != covariance_matrix.shape[1]:\n",
    "        raise ValueError(\"Covariance matrix must be square\")\n",
    "        \n",
    "    if len(mean_vector) != covariance_matrix.shape[0]:\n",
    "        raise ValueError(\"Mean matrix length must match Covariance matrix dimensions\")\n",
    "\n",
    "    np.random.seed(seed)\n",
    "\n",
    "    portfolio_value = current_prices.dot(holdings)\n",
    "    # print(\"Portfolio Val\", portfolio_value)\n",
    "\n",
    "    simulated_returns = np.random.multivariate_normal(mean_vector, covariance_matrix, n_draws)\n",
    "    # print(\"Sim Rets\", simulated_standard_normal)\n",
    "    if return_type == \"arithmetic\":\n",
    "        simulated_prices = (1 + simulated_returns) * current_prices\n",
    "    elif return_type == \"geometric\":\n",
    "        simulated_prices = current_prices * np.exp(simulated_returns)\n",
    "    elif return_type == \"brownian\":\n",
    "        simulated_prices = current_prices + simulated_returns\n",
    "\n",
    "    # print(\"Prices\", simulated_prices)\n",
    "    sim_portfolio_values = simulated_prices.dot(holdings)\n",
    "    # print(\"Portfolio Vals\", sim_portfolio_values)\n",
    "    sorted_values = np.sort(sim_portfolio_values)\n",
    "\n",
    "    percentile_portfolio = np.percentile(sim_portfolio_values, 100 * alpha)\n",
    "    abs_VaR = portfolio_value - percentile_portfolio\n",
    "    rel_VaR = np.mean(sim_portfolio_values) - percentile_portfolio\n",
    "    return abs_VaR, rel_VaR\n",
    "\n",
    "# nu, mu, sigma = t.fit(data_8_3)\n",
    "# random_returns = t.rvs(df=nu, loc=mu, scale=sigma, size=n_draws, random_state=seed)\n",
    "\n",
    "mu, cov = fit_normal_dist_from_data(data_8_3)\n",
    "mean_vector = mu\n",
    "# cov = np.array([[sigma**2]])\n",
    "current_prices=np.array([1])\n",
    "holdings = np.array([1])\n",
    "monte_carlo_VaR_sim(mean_vector=mean_vector, covariance_matrix = cov, current_prices=current_prices, holdings=holdings, n_draws=100_000, return_type = \"arithmetic\", alpha = 0.05, seed = 0)"
   ]
  },
  {
   "cell_type": "code",
   "execution_count": 64,
   "metadata": {},
   "outputs": [],
   "source": [
    "test_8_3 = pd.read_csv(\"testfiles/data/testout8_3.csv\")"
   ]
  },
  {
   "cell_type": "code",
   "execution_count": 114,
   "metadata": {},
   "outputs": [
    {
     "data": {
      "text/html": [
       "<div>\n",
       "<style scoped>\n",
       "    .dataframe tbody tr th:only-of-type {\n",
       "        vertical-align: middle;\n",
       "    }\n",
       "\n",
       "    .dataframe tbody tr th {\n",
       "        vertical-align: top;\n",
       "    }\n",
       "\n",
       "    .dataframe thead th {\n",
       "        text-align: right;\n",
       "    }\n",
       "</style>\n",
       "<table border=\"1\" class=\"dataframe\">\n",
       "  <thead>\n",
       "    <tr style=\"text-align: right;\">\n",
       "      <th></th>\n",
       "      <th>VaR Absolute</th>\n",
       "      <th>VaR Diff from Mean</th>\n",
       "    </tr>\n",
       "  </thead>\n",
       "  <tbody>\n",
       "    <tr>\n",
       "      <th>0</th>\n",
       "      <td>0.040212</td>\n",
       "      <td>0.086586</td>\n",
       "    </tr>\n",
       "  </tbody>\n",
       "</table>\n",
       "</div>"
      ],
      "text/plain": [
       "   VaR Absolute  VaR Diff from Mean\n",
       "0      0.040212            0.086586"
      ]
     },
     "execution_count": 114,
     "metadata": {},
     "output_type": "execute_result"
    }
   ],
   "source": [
    "test_8_3"
   ]
  },
  {
   "cell_type": "code",
   "execution_count": null,
   "metadata": {},
   "outputs": [],
   "source": []
  }
 ],
 "metadata": {
  "kernelspec": {
   "display_name": "Python 3.12.7 ('.venv': venv)",
   "language": "python",
   "name": "python3"
  },
  "language_info": {
   "codemirror_mode": {
    "name": "ipython",
    "version": 3
   },
   "file_extension": ".py",
   "mimetype": "text/x-python",
   "name": "python",
   "nbconvert_exporter": "python",
   "pygments_lexer": "ipython3",
   "version": "3.12.7"
  },
  "orig_nbformat": 4,
  "vscode": {
   "interpreter": {
    "hash": "536fca8a70b20dc309c68387fb4322ec0bd98e3a90262e6704560667c02e5263"
   }
  }
 },
 "nbformat": 4,
 "nbformat_minor": 2
}
