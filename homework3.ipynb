{
 "cells": [
  {
   "cell_type": "code",
   "execution_count": 51,
   "metadata": {},
   "outputs": [],
   "source": [
    "import numpy as np\n",
    "import pandas as pd\n",
    "from scipy.stats import norm\n",
    "from numpy.linalg import cholesky"
   ]
  },
  {
   "cell_type": "markdown",
   "metadata": {},
   "source": [
    "## Test 5.1 Normal Simulation PD Input 0 mean - 100,000 simulations, compare input vs output covariance"
   ]
  },
  {
   "cell_type": "code",
   "execution_count": 33,
   "metadata": {},
   "outputs": [],
   "source": [
    "data_5_1 = pd.read_csv(\"testfiles/data/test5_1.csv\")\n",
    "\n",
    "def normal_monte_carlo_simulation(mean_vector, covariance_matrix, n_sims, asset_prices:np.array, asset_holdings:np.array, return_type = \"arithmetic\"):\n",
    "\n",
    "    portfolio_value = asset_weights.dot(asset_prices)\n",
    "\n",
    "    #\n",
    "\n",
    "    np.random.multivariate_normal(mean_vector, covariance_matrix, n_sims)\n",
    "\n",
    "    \n",
    "    if return_type == \"arithmetic\":\n",
    "        new_prices = asset_prices * (1 + random_returns)\n",
    "    elif return_type == \"geometric\":\n",
    "        portfolio_values = portfolio_value * np.exp(random_returns)\n",
    "    elif return_type == \"brownian\":\n",
    "        portfolio_values = portfolio_value + random_returns\n",
    "\n"
   ]
  },
  {
   "cell_type": "code",
   "execution_count": 37,
   "metadata": {},
   "outputs": [
    {
     "data": {
      "text/html": [
       "<div>\n",
       "<style scoped>\n",
       "    .dataframe tbody tr th:only-of-type {\n",
       "        vertical-align: middle;\n",
       "    }\n",
       "\n",
       "    .dataframe tbody tr th {\n",
       "        vertical-align: top;\n",
       "    }\n",
       "\n",
       "    .dataframe thead th {\n",
       "        text-align: right;\n",
       "    }\n",
       "</style>\n",
       "<table border=\"1\" class=\"dataframe\">\n",
       "  <thead>\n",
       "    <tr style=\"text-align: right;\">\n",
       "      <th></th>\n",
       "      <th>x1</th>\n",
       "      <th>x2</th>\n",
       "      <th>x3</th>\n",
       "      <th>x4</th>\n",
       "      <th>x5</th>\n",
       "    </tr>\n",
       "  </thead>\n",
       "  <tbody>\n",
       "    <tr>\n",
       "      <th>0</th>\n",
       "      <td>0.084979</td>\n",
       "      <td>0.087586</td>\n",
       "      <td>0.042304</td>\n",
       "      <td>0.008984</td>\n",
       "      <td>0.003876</td>\n",
       "    </tr>\n",
       "    <tr>\n",
       "      <th>1</th>\n",
       "      <td>0.087586</td>\n",
       "      <td>0.160485</td>\n",
       "      <td>0.058136</td>\n",
       "      <td>0.012345</td>\n",
       "      <td>0.005326</td>\n",
       "    </tr>\n",
       "    <tr>\n",
       "      <th>2</th>\n",
       "      <td>0.042304</td>\n",
       "      <td>0.058136</td>\n",
       "      <td>0.037440</td>\n",
       "      <td>0.005963</td>\n",
       "      <td>0.002573</td>\n",
       "    </tr>\n",
       "    <tr>\n",
       "      <th>3</th>\n",
       "      <td>0.008984</td>\n",
       "      <td>0.012345</td>\n",
       "      <td>0.005963</td>\n",
       "      <td>0.001688</td>\n",
       "      <td>0.000546</td>\n",
       "    </tr>\n",
       "    <tr>\n",
       "      <th>4</th>\n",
       "      <td>0.003876</td>\n",
       "      <td>0.005326</td>\n",
       "      <td>0.002573</td>\n",
       "      <td>0.000546</td>\n",
       "      <td>0.000314</td>\n",
       "    </tr>\n",
       "  </tbody>\n",
       "</table>\n",
       "</div>"
      ],
      "text/plain": [
       "         x1        x2        x3        x4        x5\n",
       "0  0.084979  0.087586  0.042304  0.008984  0.003876\n",
       "1  0.087586  0.160485  0.058136  0.012345  0.005326\n",
       "2  0.042304  0.058136  0.037440  0.005963  0.002573\n",
       "3  0.008984  0.012345  0.005963  0.001688  0.000546\n",
       "4  0.003876  0.005326  0.002573  0.000546  0.000314"
      ]
     },
     "execution_count": 37,
     "metadata": {},
     "output_type": "execute_result"
    }
   ],
   "source": [
    "data_5_1"
   ]
  },
  {
   "cell_type": "code",
   "execution_count": 55,
   "metadata": {},
   "outputs": [],
   "source": [
    "mean_vector = np.array([0,0,0,0,0])\n",
    "A = cholesky(data_5_1)\n",
    "simulated_standard_normal = np.random.multivariate_normal(mean_vector, data_5_1, 2)\n",
    "transformed_sims = (A.dot(simulated_standard_normal.T) + mean_vector[:, np.newaxis]).T\n"
   ]
  },
  {
   "cell_type": "code",
   "execution_count": 56,
   "metadata": {},
   "outputs": [
    {
     "data": {
      "text/plain": [
       "array([[ 0.12218575,  0.3835954 ,  0.14835365,  0.02736547,  0.01180554],\n",
       "       [-0.15599712, -0.33953704, -0.16358798, -0.02841137, -0.01224991]])"
      ]
     },
     "execution_count": 56,
     "metadata": {},
     "output_type": "execute_result"
    }
   ],
   "source": [
    "transformed_sims"
   ]
  },
  {
   "cell_type": "code",
   "execution_count": 42,
   "metadata": {},
   "outputs": [
    {
     "ename": "ValueError",
     "evalue": "size does not match the broadcast shape of the parameters. 10, (1, np.int64(10)), (5, 5)",
     "output_type": "error",
     "traceback": [
      "\u001b[31m---------------------------------------------------------------------------\u001b[39m",
      "\u001b[31mValueError\u001b[39m                                Traceback (most recent call last)",
      "\u001b[36mCell\u001b[39m\u001b[36m \u001b[39m\u001b[32mIn[42]\u001b[39m\u001b[32m, line 1\u001b[39m\n\u001b[32m----> \u001b[39m\u001b[32m1\u001b[39m \u001b[43mnorm\u001b[49m\u001b[43m.\u001b[49m\u001b[43mrvs\u001b[49m\u001b[43m(\u001b[49m\u001b[43mloc\u001b[49m\u001b[43m=\u001b[49m\u001b[43m[\u001b[49m\u001b[43m[\u001b[49m\u001b[32;43m0\u001b[39;49m\u001b[43m,\u001b[49m\u001b[32;43m0\u001b[39;49m\u001b[43m,\u001b[49m\u001b[32;43m0\u001b[39;49m\u001b[43m,\u001b[49m\u001b[32;43m0\u001b[39;49m\u001b[43m,\u001b[49m\u001b[32;43m0\u001b[39;49m\u001b[43m]\u001b[49m\u001b[43m]\u001b[49m\u001b[43m,\u001b[49m\u001b[43m \u001b[49m\u001b[43mscale\u001b[49m\u001b[43m \u001b[49m\u001b[43m=\u001b[49m\u001b[43m \u001b[49m\u001b[43mdata_5_1\u001b[49m\u001b[43m,\u001b[49m\u001b[43m \u001b[49m\u001b[43msize\u001b[49m\u001b[43m=\u001b[49m\u001b[32;43m10\u001b[39;49m\u001b[43m)\u001b[49m\n",
      "\u001b[36mFile \u001b[39m\u001b[32m~/Desktop/FINTECH545/.venv/lib/python3.12/site-packages/scipy/stats/_distn_infrastructure.py:1100\u001b[39m, in \u001b[36mrv_generic.rvs\u001b[39m\u001b[34m(self, *args, **kwds)\u001b[39m\n\u001b[32m   1098\u001b[39m discrete = kwds.pop(\u001b[33m'\u001b[39m\u001b[33mdiscrete\u001b[39m\u001b[33m'\u001b[39m, \u001b[38;5;28;01mNone\u001b[39;00m)\n\u001b[32m   1099\u001b[39m rndm = kwds.pop(\u001b[33m'\u001b[39m\u001b[33mrandom_state\u001b[39m\u001b[33m'\u001b[39m, \u001b[38;5;28;01mNone\u001b[39;00m)\n\u001b[32m-> \u001b[39m\u001b[32m1100\u001b[39m args, loc, scale, size = \u001b[38;5;28;43mself\u001b[39;49m\u001b[43m.\u001b[49m\u001b[43m_parse_args_rvs\u001b[49m\u001b[43m(\u001b[49m\u001b[43m*\u001b[49m\u001b[43margs\u001b[49m\u001b[43m,\u001b[49m\u001b[43m \u001b[49m\u001b[43m*\u001b[49m\u001b[43m*\u001b[49m\u001b[43mkwds\u001b[49m\u001b[43m)\u001b[49m\n\u001b[32m   1101\u001b[39m cond = logical_and(\u001b[38;5;28mself\u001b[39m._argcheck(*args), (scale >= \u001b[32m0\u001b[39m))\n\u001b[32m   1102\u001b[39m \u001b[38;5;28;01mif\u001b[39;00m \u001b[38;5;129;01mnot\u001b[39;00m np.all(cond):\n",
      "\u001b[36mFile \u001b[39m\u001b[32m<string>:6\u001b[39m, in \u001b[36m_parse_args_rvs\u001b[39m\u001b[34m(self, loc, scale, size)\u001b[39m\n",
      "\u001b[36mFile \u001b[39m\u001b[32m~/Desktop/FINTECH545/.venv/lib/python3.12/site-packages/scipy/stats/_distn_infrastructure.py:982\u001b[39m, in \u001b[36mrv_generic._argcheck_rvs\u001b[39m\u001b[34m(self, *args, **kwargs)\u001b[39m\n\u001b[32m    979\u001b[39m ok = \u001b[38;5;28mall\u001b[39m([bcdim == \u001b[32m1\u001b[39m \u001b[38;5;129;01mor\u001b[39;00m bcdim == szdim\n\u001b[32m    980\u001b[39m           \u001b[38;5;28;01mfor\u001b[39;00m (bcdim, szdim) \u001b[38;5;129;01min\u001b[39;00m \u001b[38;5;28mzip\u001b[39m(bcast_shape, size_)])\n\u001b[32m    981\u001b[39m \u001b[38;5;28;01mif\u001b[39;00m \u001b[38;5;129;01mnot\u001b[39;00m ok:\n\u001b[32m--> \u001b[39m\u001b[32m982\u001b[39m     \u001b[38;5;28;01mraise\u001b[39;00m \u001b[38;5;167;01mValueError\u001b[39;00m(\u001b[33m\"\u001b[39m\u001b[33msize does not match the broadcast shape of \u001b[39m\u001b[33m\"\u001b[39m\n\u001b[32m    983\u001b[39m                      \u001b[33mf\u001b[39m\u001b[33m\"\u001b[39m\u001b[33mthe parameters. \u001b[39m\u001b[38;5;132;01m{\u001b[39;00msize\u001b[38;5;132;01m}\u001b[39;00m\u001b[33m, \u001b[39m\u001b[38;5;132;01m{\u001b[39;00msize_\u001b[38;5;132;01m}\u001b[39;00m\u001b[33m, \u001b[39m\u001b[38;5;132;01m{\u001b[39;00mbcast_shape\u001b[38;5;132;01m}\u001b[39;00m\u001b[33m\"\u001b[39m)\n\u001b[32m    985\u001b[39m param_bcast = all_bcast[:-\u001b[32m2\u001b[39m]\n\u001b[32m    986\u001b[39m loc_bcast = all_bcast[-\u001b[32m2\u001b[39m]\n",
      "\u001b[31mValueError\u001b[39m: size does not match the broadcast shape of the parameters. 10, (1, np.int64(10)), (5, 5)"
     ]
    }
   ],
   "source": [
    "norm.rvs(loc=[[0,0,0,0,0]], scale = data_5_1, size=10)"
   ]
  },
  {
   "cell_type": "code",
   "execution_count": 36,
   "metadata": {},
   "outputs": [],
   "source": [
    "test_5_1 = pd.read_csv(\"testfiles/data/testout_5.1.csv\")"
   ]
  },
  {
   "cell_type": "code",
   "execution_count": 38,
   "metadata": {},
   "outputs": [
    {
     "data": {
      "text/html": [
       "<div>\n",
       "<style scoped>\n",
       "    .dataframe tbody tr th:only-of-type {\n",
       "        vertical-align: middle;\n",
       "    }\n",
       "\n",
       "    .dataframe tbody tr th {\n",
       "        vertical-align: top;\n",
       "    }\n",
       "\n",
       "    .dataframe thead th {\n",
       "        text-align: right;\n",
       "    }\n",
       "</style>\n",
       "<table border=\"1\" class=\"dataframe\">\n",
       "  <thead>\n",
       "    <tr style=\"text-align: right;\">\n",
       "      <th></th>\n",
       "      <th>x1</th>\n",
       "      <th>x2</th>\n",
       "      <th>x3</th>\n",
       "      <th>x4</th>\n",
       "      <th>x5</th>\n",
       "    </tr>\n",
       "  </thead>\n",
       "  <tbody>\n",
       "    <tr>\n",
       "      <th>0</th>\n",
       "      <td>0.085347</td>\n",
       "      <td>0.087720</td>\n",
       "      <td>0.042334</td>\n",
       "      <td>0.009020</td>\n",
       "      <td>0.003888</td>\n",
       "    </tr>\n",
       "    <tr>\n",
       "      <th>1</th>\n",
       "      <td>0.087720</td>\n",
       "      <td>0.160529</td>\n",
       "      <td>0.058067</td>\n",
       "      <td>0.012351</td>\n",
       "      <td>0.005324</td>\n",
       "    </tr>\n",
       "    <tr>\n",
       "      <th>2</th>\n",
       "      <td>0.042334</td>\n",
       "      <td>0.058067</td>\n",
       "      <td>0.037468</td>\n",
       "      <td>0.005974</td>\n",
       "      <td>0.002574</td>\n",
       "    </tr>\n",
       "    <tr>\n",
       "      <th>3</th>\n",
       "      <td>0.009020</td>\n",
       "      <td>0.012351</td>\n",
       "      <td>0.005974</td>\n",
       "      <td>0.001692</td>\n",
       "      <td>0.000549</td>\n",
       "    </tr>\n",
       "    <tr>\n",
       "      <th>4</th>\n",
       "      <td>0.003888</td>\n",
       "      <td>0.005324</td>\n",
       "      <td>0.002574</td>\n",
       "      <td>0.000549</td>\n",
       "      <td>0.000315</td>\n",
       "    </tr>\n",
       "  </tbody>\n",
       "</table>\n",
       "</div>"
      ],
      "text/plain": [
       "         x1        x2        x3        x4        x5\n",
       "0  0.085347  0.087720  0.042334  0.009020  0.003888\n",
       "1  0.087720  0.160529  0.058067  0.012351  0.005324\n",
       "2  0.042334  0.058067  0.037468  0.005974  0.002574\n",
       "3  0.009020  0.012351  0.005974  0.001692  0.000549\n",
       "4  0.003888  0.005324  0.002574  0.000549  0.000315"
      ]
     },
     "execution_count": 38,
     "metadata": {},
     "output_type": "execute_result"
    }
   ],
   "source": [
    "test_5_1"
   ]
  },
  {
   "cell_type": "markdown",
   "metadata": {},
   "source": [
    "## Test 8.1 Normal VaR"
   ]
  },
  {
   "cell_type": "code",
   "execution_count": 3,
   "metadata": {},
   "outputs": [],
   "source": [
    "data_8_1 = pd.read_csv(\"testfiles/data/test7_1.csv\")"
   ]
  },
  {
   "cell_type": "code",
   "execution_count": 4,
   "metadata": {},
   "outputs": [],
   "source": [
    "# function from homework 1\n",
    "def fit_normal_dist_from_data(x: pd.DataFrame):\n",
    "    mu_vector = x.mean()\n",
    "    covariance_matrix = x.cov()\n",
    "\n",
    "    return mu_vector, covariance_matrix\n",
    "\n",
    "mu_vector, covariance_matrix = fit_normal_dist_from_data(data_8_1)\n",
    "mean, std = mu_vector.iloc[0], np.sqrt(covariance_matrix.iloc[0,0])\n",
    "\n",
    "\n",
    "def univariate_normal_VaR(x: pd.DataFrame, alpha = 0.05):\n",
    "    mu_vector, covariance_matrix = fit_normal_dist_from_data(x)\n",
    "    mean, std = mu_vector.iloc[0], np.sqrt(covariance_matrix.iloc[0,0])\n",
    "\n",
    "    abs_VaR = np.abs(norm.ppf(alpha, loc = mean, scale = std))\n",
    "    rel_VaR = np.abs(norm.ppf(alpha, loc = mean, scale = std) - mean)\n",
    "\n",
    "    return abs_VaR, rel_VaR"
   ]
  },
  {
   "cell_type": "code",
   "execution_count": 8,
   "metadata": {},
   "outputs": [],
   "source": [
    "abs_VaR, rel_VaR = univariate_normal_VaR(data_8_1, alpha = 0.05)\n",
    "test_8_1 = pd.read_csv(\"testfiles/data/testout8_1.csv\")\n",
    "error_epsilon =1e-12\n",
    "assert \tabs(abs_VaR - test_8_1.loc[0, \"VaR Absolute\"]) < error_epsilon, \"Absolute value at risk does not match\"\n",
    "assert \tabs(rel_VaR - test_8_1.loc[0, \"VaR Diff from Mean\"]) < error_epsilon, \"Absolute value at risk does not match\""
   ]
  },
  {
   "cell_type": "markdown",
   "metadata": {},
   "source": [
    "## Test 8.2 VaR T Distribution"
   ]
  },
  {
   "cell_type": "code",
   "execution_count": 6,
   "metadata": {},
   "outputs": [],
   "source": [
    "data_8_2 = pd.read_csv(\"testfiles/data/test7_2.csv\")\n",
    "\n",
    "# function from homework 1\n",
    "from scipy.stats import t\n",
    "nu, mu, sigma = t.fit(data_8_2)\n",
    "mu, sigma, nu\n",
    "alpha = 0.05\n",
    "# print(t.ppf(alpha, df = nu, loc = mu, scale = sigma))\n",
    "\n",
    "def univariate_t_VaR(x: pd.DataFrame, alpha = 0.05):\n",
    "    nu, mu, sigma = t.fit(x)\n",
    "\n",
    "    abs_VaR = abs(t.ppf(alpha, df = nu, loc = mu, scale = sigma))\n",
    "    rel_VaR = abs(t.ppf(alpha, df = nu, loc = mu, scale = sigma) - mu)\n",
    "        \n",
    "    return abs_VaR, rel_VaR"
   ]
  },
  {
   "cell_type": "code",
   "execution_count": 9,
   "metadata": {},
   "outputs": [],
   "source": [
    "data_8_2 = pd.read_csv(\"testfiles/data/test7_2.csv\")\n",
    "abs_VaR, rel_VaR = univariate_t_VaR(data_8_2, alpha = 0.05)\n",
    "\n",
    "test_8_2 = pd.read_csv(\"testfiles/data/testout8_2.csv\")\n",
    "error_epsilon = 1e-7\n",
    "assert \tabs(abs_VaR - test_8_2.loc[0, \"VaR Absolute\"]) < error_epsilon, \"Absolute value at risk does not match\"\n",
    "assert \tabs(rel_VaR - test_8_2.loc[0, \"VaR Diff from Mean\"]) < error_epsilon, \"Absolute value at risk does not match\""
   ]
  },
  {
   "cell_type": "markdown",
   "metadata": {},
   "source": [
    "## Test 8.3 VaR from Simulation"
   ]
  },
  {
   "cell_type": "code",
   "execution_count": 16,
   "metadata": {},
   "outputs": [
    {
     "data": {
      "text/html": [
       "<div>\n",
       "<style scoped>\n",
       "    .dataframe tbody tr th:only-of-type {\n",
       "        vertical-align: middle;\n",
       "    }\n",
       "\n",
       "    .dataframe tbody tr th {\n",
       "        vertical-align: top;\n",
       "    }\n",
       "\n",
       "    .dataframe thead th {\n",
       "        text-align: right;\n",
       "    }\n",
       "</style>\n",
       "<table border=\"1\" class=\"dataframe\">\n",
       "  <thead>\n",
       "    <tr style=\"text-align: right;\">\n",
       "      <th></th>\n",
       "      <th>x1</th>\n",
       "    </tr>\n",
       "  </thead>\n",
       "  <tbody>\n",
       "    <tr>\n",
       "      <th>0</th>\n",
       "      <td>0.062695</td>\n",
       "    </tr>\n",
       "    <tr>\n",
       "      <th>1</th>\n",
       "      <td>-0.001343</td>\n",
       "    </tr>\n",
       "    <tr>\n",
       "      <th>2</th>\n",
       "      <td>0.058816</td>\n",
       "    </tr>\n",
       "    <tr>\n",
       "      <th>3</th>\n",
       "      <td>0.074756</td>\n",
       "    </tr>\n",
       "    <tr>\n",
       "      <th>4</th>\n",
       "      <td>0.014312</td>\n",
       "    </tr>\n",
       "    <tr>\n",
       "      <th>...</th>\n",
       "      <td>...</td>\n",
       "    </tr>\n",
       "    <tr>\n",
       "      <th>95</th>\n",
       "      <td>0.083073</td>\n",
       "    </tr>\n",
       "    <tr>\n",
       "      <th>96</th>\n",
       "      <td>0.125152</td>\n",
       "    </tr>\n",
       "    <tr>\n",
       "      <th>97</th>\n",
       "      <td>0.046132</td>\n",
       "    </tr>\n",
       "    <tr>\n",
       "      <th>98</th>\n",
       "      <td>0.036900</td>\n",
       "    </tr>\n",
       "    <tr>\n",
       "      <th>99</th>\n",
       "      <td>-0.117543</td>\n",
       "    </tr>\n",
       "  </tbody>\n",
       "</table>\n",
       "<p>100 rows × 1 columns</p>\n",
       "</div>"
      ],
      "text/plain": [
       "          x1\n",
       "0   0.062695\n",
       "1  -0.001343\n",
       "2   0.058816\n",
       "3   0.074756\n",
       "4   0.014312\n",
       "..       ...\n",
       "95  0.083073\n",
       "96  0.125152\n",
       "97  0.046132\n",
       "98  0.036900\n",
       "99 -0.117543\n",
       "\n",
       "[100 rows x 1 columns]"
      ]
     },
     "execution_count": 16,
     "metadata": {},
     "output_type": "execute_result"
    }
   ],
   "source": [
    "data_8_3 = pd.read_csv(\"testfiles/data/test7_2.csv\")"
   ]
  },
  {
   "cell_type": "code",
   "execution_count": 12,
   "metadata": {},
   "outputs": [
    {
     "data": {
      "text/plain": [
       "array([-2.19746122, -1.53369098, -0.92363499, -0.15447375,  0.42911921,\n",
       "        0.81651664,  1.1574403 ,  1.67969022,  1.85192399,  1.868763  ])"
      ]
     },
     "execution_count": 12,
     "metadata": {},
     "output_type": "execute_result"
    }
   ],
   "source": [
    "np.sort(t.rvs(df=3, loc=0, scale=1, size=10, random_state=0))\n",
    "# np.floor(3.1)"
   ]
  },
  {
   "cell_type": "code",
   "execution_count": 86,
   "metadata": {},
   "outputs": [
    {
     "data": {
      "text/plain": [
       "-0.010000000000000009"
      ]
     },
     "execution_count": 86,
     "metadata": {},
     "output_type": "execute_result"
    }
   ],
   "source": [
    "0.99/1.00 - 1"
   ]
  },
  {
   "cell_type": "code",
   "execution_count": 90,
   "metadata": {},
   "outputs": [
    {
     "data": {
      "text/plain": [
       "-0.01"
      ]
     },
     "execution_count": 90,
     "metadata": {},
     "output_type": "execute_result"
    }
   ],
   "source": [
    "(-.01)* 1"
   ]
  },
  {
   "cell_type": "code",
   "execution_count": 32,
   "metadata": {},
   "outputs": [
    {
     "data": {
      "text/plain": [
       "(np.float64(0.04156374098539328), np.float64(0.08750725498607156))"
      ]
     },
     "execution_count": 32,
     "metadata": {},
     "output_type": "execute_result"
    }
   ],
   "source": [
    "# TODO\n",
    "\n",
    "def monte_carlo_VaR_sim(x: pd.DataFrame, n_draws, return_type = \"arithmetic\", alpha = 0.05, seed = 1234):\n",
    "\n",
    "    if return_type not in [\"arithmetic\", \"geometric\", \"brownian\"]:\n",
    "        raise ValueError(\"Returns must be one of arithmetic, geometric, brownian\")\n",
    "    \n",
    "    # mu, sigma = fit_normal_dist_from_data(x)\n",
    "    # random_returns = norm.rvs(loc=mu, scale=sigma, size = n_draws, random_state = 0)\n",
    "    nu, mu, sigma = t.fit(x)\n",
    "    random_returns = t.rvs(df=nu, loc=mu, scale=sigma, size=n_draws, random_state=seed)\n",
    "\n",
    "    portfolio_value = 1\n",
    "    if return_type == \"arithmetic\":\n",
    "        portfolio_values = portfolio_value * (1 + random_returns)\n",
    "    elif return_type == \"geometric\":\n",
    "        portfolio_values = portfolio_value * np.exp(random_returns)\n",
    "    elif return_type == \"brownian\":\n",
    "        portfolio_values = portfolio_value + random_returns\n",
    "\n",
    "    portfolio_returns = portfolio_value - portfolio_values\n",
    "    sorted_values = np.sort(portfolio_returns)\n",
    "\n",
    "    alpha_index_low = int(np.floor(alpha * n_draws))\n",
    "    alpha_index_high = int(np.ceil(alpha * n_draws))\n",
    "\n",
    "    abs_VaR_low = -sorted_values[alpha_index_low]\n",
    "    rel_VaR_low = -(sorted_values[alpha_index_low] - np.mean(sorted_values))\n",
    "\n",
    "    abs_VaR_high = -sorted_values[alpha_index_high]\n",
    "    rel_VaR_high = -(sorted_values[alpha_index_high] - np.mean(sorted_values))\n",
    "\n",
    "    abs_VaR = 0.5*(abs_VaR_low + abs_VaR_high)\n",
    "    rel_VaR = 0.5*(rel_VaR_low + rel_VaR_high)\n",
    "\n",
    "    return abs_VaR, rel_VaR\n",
    "\n",
    "    # now/prev - 1 = ret   now - prev = ret * prev -> now = ret * prev + prev\n",
    "\n",
    "nu, mu, sigma = t.fit(x)\n",
    "random_returns = t.rvs(df=nu, loc=mu, scale=sigma, size=n_draws, random_state=seed)\n",
    "\n",
    "\n",
    "monte_carlo_VaR_sim(data_8_3, n_draws=1_000_000, return_type = \"arithmetic\", alpha=0.05, seed=1234)"
   ]
  },
  {
   "cell_type": "code",
   "execution_count": 113,
   "metadata": {},
   "outputs": [],
   "source": [
    "test_8_3 = pd.read_csv(\"testfiles/data/testout8_3.csv\")"
   ]
  },
  {
   "cell_type": "code",
   "execution_count": 114,
   "metadata": {},
   "outputs": [
    {
     "data": {
      "text/html": [
       "<div>\n",
       "<style scoped>\n",
       "    .dataframe tbody tr th:only-of-type {\n",
       "        vertical-align: middle;\n",
       "    }\n",
       "\n",
       "    .dataframe tbody tr th {\n",
       "        vertical-align: top;\n",
       "    }\n",
       "\n",
       "    .dataframe thead th {\n",
       "        text-align: right;\n",
       "    }\n",
       "</style>\n",
       "<table border=\"1\" class=\"dataframe\">\n",
       "  <thead>\n",
       "    <tr style=\"text-align: right;\">\n",
       "      <th></th>\n",
       "      <th>VaR Absolute</th>\n",
       "      <th>VaR Diff from Mean</th>\n",
       "    </tr>\n",
       "  </thead>\n",
       "  <tbody>\n",
       "    <tr>\n",
       "      <th>0</th>\n",
       "      <td>0.040212</td>\n",
       "      <td>0.086586</td>\n",
       "    </tr>\n",
       "  </tbody>\n",
       "</table>\n",
       "</div>"
      ],
      "text/plain": [
       "   VaR Absolute  VaR Diff from Mean\n",
       "0      0.040212            0.086586"
      ]
     },
     "execution_count": 114,
     "metadata": {},
     "output_type": "execute_result"
    }
   ],
   "source": [
    "test_8_3"
   ]
  },
  {
   "cell_type": "code",
   "execution_count": null,
   "metadata": {},
   "outputs": [],
   "source": []
  }
 ],
 "metadata": {
  "kernelspec": {
   "display_name": "Python 3.12.7 ('.venv': venv)",
   "language": "python",
   "name": "python3"
  },
  "language_info": {
   "codemirror_mode": {
    "name": "ipython",
    "version": 3
   },
   "file_extension": ".py",
   "mimetype": "text/x-python",
   "name": "python",
   "nbconvert_exporter": "python",
   "pygments_lexer": "ipython3",
   "version": "3.12.7"
  },
  "orig_nbformat": 4,
  "vscode": {
   "interpreter": {
    "hash": "536fca8a70b20dc309c68387fb4322ec0bd98e3a90262e6704560667c02e5263"
   }
  }
 },
 "nbformat": 4,
 "nbformat_minor": 2
}
