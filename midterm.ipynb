{
 "cells": [
  {
   "cell_type": "code",
   "execution_count": 3,
   "metadata": {},
   "outputs": [],
   "source": [
    "import pandas as pd\n",
    "import numpy as np"
   ]
  },
  {
   "cell_type": "markdown",
   "metadata": {},
   "source": [
    "## My Package"
   ]
  },
  {
   "cell_type": "code",
   "execution_count": 4,
   "metadata": {},
   "outputs": [],
   "source": [
    "# DISTRIBUTIONS (NORMAL AND T)\n",
    "from risk_management import distributions\n",
    "\n",
    "# mu_vector, covariance_matrix = fit_multivariate_normal_dist(x: pd.DataFrame)\n",
    "\n",
    "# mu, sigma, nu = fit_univariate_t_dist(x)\n",
    "\n",
    "# alpha, betas, mu, sigma, nu = t_regression(X: pd.DataFrame, y:pd.Series, add_constant:bool = True, print_summary = False)"
   ]
  },
  {
   "cell_type": "code",
   "execution_count": 5,
   "metadata": {},
   "outputs": [],
   "source": [
    "# MEASUREMENTS (CORRELATION, COVARIANCE, FACTORIZATIONS, RETURNS)\n",
    "from risk_management import measurements\n",
    "\n",
    "# corr = compute_correlation(x:pd.DataFrame, method=\"pearson\", drop_missing = False, exponentially_weighted = False, lambda_ = 0.97, ddof: int =1)\n",
    "\n",
    "# cov = compute_covariance(x:pd.DataFrame, drop_missing = False, exponentially_weighted = False, lambda_ = 0.97, ddof:int=1)\n",
    "\n",
    "# cov = compute_covariance_with_ew_corr(x: pd.DataFrame, corr_lambda, var_lambda)\n",
    "\n",
    "# psd = near_psd(A: pd.DataFrame, epsilon = 0.0)\n",
    "# psd = higham_psd(A: pd.DataFrame, tolerance = 1e-8, max_iterations= 100_000)\n",
    "\n",
    "# A = cholesky_factor(x:pd.DataFrame)\n",
    "\n",
    "# returns = compute_returns(x: pd.DataFrame, return_type = \"arithmetic\")\n"
   ]
  },
  {
   "cell_type": "code",
   "execution_count": 6,
   "metadata": {},
   "outputs": [],
   "source": [
    "# RISK METRICS (VAR, ES)\n",
    "from risk_management import risk_metrics\n",
    "\n",
    "# NOTE -> all of these assume that X was a set of RETURNS, not prices\n",
    "\n",
    "# abs_VaR, rel_VaR = univariate_normal_VaR(mean: float, std: float, alpha = 0.05)\n",
    "\n",
    "# nu, mu, sigma = t.fit(x)\n",
    "# abs_VaR, rel_VaR = univariate_t_VaR(mu: float, sigma: float, nu: float, alpha: float = 0.05)\n",
    "\n",
    "# abs_ES, diff_ES = expected_shortfall_normal(mu:float, sigma: float, alpha = 0.05)\n",
    "\n",
    "# mu, sigma, nu = fit_univariate_t_dist(x)\n",
    "# abs_ES, diff_ES = expected_shortfall_t(mu: float, sigma: float, nu: float, alpha: float = 0.05)\n",
    "\n"
   ]
  },
  {
   "cell_type": "code",
   "execution_count": 7,
   "metadata": {},
   "outputs": [],
   "source": [
    "## SIMULATIONS\n",
    "from risk_management import simulations\n",
    "\n",
    "# NOTE -> all of these assume that X was a set of RETURNS, not prices\n",
    "\n",
    "# simulation_data = normal_monte_carlo_simulation(mean_vector, covariance_matrix, n_sims, fix_method, seed=1234) # len(cov), n_sims\n",
    "\n",
    "# simulation_data = pca_monte_carlo_simulation(mean_vector, covariance_matrix, n_sims, explained_threshold = 0.99, seed=1234) # len(cov), n_sims\n",
    "\n",
    "# current_prices = vector of start prices of assets, holdings = vector of how many of each asset we have\n",
    "# abs_VaR, rel_VaR = monte_carlo_VaR_sim(mean_vector, covariance_matrix, current_prices, holdings, n_draws, return_type = \"arithmetic\", alpha = 0.05, seed = 1234) \n",
    "\n",
    "# sim_dataframe = VaR_ES_2_level_sim_from_copula(sample_data: pd.DataFrame, holdings: np.array, prices: np.array, fix_method, n_sims = 100_000, alpha=0.05, seed=1234)"
   ]
  },
  {
   "cell_type": "markdown",
   "metadata": {},
   "source": [
    "## Problem 1"
   ]
  },
  {
   "cell_type": "code",
   "execution_count": null,
   "metadata": {},
   "outputs": [],
   "source": [
    "# No code needed for problem 1"
   ]
  },
  {
   "cell_type": "markdown",
   "metadata": {},
   "source": [
    "## Problem 2"
   ]
  },
  {
   "cell_type": "code",
   "execution_count": 8,
   "metadata": {},
   "outputs": [],
   "source": [
    "data_2 = pd.read_csv(\"problem2.csv\")"
   ]
  },
  {
   "cell_type": "code",
   "execution_count": 9,
   "metadata": {},
   "outputs": [
    {
     "name": "stderr",
     "output_type": "stream",
     "text": [
      "/Users/willneuner/Desktop/FINTECH545/.venv/lib/python3.12/site-packages/numpy/_core/fromnumeric.py:4266: FutureWarning: The behavior of DataFrame.var with axis=None is deprecated, in a future version this will reduce over both axes and return a scalar. To retain the old behavior, pass axis=0 (or do not pass axis)\n",
      "  return var(axis=axis, dtype=dtype, out=out, ddof=ddof, **kwargs)\n"
     ]
    }
   ],
   "source": [
    "from scipy.stats import skew, kurtosis\n",
    "\n",
    "mean = np.mean(data_2)\n",
    "var = np.var(data_2, ddof=1) #ddof = 0 means /n -> biased, 1 means / (n-1) -> unbiased)\n",
    "sk = skew(data_2, bias= False) # biased for population, unbiased for sample\n",
    "kurt = kurtosis(data_2, fisher=True, bias=False) # fisher means -3 (normal has kurt of 0) -> excess kurtosis"
   ]
  },
  {
   "cell_type": "code",
   "execution_count": 10,
   "metadata": {},
   "outputs": [
    {
     "data": {
      "text/plain": [
       "(np.float64(-0.0003457749550813146),\n",
       " X    0.000485\n",
       " dtype: float64)"
      ]
     },
     "execution_count": 10,
     "metadata": {},
     "output_type": "execute_result"
    }
   ],
   "source": [
    "mean, var"
   ]
  },
  {
   "cell_type": "code",
   "execution_count": 11,
   "metadata": {},
   "outputs": [
    {
     "data": {
      "text/plain": [
       "array([0.11425266])"
      ]
     },
     "execution_count": 11,
     "metadata": {},
     "output_type": "execute_result"
    }
   ],
   "source": [
    "sk"
   ]
  },
  {
   "cell_type": "code",
   "execution_count": 12,
   "metadata": {},
   "outputs": [
    {
     "data": {
      "text/plain": [
       "array([0.96838872])"
      ]
     },
     "execution_count": 12,
     "metadata": {},
     "output_type": "execute_result"
    }
   ],
   "source": [
    "kurt"
   ]
  },
  {
   "cell_type": "code",
   "execution_count": 49,
   "metadata": {},
   "outputs": [],
   "source": [
    "mu_vector, covariance_matrix = distributions.fit_multivariate_normal_dist(data_2)\n",
    "\n",
    "mu, sigma, nu = distributions.fit_univariate_t_dist(data_2)"
   ]
  },
  {
   "cell_type": "code",
   "execution_count": 14,
   "metadata": {},
   "outputs": [
    {
     "name": "stdout",
     "output_type": "stream",
     "text": [
      "-0.0003457749550813146 0.02203232224742731\n"
     ]
    }
   ],
   "source": [
    "# normal\n",
    "\n",
    "norm_mean = mu_vector.iloc[0]\n",
    "norm_sigma = np.sqrt(covariance_matrix.iloc[0,0])\n",
    "print(norm_mean, norm_sigma)"
   ]
  },
  {
   "cell_type": "code",
   "execution_count": 15,
   "metadata": {},
   "outputs": [
    {
     "name": "stdout",
     "output_type": "stream",
     "text": [
      "-0.0004775894210559369 0.019398966622270863 8.85936027362565\n"
     ]
    }
   ],
   "source": [
    "# t\n",
    "print(mu, sigma, nu)"
   ]
  },
  {
   "cell_type": "markdown",
   "metadata": {},
   "source": [
    "## Problem 3"
   ]
  },
  {
   "cell_type": "code",
   "execution_count": 16,
   "metadata": {},
   "outputs": [],
   "source": [
    "norm_mean, norm_sigma\n",
    "# use 0.0 instead of the actual mean (or just use rel_vAr)\n",
    "abs_VaR_norm, rel_VaR_norm = risk_metrics.univariate_normal_VaR(0.0, norm_sigma, alpha = 0.05)\n",
    "\n",
    "abs_VaR_t, rel_VaR_t = risk_metrics.univariate_t_VaR(0.0, sigma, nu, alpha=0.05)\n",
    "\n",
    "abs_ES_norm, diff_ES_norm = risk_metrics.expected_shortfall_normal(0.0, norm_sigma, alpha = 0.05)\n",
    "\n",
    "abs_ES_t, diff_ES_t = risk_metrics.expected_shortfall_t(0.0, sigma, nu, alpha = 0.05)"
   ]
  },
  {
   "cell_type": "code",
   "execution_count": 17,
   "metadata": {},
   "outputs": [
    {
     "data": {
      "text/plain": [
       "np.float64(0.03623994515884444)"
      ]
     },
     "execution_count": 17,
     "metadata": {},
     "output_type": "execute_result"
    }
   ],
   "source": [
    "abs_VaR_norm"
   ]
  },
  {
   "cell_type": "code",
   "execution_count": 18,
   "metadata": {},
   "outputs": [
    {
     "data": {
      "text/plain": [
       "np.float64(0.035624875050607886)"
      ]
     },
     "execution_count": 18,
     "metadata": {},
     "output_type": "execute_result"
    }
   ],
   "source": [
    "abs_VaR_t"
   ]
  },
  {
   "cell_type": "code",
   "execution_count": 19,
   "metadata": {},
   "outputs": [
    {
     "data": {
      "text/plain": [
       "np.float64(0.04544635327889909)"
      ]
     },
     "execution_count": 19,
     "metadata": {},
     "output_type": "execute_result"
    }
   ],
   "source": [
    "abs_ES_norm"
   ]
  },
  {
   "cell_type": "code",
   "execution_count": 20,
   "metadata": {},
   "outputs": [
    {
     "data": {
      "text/plain": [
       "np.float64(0.04775264153306842)"
      ]
     },
     "execution_count": 20,
     "metadata": {},
     "output_type": "execute_result"
    }
   ],
   "source": [
    "abs_ES_t"
   ]
  },
  {
   "cell_type": "code",
   "execution_count": 68,
   "metadata": {},
   "outputs": [
    {
     "data": {
      "text/plain": [
       "<matplotlib.legend.Legend at 0x127a52a50>"
      ]
     },
     "execution_count": 68,
     "metadata": {},
     "output_type": "execute_result"
    },
    {
     "data": {
      "image/png": "[encoded data removed]",
      "text/plain": [
       "<Figure size 640x480 with 1 Axes>"
      ]
     },
     "metadata": {},
     "output_type": "display_data"
    }
   ],
   "source": [
    "import numpy as np\n",
    "from scipy.stats import t, norm\n",
    "import matplotlib.pyplot as plt\n",
    "fig, ax = plt.subplots(1, 1)\n",
    "\n",
    "df = nu\n",
    "x = np.linspace(t.ppf(0.001, df, loc=mu, scale=sigma),\n",
    "                t.ppf(0.999, df, loc=mu, scale=sigma), 10000)\n",
    "ax.plot(x, t.pdf(x, df, loc=mu, scale=sigma),\n",
    "       'r-', lw=5, alpha=0.6, label='t pdf')\n",
    "\n",
    "plt.vlines(t.ppf(0.05, df, loc=mu, scale=sigma), 0, 20, colors=\"r\")\n",
    "\n",
    "\n",
    "x = np.linspace(norm.ppf(0.001,loc=norm_mean, scale=norm_sigma),\n",
    "                norm.ppf(0.999,loc=norm_mean, scale=norm_sigma), 10000)\n",
    "ax.plot(x, norm.pdf(x, loc=norm_mean, scale=norm_sigma),\n",
    "       'b-', lw=5, alpha=0.6, label='norm pdf')\n",
    "\n",
    "plt.vlines(norm.ppf(0.05, loc=norm_mean, scale=norm_sigma), 0, 20, colors=\"b\")\n",
    "plt.legend()\n",
    "# ax.plot()"
   ]
  },
  {
   "cell_type": "markdown",
   "metadata": {},
   "source": [
    "## Problem 4"
   ]
  },
  {
   "cell_type": "code",
   "execution_count": 21,
   "metadata": {},
   "outputs": [],
   "source": [
    "data_4 = pd.read_csv(\"problem4.csv\")"
   ]
  },
  {
   "cell_type": "code",
   "execution_count": 22,
   "metadata": {},
   "outputs": [],
   "source": [
    "corr = measurements.compute_correlation(data_4, method=\"pearson\", drop_missing = False, exponentially_weighted = True, lambda_ = 0.94, ddof =1)"
   ]
  },
  {
   "cell_type": "code",
   "execution_count": 23,
   "metadata": {},
   "outputs": [
    {
     "data": {
      "text/html": [
       "<div>\n",
       "<style scoped>\n",
       "    .dataframe tbody tr th:only-of-type {\n",
       "        vertical-align: middle;\n",
       "    }\n",
       "\n",
       "    .dataframe tbody tr th {\n",
       "        vertical-align: top;\n",
       "    }\n",
       "\n",
       "    .dataframe thead th {\n",
       "        text-align: right;\n",
       "    }\n",
       "</style>\n",
       "<table border=\"1\" class=\"dataframe\">\n",
       "  <thead>\n",
       "    <tr style=\"text-align: right;\">\n",
       "      <th></th>\n",
       "      <th>x1</th>\n",
       "      <th>x2</th>\n",
       "      <th>x3</th>\n",
       "    </tr>\n",
       "  </thead>\n",
       "  <tbody>\n",
       "    <tr>\n",
       "      <th>x1</th>\n",
       "      <td>1.000000</td>\n",
       "      <td>0.711329</td>\n",
       "      <td>0.807175</td>\n",
       "    </tr>\n",
       "    <tr>\n",
       "      <th>x2</th>\n",
       "      <td>0.711329</td>\n",
       "      <td>1.000000</td>\n",
       "      <td>0.713020</td>\n",
       "    </tr>\n",
       "    <tr>\n",
       "      <th>x3</th>\n",
       "      <td>0.807175</td>\n",
       "      <td>0.713020</td>\n",
       "      <td>1.000000</td>\n",
       "    </tr>\n",
       "  </tbody>\n",
       "</table>\n",
       "</div>"
      ],
      "text/plain": [
       "          x1        x2        x3\n",
       "x1  1.000000  0.711329  0.807175\n",
       "x2  0.711329  1.000000  0.713020\n",
       "x3  0.807175  0.713020  1.000000"
      ]
     },
     "execution_count": 23,
     "metadata": {},
     "output_type": "execute_result"
    }
   ],
   "source": [
    "corr"
   ]
  },
  {
   "cell_type": "code",
   "execution_count": 24,
   "metadata": {},
   "outputs": [
    {
     "data": {
      "text/plain": [
       "array([0.01537881, 0.03551743, 0.02781346])"
      ]
     },
     "execution_count": 24,
     "metadata": {},
     "output_type": "execute_result"
    }
   ],
   "source": [
    "cov = measurements.compute_covariance(data_4, drop_missing = False, exponentially_weighted = True, lambda_ = 0.97, ddof=1)\n",
    "np.diag(cov)"
   ]
  },
  {
   "cell_type": "code",
   "execution_count": 25,
   "metadata": {},
   "outputs": [
    {
     "data": {
      "text/html": [
       "<div>\n",
       "<style scoped>\n",
       "    .dataframe tbody tr th:only-of-type {\n",
       "        vertical-align: middle;\n",
       "    }\n",
       "\n",
       "    .dataframe tbody tr th {\n",
       "        vertical-align: top;\n",
       "    }\n",
       "\n",
       "    .dataframe thead th {\n",
       "        text-align: right;\n",
       "    }\n",
       "</style>\n",
       "<table border=\"1\" class=\"dataframe\">\n",
       "  <thead>\n",
       "    <tr style=\"text-align: right;\">\n",
       "      <th></th>\n",
       "      <th>x1</th>\n",
       "      <th>x2</th>\n",
       "      <th>x3</th>\n",
       "    </tr>\n",
       "  </thead>\n",
       "  <tbody>\n",
       "    <tr>\n",
       "      <th>x1</th>\n",
       "      <td>0.015379</td>\n",
       "      <td>0.016625</td>\n",
       "      <td>0.016694</td>\n",
       "    </tr>\n",
       "    <tr>\n",
       "      <th>x2</th>\n",
       "      <td>0.016625</td>\n",
       "      <td>0.035517</td>\n",
       "      <td>0.022410</td>\n",
       "    </tr>\n",
       "    <tr>\n",
       "      <th>x3</th>\n",
       "      <td>0.016694</td>\n",
       "      <td>0.022410</td>\n",
       "      <td>0.027813</td>\n",
       "    </tr>\n",
       "  </tbody>\n",
       "</table>\n",
       "</div>"
      ],
      "text/plain": [
       "          x1        x2        x3\n",
       "x1  0.015379  0.016625  0.016694\n",
       "x2  0.016625  0.035517  0.022410\n",
       "x3  0.016694  0.022410  0.027813"
      ]
     },
     "execution_count": 25,
     "metadata": {},
     "output_type": "execute_result"
    }
   ],
   "source": [
    "cov_ew_corr = measurements.compute_covariance_with_ew_corr(data_4, corr_lambda=0.94, var_lambda=0.97)\n",
    "cov_ew_corr"
   ]
  },
  {
   "cell_type": "code",
   "execution_count": 26,
   "metadata": {},
   "outputs": [
    {
     "data": {
      "text/html": [
       "<div>\n",
       "<style scoped>\n",
       "    .dataframe tbody tr th:only-of-type {\n",
       "        vertical-align: middle;\n",
       "    }\n",
       "\n",
       "    .dataframe tbody tr th {\n",
       "        vertical-align: top;\n",
       "    }\n",
       "\n",
       "    .dataframe thead th {\n",
       "        text-align: right;\n",
       "    }\n",
       "</style>\n",
       "<table border=\"1\" class=\"dataframe\">\n",
       "  <thead>\n",
       "    <tr style=\"text-align: right;\">\n",
       "      <th></th>\n",
       "      <th>x1</th>\n",
       "      <th>x2</th>\n",
       "      <th>x3</th>\n",
       "    </tr>\n",
       "  </thead>\n",
       "  <tbody>\n",
       "    <tr>\n",
       "      <th>0</th>\n",
       "      <td>0.034246</td>\n",
       "      <td>0.121262</td>\n",
       "      <td>-0.115528</td>\n",
       "    </tr>\n",
       "    <tr>\n",
       "      <th>1</th>\n",
       "      <td>0.131169</td>\n",
       "      <td>0.192027</td>\n",
       "      <td>0.043622</td>\n",
       "    </tr>\n",
       "    <tr>\n",
       "      <th>2</th>\n",
       "      <td>0.125515</td>\n",
       "      <td>-0.108881</td>\n",
       "      <td>-0.004787</td>\n",
       "    </tr>\n",
       "    <tr>\n",
       "      <th>3</th>\n",
       "      <td>0.157331</td>\n",
       "      <td>0.033694</td>\n",
       "      <td>0.109034</td>\n",
       "    </tr>\n",
       "    <tr>\n",
       "      <th>4</th>\n",
       "      <td>-0.119847</td>\n",
       "      <td>-0.249491</td>\n",
       "      <td>-0.234808</td>\n",
       "    </tr>\n",
       "    <tr>\n",
       "      <th>...</th>\n",
       "      <td>...</td>\n",
       "      <td>...</td>\n",
       "      <td>...</td>\n",
       "    </tr>\n",
       "    <tr>\n",
       "      <th>495</th>\n",
       "      <td>-0.087194</td>\n",
       "      <td>-0.062952</td>\n",
       "      <td>-0.125135</td>\n",
       "    </tr>\n",
       "    <tr>\n",
       "      <th>496</th>\n",
       "      <td>-0.015536</td>\n",
       "      <td>-0.134150</td>\n",
       "      <td>0.012078</td>\n",
       "    </tr>\n",
       "    <tr>\n",
       "      <th>497</th>\n",
       "      <td>-0.182251</td>\n",
       "      <td>-0.144493</td>\n",
       "      <td>-0.240579</td>\n",
       "    </tr>\n",
       "    <tr>\n",
       "      <th>498</th>\n",
       "      <td>0.167292</td>\n",
       "      <td>0.207168</td>\n",
       "      <td>0.128010</td>\n",
       "    </tr>\n",
       "    <tr>\n",
       "      <th>499</th>\n",
       "      <td>-0.203464</td>\n",
       "      <td>-0.310405</td>\n",
       "      <td>-0.301828</td>\n",
       "    </tr>\n",
       "  </tbody>\n",
       "</table>\n",
       "<p>500 rows × 3 columns</p>\n",
       "</div>"
      ],
      "text/plain": [
       "           x1        x2        x3\n",
       "0    0.034246  0.121262 -0.115528\n",
       "1    0.131169  0.192027  0.043622\n",
       "2    0.125515 -0.108881 -0.004787\n",
       "3    0.157331  0.033694  0.109034\n",
       "4   -0.119847 -0.249491 -0.234808\n",
       "..        ...       ...       ...\n",
       "495 -0.087194 -0.062952 -0.125135\n",
       "496 -0.015536 -0.134150  0.012078\n",
       "497 -0.182251 -0.144493 -0.240579\n",
       "498  0.167292  0.207168  0.128010\n",
       "499 -0.203464 -0.310405 -0.301828\n",
       "\n",
       "[500 rows x 3 columns]"
      ]
     },
     "execution_count": 26,
     "metadata": {},
     "output_type": "execute_result"
    }
   ],
   "source": [
    "data_4"
   ]
  },
  {
   "cell_type": "markdown",
   "metadata": {},
   "source": [
    "## Problem 5"
   ]
  },
  {
   "cell_type": "code",
   "execution_count": 27,
   "metadata": {},
   "outputs": [],
   "source": [
    "data_5 = pd.read_csv(\"problem5.csv\")"
   ]
  },
  {
   "cell_type": "code",
   "execution_count": 28,
   "metadata": {},
   "outputs": [],
   "source": [
    "cov = measurements.compute_covariance(data_5, drop_missing = False, exponentially_weighted = False, lambda_ = 0.97, ddof = 1)"
   ]
  },
  {
   "cell_type": "code",
   "execution_count": 29,
   "metadata": {},
   "outputs": [
    {
     "data": {
      "text/html": [
       "<div>\n",
       "<style scoped>\n",
       "    .dataframe tbody tr th:only-of-type {\n",
       "        vertical-align: middle;\n",
       "    }\n",
       "\n",
       "    .dataframe tbody tr th {\n",
       "        vertical-align: top;\n",
       "    }\n",
       "\n",
       "    .dataframe thead th {\n",
       "        text-align: right;\n",
       "    }\n",
       "</style>\n",
       "<table border=\"1\" class=\"dataframe\">\n",
       "  <thead>\n",
       "    <tr style=\"text-align: right;\">\n",
       "      <th></th>\n",
       "      <th>x1</th>\n",
       "      <th>x2</th>\n",
       "      <th>x3</th>\n",
       "      <th>x4</th>\n",
       "      <th>x5</th>\n",
       "    </tr>\n",
       "  </thead>\n",
       "  <tbody>\n",
       "    <tr>\n",
       "      <th>x1</th>\n",
       "      <td>1.470484</td>\n",
       "      <td>1.454214</td>\n",
       "      <td>0.877269</td>\n",
       "      <td>1.903226</td>\n",
       "      <td>1.444361</td>\n",
       "    </tr>\n",
       "    <tr>\n",
       "      <th>x2</th>\n",
       "      <td>1.454214</td>\n",
       "      <td>1.252078</td>\n",
       "      <td>0.539548</td>\n",
       "      <td>1.621918</td>\n",
       "      <td>1.237877</td>\n",
       "    </tr>\n",
       "    <tr>\n",
       "      <th>x3</th>\n",
       "      <td>0.877269</td>\n",
       "      <td>0.539548</td>\n",
       "      <td>1.272425</td>\n",
       "      <td>1.171959</td>\n",
       "      <td>1.091912</td>\n",
       "    </tr>\n",
       "    <tr>\n",
       "      <th>x4</th>\n",
       "      <td>1.903226</td>\n",
       "      <td>1.621918</td>\n",
       "      <td>1.171959</td>\n",
       "      <td>1.814469</td>\n",
       "      <td>1.589729</td>\n",
       "    </tr>\n",
       "    <tr>\n",
       "      <th>x5</th>\n",
       "      <td>1.444361</td>\n",
       "      <td>1.237877</td>\n",
       "      <td>1.091912</td>\n",
       "      <td>1.589729</td>\n",
       "      <td>1.396186</td>\n",
       "    </tr>\n",
       "  </tbody>\n",
       "</table>\n",
       "</div>"
      ],
      "text/plain": [
       "          x1        x2        x3        x4        x5\n",
       "x1  1.470484  1.454214  0.877269  1.903226  1.444361\n",
       "x2  1.454214  1.252078  0.539548  1.621918  1.237877\n",
       "x3  0.877269  0.539548  1.272425  1.171959  1.091912\n",
       "x4  1.903226  1.621918  1.171959  1.814469  1.589729\n",
       "x5  1.444361  1.237877  1.091912  1.589729  1.396186"
      ]
     },
     "execution_count": 29,
     "metadata": {},
     "output_type": "execute_result"
    }
   ],
   "source": [
    "cov"
   ]
  },
  {
   "cell_type": "code",
   "execution_count": 30,
   "metadata": {},
   "outputs": [
    {
     "data": {
      "text/plain": [
       "array([-0.31024286, -0.13323183,  0.02797828,  0.83443367,  6.78670573])"
      ]
     },
     "execution_count": 30,
     "metadata": {},
     "output_type": "execute_result"
    }
   ],
   "source": [
    "# find the determinism of the matrix\n",
    "eigvals, eigvecs = np.linalg.eigh(cov)\n",
    "eigvals"
   ]
  },
  {
   "cell_type": "code",
   "execution_count": 31,
   "metadata": {},
   "outputs": [
    {
     "data": {
      "text/plain": [
       "array([[1.47048437, 1.33236075, 0.88437762, 1.62760182, 1.3995556 ],\n",
       "       [1.33236075, 1.25207795, 0.61902799, 1.4506041 , 1.21445034],\n",
       "       [0.88437762, 0.61902799, 1.272425  , 1.07684649, 1.05965831],\n",
       "       [1.62760182, 1.4506041 , 1.07684649, 1.81446921, 1.57792823],\n",
       "       [1.3995556 , 1.21445034, 1.05965831, 1.57792823, 1.39618646]])"
      ]
     },
     "execution_count": 31,
     "metadata": {},
     "output_type": "execute_result"
    }
   ],
   "source": [
    "# Matrix IS non-definite, use higham to fix\n",
    "psd = measurements.higham_psd(cov, tolerance = 1e-30, max_iterations= 100_000)\n",
    "psd"
   ]
  },
  {
   "cell_type": "code",
   "execution_count": 32,
   "metadata": {},
   "outputs": [
    {
     "data": {
      "text/plain": [
       "array([1.66573288e-16, 9.33125467e-16, 2.16398622e-15, 7.36663625e-01,\n",
       "       6.46897936e+00])"
      ]
     },
     "execution_count": 32,
     "metadata": {},
     "output_type": "execute_result"
    }
   ],
   "source": [
    "eigvals, eigvecs = np.linalg.eigh(psd)\n",
    "eigvals"
   ]
  },
  {
   "cell_type": "code",
   "execution_count": 33,
   "metadata": {},
   "outputs": [
    {
     "name": "stdout",
     "output_type": "stream",
     "text": [
      "[6.46897936e+00 7.36663625e-01 2.16398622e-15 9.33125467e-16\n",
      " 1.66573288e-16]\n",
      "[8.97765734e-01 1.02234266e-01 3.00318268e-16 1.29499264e-16\n",
      " 2.31170609e-17]\n",
      "Cummulative: 0 0.8977657335513296\n",
      "Cummulative: 1 0.9999999999999997\n",
      "Cummulative: 2 0.9999999999999999\n",
      "Cummulative: 3 1.0\n",
      "Cummulative: 4 1.0\n"
     ]
    }
   ],
   "source": [
    "# Variance explained for each of our principal components\n",
    "# pulled from simulations.pca_monte_carlo_simulation()\n",
    "eigvals, eigvecs = np.linalg.eigh(psd)\n",
    "eigvals = np.clip(eigvals, 0, None)\n",
    "idx = np.argsort(eigvals)[::-1]\n",
    "eigvals = eigvals[idx]\n",
    "eigvecs = eigvecs[:, idx]\n",
    "\n",
    "k = len(eigvals)\n",
    "pct_explained = eigvals[:k] / eigvals.sum()\n",
    "print(eigvals)\n",
    "print(pct_explained)\n",
    "\n",
    "for i in range(5):\n",
    "    print(f\"Cummulative: {i}\", eigvals[:i+1].sum() / eigvals.sum())"
   ]
  },
  {
   "cell_type": "markdown",
   "metadata": {},
   "source": [
    "## Problem 6"
   ]
  },
  {
   "cell_type": "code",
   "execution_count": 34,
   "metadata": {},
   "outputs": [],
   "source": [
    "data_6 = pd.read_csv(\"problem6.csv\")\n",
    "c = data_6.set_index(\"Date\")"
   ]
  },
  {
   "cell_type": "code",
   "execution_count": 35,
   "metadata": {},
   "outputs": [
    {
     "data": {
      "text/html": [
       "<div>\n",
       "<style scoped>\n",
       "    .dataframe tbody tr th:only-of-type {\n",
       "        vertical-align: middle;\n",
       "    }\n",
       "\n",
       "    .dataframe tbody tr th {\n",
       "        vertical-align: top;\n",
       "    }\n",
       "\n",
       "    .dataframe thead th {\n",
       "        text-align: right;\n",
       "    }\n",
       "</style>\n",
       "<table border=\"1\" class=\"dataframe\">\n",
       "  <thead>\n",
       "    <tr style=\"text-align: right;\">\n",
       "      <th></th>\n",
       "      <th>x1</th>\n",
       "      <th>x2</th>\n",
       "      <th>x3</th>\n",
       "      <th>Date</th>\n",
       "    </tr>\n",
       "  </thead>\n",
       "  <tbody>\n",
       "    <tr>\n",
       "      <th>0</th>\n",
       "      <td>102.975983</td>\n",
       "      <td>101.234230</td>\n",
       "      <td>101.390965</td>\n",
       "      <td>2025-01-01</td>\n",
       "    </tr>\n",
       "    <tr>\n",
       "      <th>1</th>\n",
       "      <td>102.553769</td>\n",
       "      <td>102.056711</td>\n",
       "      <td>103.589863</td>\n",
       "      <td>2025-01-02</td>\n",
       "    </tr>\n",
       "    <tr>\n",
       "      <th>2</th>\n",
       "      <td>102.362551</td>\n",
       "      <td>100.605815</td>\n",
       "      <td>99.204933</td>\n",
       "      <td>2025-01-03</td>\n",
       "    </tr>\n",
       "    <tr>\n",
       "      <th>3</th>\n",
       "      <td>104.522707</td>\n",
       "      <td>100.479907</td>\n",
       "      <td>101.798573</td>\n",
       "      <td>2025-01-04</td>\n",
       "    </tr>\n",
       "    <tr>\n",
       "      <th>4</th>\n",
       "      <td>103.682209</td>\n",
       "      <td>100.637430</td>\n",
       "      <td>101.599604</td>\n",
       "      <td>2025-01-05</td>\n",
       "    </tr>\n",
       "    <tr>\n",
       "      <th>...</th>\n",
       "      <td>...</td>\n",
       "      <td>...</td>\n",
       "      <td>...</td>\n",
       "      <td>...</td>\n",
       "    </tr>\n",
       "    <tr>\n",
       "      <th>245</th>\n",
       "      <td>79.313328</td>\n",
       "      <td>74.647039</td>\n",
       "      <td>78.285858</td>\n",
       "      <td>2025-09-03</td>\n",
       "    </tr>\n",
       "    <tr>\n",
       "      <th>246</th>\n",
       "      <td>78.871520</td>\n",
       "      <td>74.591839</td>\n",
       "      <td>77.059249</td>\n",
       "      <td>2025-09-04</td>\n",
       "    </tr>\n",
       "    <tr>\n",
       "      <th>247</th>\n",
       "      <td>80.080646</td>\n",
       "      <td>74.965529</td>\n",
       "      <td>77.739804</td>\n",
       "      <td>2025-09-05</td>\n",
       "    </tr>\n",
       "    <tr>\n",
       "      <th>248</th>\n",
       "      <td>81.411350</td>\n",
       "      <td>75.702936</td>\n",
       "      <td>79.729444</td>\n",
       "      <td>2025-09-06</td>\n",
       "    </tr>\n",
       "    <tr>\n",
       "      <th>249</th>\n",
       "      <td>83.063214</td>\n",
       "      <td>77.404861</td>\n",
       "      <td>82.156148</td>\n",
       "      <td>2025-09-07</td>\n",
       "    </tr>\n",
       "  </tbody>\n",
       "</table>\n",
       "<p>250 rows × 4 columns</p>\n",
       "</div>"
      ],
      "text/plain": [
       "             x1          x2          x3        Date\n",
       "0    102.975983  101.234230  101.390965  2025-01-01\n",
       "1    102.553769  102.056711  103.589863  2025-01-02\n",
       "2    102.362551  100.605815   99.204933  2025-01-03\n",
       "3    104.522707  100.479907  101.798573  2025-01-04\n",
       "4    103.682209  100.637430  101.599604  2025-01-05\n",
       "..          ...         ...         ...         ...\n",
       "245   79.313328   74.647039   78.285858  2025-09-03\n",
       "246   78.871520   74.591839   77.059249  2025-09-04\n",
       "247   80.080646   74.965529   77.739804  2025-09-05\n",
       "248   81.411350   75.702936   79.729444  2025-09-06\n",
       "249   83.063214   77.404861   82.156148  2025-09-07\n",
       "\n",
       "[250 rows x 4 columns]"
      ]
     },
     "execution_count": 35,
     "metadata": {},
     "output_type": "execute_result"
    }
   ],
   "source": [
    "data_6"
   ]
  },
  {
   "cell_type": "code",
   "execution_count": 36,
   "metadata": {},
   "outputs": [
    {
     "data": {
      "text/html": [
       "<div>\n",
       "<style scoped>\n",
       "    .dataframe tbody tr th:only-of-type {\n",
       "        vertical-align: middle;\n",
       "    }\n",
       "\n",
       "    .dataframe tbody tr th {\n",
       "        vertical-align: top;\n",
       "    }\n",
       "\n",
       "    .dataframe thead th {\n",
       "        text-align: right;\n",
       "    }\n",
       "</style>\n",
       "<table border=\"1\" class=\"dataframe\">\n",
       "  <thead>\n",
       "    <tr style=\"text-align: right;\">\n",
       "      <th></th>\n",
       "      <th>x1</th>\n",
       "      <th>x2</th>\n",
       "      <th>x3</th>\n",
       "    </tr>\n",
       "    <tr>\n",
       "      <th>Date</th>\n",
       "      <th></th>\n",
       "      <th></th>\n",
       "      <th></th>\n",
       "    </tr>\n",
       "  </thead>\n",
       "  <tbody>\n",
       "    <tr>\n",
       "      <th>2025-01-02</th>\n",
       "      <td>-0.004100</td>\n",
       "      <td>0.008125</td>\n",
       "      <td>0.021687</td>\n",
       "    </tr>\n",
       "    <tr>\n",
       "      <th>2025-01-03</th>\n",
       "      <td>-0.001865</td>\n",
       "      <td>-0.014217</td>\n",
       "      <td>-0.042330</td>\n",
       "    </tr>\n",
       "    <tr>\n",
       "      <th>2025-01-04</th>\n",
       "      <td>0.021103</td>\n",
       "      <td>-0.001252</td>\n",
       "      <td>0.026144</td>\n",
       "    </tr>\n",
       "    <tr>\n",
       "      <th>2025-01-05</th>\n",
       "      <td>-0.008041</td>\n",
       "      <td>0.001568</td>\n",
       "      <td>-0.001955</td>\n",
       "    </tr>\n",
       "    <tr>\n",
       "      <th>2025-01-06</th>\n",
       "      <td>-0.003674</td>\n",
       "      <td>-0.006858</td>\n",
       "      <td>-0.027222</td>\n",
       "    </tr>\n",
       "    <tr>\n",
       "      <th>...</th>\n",
       "      <td>...</td>\n",
       "      <td>...</td>\n",
       "      <td>...</td>\n",
       "    </tr>\n",
       "    <tr>\n",
       "      <th>2025-09-03</th>\n",
       "      <td>-0.017321</td>\n",
       "      <td>-0.029331</td>\n",
       "      <td>-0.002462</td>\n",
       "    </tr>\n",
       "    <tr>\n",
       "      <th>2025-09-04</th>\n",
       "      <td>-0.005570</td>\n",
       "      <td>-0.000739</td>\n",
       "      <td>-0.015668</td>\n",
       "    </tr>\n",
       "    <tr>\n",
       "      <th>2025-09-05</th>\n",
       "      <td>0.015330</td>\n",
       "      <td>0.005010</td>\n",
       "      <td>0.008832</td>\n",
       "    </tr>\n",
       "    <tr>\n",
       "      <th>2025-09-06</th>\n",
       "      <td>0.016617</td>\n",
       "      <td>0.009837</td>\n",
       "      <td>0.025594</td>\n",
       "    </tr>\n",
       "    <tr>\n",
       "      <th>2025-09-07</th>\n",
       "      <td>0.020290</td>\n",
       "      <td>0.022482</td>\n",
       "      <td>0.030437</td>\n",
       "    </tr>\n",
       "  </tbody>\n",
       "</table>\n",
       "<p>249 rows × 3 columns</p>\n",
       "</div>"
      ],
      "text/plain": [
       "                  x1        x2        x3\n",
       "Date                                    \n",
       "2025-01-02 -0.004100  0.008125  0.021687\n",
       "2025-01-03 -0.001865 -0.014217 -0.042330\n",
       "2025-01-04  0.021103 -0.001252  0.026144\n",
       "2025-01-05 -0.008041  0.001568 -0.001955\n",
       "2025-01-06 -0.003674 -0.006858 -0.027222\n",
       "...              ...       ...       ...\n",
       "2025-09-03 -0.017321 -0.029331 -0.002462\n",
       "2025-09-04 -0.005570 -0.000739 -0.015668\n",
       "2025-09-05  0.015330  0.005010  0.008832\n",
       "2025-09-06  0.016617  0.009837  0.025594\n",
       "2025-09-07  0.020290  0.022482  0.030437\n",
       "\n",
       "[249 rows x 3 columns]"
      ]
     },
     "execution_count": 36,
     "metadata": {},
     "output_type": "execute_result"
    }
   ],
   "source": [
    "# returns\n",
    "returns = measurements.compute_returns(c, return_type = \"arithmetic\")\n",
    "returns"
   ]
  },
  {
   "cell_type": "code",
   "execution_count": 37,
   "metadata": {},
   "outputs": [
    {
     "data": {
      "text/plain": [
       "x1   -8.638784e-19\n",
       "x2    1.476953e-18\n",
       "x3   -3.148976e-18\n",
       "dtype: float64"
      ]
     },
     "execution_count": 37,
     "metadata": {},
     "output_type": "execute_result"
    }
   ],
   "source": [
    "demeaned_returns = returns - returns.mean()\n",
    "demeaned_returns.mean()"
   ]
  },
  {
   "cell_type": "code",
   "execution_count": 38,
   "metadata": {},
   "outputs": [],
   "source": [
    "x1 = demeaned_returns['x1']\n",
    "mu1, sigma1, nu1 = distributions.fit_univariate_t_dist(x1)\n",
    "x2 = demeaned_returns['x2']\n",
    "mu2, sigma2, nu2 = distributions.fit_univariate_t_dist(x2)\n",
    "x3 = demeaned_returns['x3']\n",
    "mu3, sigma3, nu3 = distributions.fit_univariate_t_dist(x3)"
   ]
  },
  {
   "cell_type": "code",
   "execution_count": 39,
   "metadata": {},
   "outputs": [
    {
     "data": {
      "text/plain": [
       "(np.float64(-0.0004786520929827172),\n",
       " np.float64(0.012907549628639717),\n",
       " np.float64(4.729830909131829))"
      ]
     },
     "execution_count": 39,
     "metadata": {},
     "output_type": "execute_result"
    }
   ],
   "source": [
    "mu1, sigma1, nu1"
   ]
  },
  {
   "cell_type": "code",
   "execution_count": 40,
   "metadata": {},
   "outputs": [
    {
     "data": {
      "text/plain": [
       "(np.float64(-4.350220543514708e-05),\n",
       " np.float64(0.009058419601620012),\n",
       " np.float64(6.766945042505089))"
      ]
     },
     "execution_count": 40,
     "metadata": {},
     "output_type": "execute_result"
    }
   ],
   "source": [
    "mu2, sigma2, nu2"
   ]
  },
  {
   "cell_type": "code",
   "execution_count": 41,
   "metadata": {},
   "outputs": [
    {
     "data": {
      "text/plain": [
       "(np.float64(7.48934264331786e-05),\n",
       " np.float64(0.01706272432180566),\n",
       " np.float64(39.864383658541556))"
      ]
     },
     "execution_count": 41,
     "metadata": {},
     "output_type": "execute_result"
    }
   ],
   "source": [
    "mu3, sigma3, nu3"
   ]
  },
  {
   "cell_type": "code",
   "execution_count": 69,
   "metadata": {},
   "outputs": [
    {
     "data": {
      "text/plain": [
       "x1    83.063214\n",
       "x2    77.404861\n",
       "x3    82.156148\n",
       "Name: 2025-09-07, dtype: float64"
      ]
     },
     "execution_count": 69,
     "metadata": {},
     "output_type": "execute_result"
    }
   ],
   "source": [
    "c.iloc[-1]"
   ]
  },
  {
   "cell_type": "code",
   "execution_count": 42,
   "metadata": {},
   "outputs": [
    {
     "data": {
      "text/plain": [
       "array([83.06321359, 77.40486139, 82.1561478 ])"
      ]
     },
     "execution_count": 42,
     "metadata": {},
     "output_type": "execute_result"
    }
   ],
   "source": [
    "prices = np.array(c.iloc[-1])\n",
    "prices"
   ]
  },
  {
   "cell_type": "code",
   "execution_count": 43,
   "metadata": {},
   "outputs": [
    {
     "data": {
      "text/html": [
       "<div>\n",
       "<style scoped>\n",
       "    .dataframe tbody tr th:only-of-type {\n",
       "        vertical-align: middle;\n",
       "    }\n",
       "\n",
       "    .dataframe tbody tr th {\n",
       "        vertical-align: top;\n",
       "    }\n",
       "\n",
       "    .dataframe thead th {\n",
       "        text-align: right;\n",
       "    }\n",
       "</style>\n",
       "<table border=\"1\" class=\"dataframe\">\n",
       "  <thead>\n",
       "    <tr style=\"text-align: right;\">\n",
       "      <th></th>\n",
       "      <th>x1</th>\n",
       "      <th>x2</th>\n",
       "      <th>x3</th>\n",
       "    </tr>\n",
       "  </thead>\n",
       "  <tbody>\n",
       "    <tr>\n",
       "      <th>x1</th>\n",
       "      <td>1.000000</td>\n",
       "      <td>0.446299</td>\n",
       "      <td>0.394197</td>\n",
       "    </tr>\n",
       "    <tr>\n",
       "      <th>x2</th>\n",
       "      <td>0.446299</td>\n",
       "      <td>1.000000</td>\n",
       "      <td>0.511761</td>\n",
       "    </tr>\n",
       "    <tr>\n",
       "      <th>x3</th>\n",
       "      <td>0.394197</td>\n",
       "      <td>0.511761</td>\n",
       "      <td>1.000000</td>\n",
       "    </tr>\n",
       "  </tbody>\n",
       "</table>\n",
       "</div>"
      ],
      "text/plain": [
       "          x1        x2        x3\n",
       "x1  1.000000  0.446299  0.394197\n",
       "x2  0.446299  1.000000  0.511761\n",
       "x3  0.394197  0.511761  1.000000"
      ]
     },
     "execution_count": 43,
     "metadata": {},
     "output_type": "execute_result"
    }
   ],
   "source": [
    "# FROM THE simulations.VaR_ES_2_level_sim_from_copula() function\n",
    "from scipy.stats import norm\n",
    "means, cov = distributions.fit_multivariate_normal_dist(returns)\n",
    "\n",
    "quantile_vectors = pd.DataFrame()\n",
    "\n",
    "for i, column in enumerate(returns.columns):\n",
    "    mean = means.iloc[i]\n",
    "    sigma = np.sqrt(cov.iloc[i,i])\n",
    "    # print(i, column, mean, sigma)\n",
    "    col_data = returns.loc[:, column]\n",
    "    U_vector = norm.cdf(col_data, loc=mean, scale=sigma) # get U from observations\n",
    "    Z_vector = norm.ppf(U_vector, loc=0, scale = 1) # get Z from U vectors (not needed if using spearman correlation)\n",
    "    quantile_vectors[column] = Z_vector\n",
    "\n",
    "corr = measurements.compute_correlation(quantile_vectors, method=\"spearman\")\n",
    "corr"
   ]
  },
  {
   "cell_type": "code",
   "execution_count": 46,
   "metadata": {},
   "outputs": [],
   "source": [
    "# simulation using Gaussian Copula\n",
    "# TODO -> I didn't set this function up well, as the covariance/correlation matrix is computed inside of the function instead of before and then passed in\n",
    "import numpy as np\n",
    "prices = np.array(c.iloc[-1])\n",
    "holdings = np.ones(3)\n",
    "\n",
    "sim_dataframe = simulations.VaR_ES_2_level_sim_from_copula(sample_data=returns, holdings=holdings, prices=prices, fix_method=measurements.near_psd, n_sims = 1_000_000, alpha=0.05, seed=1234)"
   ]
  },
  {
   "cell_type": "code",
   "execution_count": 48,
   "metadata": {},
   "outputs": [
    {
     "data": {
      "text/plain": [
       "array([83.06321359, 77.40486139, 82.1561478 ])"
      ]
     },
     "execution_count": 48,
     "metadata": {},
     "output_type": "execute_result"
    }
   ],
   "source": [
    "prices"
   ]
  },
  {
   "cell_type": "code",
   "execution_count": 47,
   "metadata": {},
   "outputs": [
    {
     "data": {
      "text/html": [
       "<div>\n",
       "<style scoped>\n",
       "    .dataframe tbody tr th:only-of-type {\n",
       "        vertical-align: middle;\n",
       "    }\n",
       "\n",
       "    .dataframe tbody tr th {\n",
       "        vertical-align: top;\n",
       "    }\n",
       "\n",
       "    .dataframe thead th {\n",
       "        text-align: right;\n",
       "    }\n",
       "</style>\n",
       "<table border=\"1\" class=\"dataframe\">\n",
       "  <thead>\n",
       "    <tr style=\"text-align: right;\">\n",
       "      <th></th>\n",
       "      <th>Stock</th>\n",
       "      <th>VaR95</th>\n",
       "      <th>ES95</th>\n",
       "      <th>VaR95_Pct</th>\n",
       "      <th>ES95_Pct</th>\n",
       "    </tr>\n",
       "  </thead>\n",
       "  <tbody>\n",
       "    <tr>\n",
       "      <th>0</th>\n",
       "      <td>x1</td>\n",
       "      <td>2.349574</td>\n",
       "      <td>2.931951</td>\n",
       "      <td>0.028287</td>\n",
       "      <td>0.035298</td>\n",
       "    </tr>\n",
       "    <tr>\n",
       "      <th>1</th>\n",
       "      <td>x2</td>\n",
       "      <td>1.449216</td>\n",
       "      <td>1.797698</td>\n",
       "      <td>0.018723</td>\n",
       "      <td>0.023225</td>\n",
       "    </tr>\n",
       "    <tr>\n",
       "      <th>2</th>\n",
       "      <td>x3</td>\n",
       "      <td>2.429033</td>\n",
       "      <td>3.030823</td>\n",
       "      <td>0.029566</td>\n",
       "      <td>0.036891</td>\n",
       "    </tr>\n",
       "    <tr>\n",
       "      <th>3</th>\n",
       "      <td>Total</td>\n",
       "      <td>5.008485</td>\n",
       "      <td>6.231784</td>\n",
       "      <td>0.020643</td>\n",
       "      <td>0.025685</td>\n",
       "    </tr>\n",
       "  </tbody>\n",
       "</table>\n",
       "</div>"
      ],
      "text/plain": [
       "   Stock     VaR95      ES95  VaR95_Pct  ES95_Pct\n",
       "0     x1  2.349574  2.931951   0.028287  0.035298\n",
       "1     x2  1.449216  1.797698   0.018723  0.023225\n",
       "2     x3  2.429033  3.030823   0.029566  0.036891\n",
       "3  Total  5.008485  6.231784   0.020643  0.025685"
      ]
     },
     "execution_count": 47,
     "metadata": {},
     "output_type": "execute_result"
    }
   ],
   "source": [
    "sim_dataframe"
   ]
  },
  {
   "cell_type": "code",
   "execution_count": null,
   "metadata": {},
   "outputs": [],
   "source": []
  }
 ],
 "metadata": {
  "kernelspec": {
   "display_name": "Python 3.12.7 ('.venv': venv)",
   "language": "python",
   "name": "python3"
  },
  "language_info": {
   "codemirror_mode": {
    "name": "ipython",
    "version": 3
   },
   "file_extension": ".py",
   "mimetype": "text/x-python",
   "name": "python",
   "nbconvert_exporter": "python",
   "pygments_lexer": "ipython3",
   "version": "3.12.7"
  },
  "orig_nbformat": 4,
  "vscode": {
   "interpreter": {
    "hash": "536fca8a70b20dc309c68387fb4322ec0bd98e3a90262e6704560667c02e5263"
   }
  }
 },
 "nbformat": 4,
 "nbformat_minor": 2
}
