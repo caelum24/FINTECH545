{
 "cells": [
  {
   "cell_type": "code",
   "execution_count": 297,
   "metadata": {},
   "outputs": [],
   "source": [
    "import numpy as np\n",
    "import pandas as pd\n",
    "from scipy.stats import norm, t\n",
    "from scipy.integrate import quad"
   ]
  },
  {
   "cell_type": "code",
   "execution_count": 298,
   "metadata": {},
   "outputs": [],
   "source": [
    "from risk_management.measurements import compute_correlation\n",
    "from risk_management.risk_metrics import *"
   ]
  },
  {
   "cell_type": "code",
   "execution_count": 299,
   "metadata": {},
   "outputs": [],
   "source": [
    "from risk_management.distributions import fit_normal_dist_from_data, fit_t_dist\n",
    "from risk_management.risk_metrics import univariate_normal_VaR, univariate_t_VaR"
   ]
  },
  {
   "cell_type": "code",
   "execution_count": 300,
   "metadata": {},
   "outputs": [],
   "source": [
    "def check_matrix_correctness(input_matrix, test_matrix, error_epsilon = 1e-12):\n",
    "\n",
    "    input_matrix = np.asarray(input_matrix)\n",
    "    test_matrix = np.asarray(test_matrix)\n",
    "    assert input_matrix.shape == test_matrix.shape, \"Input matrix and test matrix have different shapes\"\n",
    "    for i in range(input_matrix.shape[0]):\n",
    "        for j in range(input_matrix.shape[1]):\n",
    "            assert abs(input_matrix[i,j] - test_matrix[i,j]) < error_epsilon, f\"row {i} and column {j} of the data do not match\"\n",
    "    \n",
    "    return True"
   ]
  },
  {
   "cell_type": "markdown",
   "metadata": {},
   "source": [
    "## Test 8.4 ES From Normal Distribtution"
   ]
  },
  {
   "cell_type": "code",
   "execution_count": 301,
   "metadata": {},
   "outputs": [],
   "source": [
    "def expected_shortfall_normal(x: pd.DataFrame, alpha=0.05):\n",
    "\n",
    "    abs_VaR, rel_VaR = univariate_normal_VaR(x, alpha = alpha)\n",
    "\n",
    "    mu_vector, cov = fit_normal_dist_from_data(x)\n",
    "    mu = mu_vector.iloc[0]\n",
    "    sigma = np.sqrt(cov.iloc[0,0])\n",
    "\n",
    "    def ev(x, mu, sigma):\n",
    "        return x * norm.pdf(x, loc=mu, scale=sigma)\n",
    "    result, error = quad(lambda x: ev(x, mu, sigma), -np.inf, -abs_VaR)\n",
    "\n",
    "    abs_ES = -1/alpha * result\n",
    "    diff_ES = -(-abs_ES - mu)\n",
    "\n",
    "    # delta VaR es\n",
    "    # quantile = norm.ppf(alpha, loc = mu, scale = sigma)\n",
    "    # expected_shortfall = -mu + sigma * norm.pdf(quantile, loc=mu, scale=sigma)\n",
    "\n",
    "    return abs_ES, diff_ES"
   ]
  },
  {
   "cell_type": "code",
   "execution_count": 302,
   "metadata": {},
   "outputs": [],
   "source": [
    "data_8_4 = pd.read_csv(\"testfiles/data/test7_1.csv\")\n",
    "abs_ES, diff_ES = expected_shortfall_normal(data_8_4, alpha=0.05)\n",
    "\n",
    "test_8_4 = pd.read_csv(\"testfiles/data/testout8_4.csv\")\n",
    "test_abs_ES = test_8_4.loc[0, \"ES Absolute\"]\n",
    "test_diff_ES = test_8_4.loc[0, \"ES Diff from Mean\"]\n",
    "\n",
    "error_epsilon = 1e-11\n",
    "assert abs(abs_ES - test_abs_ES) < error_epsilon, \"Abs Expected shortfall and test abs expected shortfall don't match\"\n",
    "assert abs(diff_ES - diff_ES) < error_epsilon, \"Diff Expected shortfall and test diff expected shortfall don't match\""
   ]
  },
  {
   "cell_type": "markdown",
   "metadata": {},
   "source": [
    "## Test 8.5 ES From T Distribution"
   ]
  },
  {
   "cell_type": "code",
   "execution_count": 303,
   "metadata": {},
   "outputs": [],
   "source": [
    "def expected_shortfall_t(x: pd.DataFrame, alpha=0.05):\n",
    "\n",
    "    abs_VaR, rel_VaR = univariate_t_VaR(x, alpha = alpha)\n",
    "\n",
    "    mu, sigma, nu = fit_t_dist(x)\n",
    "\n",
    "    def ev(x, mu, sigma, nu):\n",
    "        return x * t.pdf(x, loc=mu, scale=sigma, df=nu)\n",
    "    result, error = quad(lambda x: ev(x, mu, sigma, nu), -np.inf, -abs_VaR)\n",
    "\n",
    "    abs_ES = -1/alpha * result\n",
    "    diff_ES = -(-abs_ES - mu)\n",
    "\n",
    "    # delta VaR es\n",
    "    # quantile = norm.ppf(alpha, loc = mu, scale = sigma)\n",
    "    # expected_shortfall = -mu + sigma * norm.pdf(quantile, loc=mu, scale=sigma)\n",
    "\n",
    "    return abs_ES, diff_ES"
   ]
  },
  {
   "cell_type": "code",
   "execution_count": 304,
   "metadata": {},
   "outputs": [],
   "source": [
    "data_8_5 = pd.read_csv(\"testfiles/data/test7_2.csv\")\n",
    "abs_ES, diff_ES = expected_shortfall_t(data_8_5, alpha=0.05)\n",
    "test_8_5 = pd.read_csv(\"testfiles/data/testout8_5.csv\")\n",
    "test_abs_ES = test_8_5.loc[0, \"ES Absolute\"]\n",
    "test_diff_ES = test_8_5.loc[0, \"ES Diff from Mean\"]\n",
    "\n",
    "error_epsilon = 1e-6\n",
    "assert abs(abs_ES - test_abs_ES) < error_epsilon, \"Abs Expected shortfall and test abs expected shortfall don't match\"\n",
    "assert abs(diff_ES - diff_ES) < error_epsilon, \"Diff Expected shortfall and test diff expected shortfall don't match\""
   ]
  },
  {
   "cell_type": "markdown",
   "metadata": {},
   "source": [
    "## Test 8.6 ES From Simulation"
   ]
  },
  {
   "cell_type": "code",
   "execution_count": 305,
   "metadata": {},
   "outputs": [],
   "source": [
    "## take the mean from a vector of simulation results to get the expected shortfall\n",
    "def expected_shortfall_sim(x:pd.DataFrame, alpha=0.05):\n",
    "    x = np.sort(data_8_6, axis=0)\n",
    "    index = int(np.floor(alpha * len(x)))\n",
    "    abs_ES = -x[:index+1].mean()\n",
    "    rel_ES = abs_ES + x.mean()\n",
    "    return abs_ES, rel_ES"
   ]
  },
  {
   "cell_type": "code",
   "execution_count": 306,
   "metadata": {},
   "outputs": [],
   "source": [
    "data_8_6 = pd.read_csv(\"testfiles/data/test7_2.csv\")\n",
    "abs_ES, rel_ES = expected_shortfall_sim(data_8_6, alpha = 0.05)\n",
    "\n",
    "error_epsilon = 1e-2 # NOTE -> not as accurate as we'd like, being from a simulation makes the data slightly off I suspect\n",
    "test_8_6 = pd.read_csv(\"testfiles/data/testout8_6.csv\")\n",
    "test_abs_ES = test_8_6.loc[0, \"ES Absolute\"]\n",
    "test_diff_ES = test_8_6.loc[0, \"ES Diff from Mean\"]\n",
    "assert abs(abs_ES - test_abs_ES) < error_epsilon, \"Abs Expected shortfall and test abs expected shortfall don't match\"\n",
    "assert abs(diff_ES - diff_ES) < error_epsilon, \"Diff Expected shortfall and test diff expected shortfall don't match\""
   ]
  },
  {
   "cell_type": "code",
   "execution_count": 307,
   "metadata": {},
   "outputs": [
    {
     "data": {
      "text/plain": [
       "'\\nfrom risk_management import normal_monte_carlo_simulation, near_psd, fit_normal_dist_from_data, fit_t_dist\\nmean_vector, cov = fit_normal_dist_from_data(data_8_6)\\nsimulation_data = normal_monte_carlo_simulation(mean_vector=mean_vector, covariance_matrix=cov, n_sims = 100_000, fix_method=near_psd, seed=42) # var_count x n_sims\\n# simulation_data = normal_monte_carlo_simulation(mean_vector=mean_vector, covariance_matrix=cov, n_sims = 100_000, fix_method=near_psd)\\n# mu, sigma, nu = fit_t_dist(data_8_6)\\n# mean_vector = np.array([mu])\\n# cov = np.array([[sigma**2]])\\n\\n# simulation_data.mean(axis=1)\\nholdings = np.ones(len(mean_vector))\\nprices = np.ones(len(mean_vector))\\nportfolio_value = prices.dot(holdings)\\n\\n# new_prices = prices[:, np.newaxis] + prices[:, np.newaxis] * simulation_data\\nnew_prices = prices[:, np.newaxis] * (1+simulation_data)\\n\\n# portfolio_values = (holdings[np.newaxis, :].dot(new_prices) - portfolio_value)/portfolio_value\\nportfolio_returns =  (holdings[np.newaxis, :].dot(new_prices))/portfolio_value - 1\\n\\nsorted_portfolios = np.sort(portfolio_returns)\\n\\nalpha = 0.05\\n# np.percentile(sorted_portfolios, 100 * alpha)\\n\\nindex = int(np.floor(alpha*sorted_portfolios.shape[1]))\\n\\n# VaR = sorted_portfolios[:, index]\\nshortfall_portfolios = sorted_portfolios[:,:index+1]\\nabs_ES = - np.mean(shortfall_portfolios)\\ndiff_ES = -(-abs_ES - sorted_portfolios.mean())\\n\\nabs_ES, diff_ES\\n'"
      ]
     },
     "execution_count": 307,
     "metadata": {},
     "output_type": "execute_result"
    }
   ],
   "source": [
    "# SIMULATING THE DATA METHOD THAT DIDN'T WORK\n",
    "'''\n",
    "from risk_management import normal_monte_carlo_simulation, near_psd, fit_normal_dist_from_data, fit_t_dist\n",
    "mean_vector, cov = fit_normal_dist_from_data(data_8_6)\n",
    "simulation_data = normal_monte_carlo_simulation(mean_vector=mean_vector, covariance_matrix=cov, n_sims = 100_000, fix_method=near_psd, seed=42) # var_count x n_sims\n",
    "# simulation_data = normal_monte_carlo_simulation(mean_vector=mean_vector, covariance_matrix=cov, n_sims = 100_000, fix_method=near_psd)\n",
    "# mu, sigma, nu = fit_t_dist(data_8_6)\n",
    "# mean_vector = np.array([mu])\n",
    "# cov = np.array([[sigma**2]])\n",
    "\n",
    "# simulation_data.mean(axis=1)\n",
    "holdings = np.ones(len(mean_vector))\n",
    "prices = np.ones(len(mean_vector))\n",
    "portfolio_value = prices.dot(holdings)\n",
    "\n",
    "# new_prices = prices[:, np.newaxis] + prices[:, np.newaxis] * simulation_data\n",
    "new_prices = prices[:, np.newaxis] * (1+simulation_data)\n",
    "\n",
    "# portfolio_values = (holdings[np.newaxis, :].dot(new_prices) - portfolio_value)/portfolio_value\n",
    "portfolio_returns =  (holdings[np.newaxis, :].dot(new_prices))/portfolio_value - 1\n",
    "\n",
    "sorted_portfolios = np.sort(portfolio_returns)\n",
    "\n",
    "alpha = 0.05\n",
    "# np.percentile(sorted_portfolios, 100 * alpha)\n",
    "\n",
    "index = int(np.floor(alpha*sorted_portfolios.shape[1]))\n",
    "\n",
    "# VaR = sorted_portfolios[:, index]\n",
    "shortfall_portfolios = sorted_portfolios[:,:index+1]\n",
    "abs_ES = - np.mean(shortfall_portfolios)\n",
    "diff_ES = -(-abs_ES - sorted_portfolios.mean())\n",
    "\n",
    "abs_ES, diff_ES\n",
    "'''"
   ]
  },
  {
   "cell_type": "markdown",
   "metadata": {},
   "source": [
    "## Test 9.1 VaR/ES on 2 levels from simulated values - Copula"
   ]
  },
  {
   "cell_type": "code",
   "execution_count": 314,
   "metadata": {},
   "outputs": [],
   "source": [
    "def VaR_ES_2_level_sim_from_copula(sample_data: pd.DataFrame, holdings: np.array, prices: np.array, fix_method, n_sims = 100_000, alpha=0.05, seed=1234):\n",
    "\n",
    "    if prices.shape != holdings.shape or len(sample_data.columns) != prices.shape[0]:\n",
    "        raise ValueError(\"Data columns, holdings, and prices must all contain data for the sam amount of assets\")\n",
    "\n",
    "    means, cov = fit_normal_dist_from_data(sample_data)\n",
    "\n",
    "    quantile_vectors = pd.DataFrame()\n",
    "\n",
    "    for i, column in enumerate(sample_data.columns):\n",
    "        mean = means.iloc[i]\n",
    "        sigma = np.sqrt(cov.iloc[i,i])\n",
    "        # print(i, column, mean, sigma)\n",
    "        col_data = sample_data.loc[:, column]\n",
    "        U_vector = norm.cdf(col_data, loc=mean, scale=sigma) # get U from observations\n",
    "        Z_vector = norm.ppf(U_vector, loc=0, scale = 1) # get Z from U vectors (not needed if using spearman correlation)\n",
    "        quantile_vectors[column] = Z_vector\n",
    "\n",
    "    corr = compute_correlation(quantile_vectors, method=\"spearman\")\n",
    "    # print(\"CORR\", corr)\n",
    "    simulated_Zs = normal_monte_carlo_simulation(mean_vector=np.zeros(len(means)), covariance_matrix=corr, n_sims=n_sims, fix_method=fix_method, seed=seed)\n",
    "    simulated_results = pd.DataFrame()\n",
    "\n",
    "    for i, column in enumerate(sample_data.columns):\n",
    "\n",
    "        col_data = simulated_Zs.T[:, i]\n",
    "        U_vector = norm.cdf(col_data, loc=0, scale=1)\n",
    "\n",
    "        # get original distribution back\n",
    "        mean = means.iloc[i]\n",
    "        sigma = np.sqrt(cov.iloc[i,i])\n",
    "        F_vector = norm.ppf(U_vector, loc=mean, scale = sigma)\n",
    "\n",
    "        simulated_results[column] = F_vector\n",
    "\n",
    "    simulated_results[\"Total\"] = ((simulated_results.dot(holdings*prices)) / holdings.dot(prices))\n",
    "\n",
    "    risk_results = []\n",
    "    for i, column in enumerate(simulated_results.columns):\n",
    "        if column == \"Total\":\n",
    "            invest_value = prices.dot(holdings)\n",
    "        else:\n",
    "            invest_value = prices[i]*holdings[i]\n",
    "\n",
    "        sim_size = len(simulated_results[column])\n",
    "        index = int(np.floor(alpha*sim_size))\n",
    "        sorted_col = simulated_results[column].sort_values().reset_index(drop=True)\n",
    "\n",
    "        # VaR 95% is var expressed as a percentage of initial investment\n",
    "        # VaR95 / initial portfolio value = VaR 95_Pct\n",
    "\n",
    "        VaR_95pct = -sorted_col.iloc[index]\n",
    "        VaR95 = VaR_95pct * invest_value\n",
    "        ES_95pct = -sorted_col[:index+1].mean()\n",
    "        ES95 = ES_95pct * invest_value\n",
    "        risk_results.append({\n",
    "                    \"Stock\": column,\n",
    "                    \"VaR95\": VaR95,\n",
    "                    \"ES95\": ES95,\n",
    "                    \"VaR95_Pct\": VaR_95pct,\n",
    "                    \"ES95_Pct\": ES_95pct\n",
    "                }\n",
    "        )\n",
    "    \n",
    "    return pd.DataFrame(risk_results)\n",
    "        "
   ]
  },
  {
   "cell_type": "code",
   "execution_count": 315,
   "metadata": {},
   "outputs": [
    {
     "data": {
      "text/plain": [
       "True"
      ]
     },
     "execution_count": 315,
     "metadata": {},
     "output_type": "execute_result"
    }
   ],
   "source": [
    "data_9_1 = pd.read_csv(\"testfiles/data/test9_1_returns.csv\")\n",
    "test_9_1 = pd.read_csv(\"testfiles/data/testout9_1.csv\")\n",
    "\n",
    "# Back out from results how much value is in each asset\n",
    "A_value = test_9_1[test_9_1[\"Stock\"] == \"A\"][\"VaR95\"].iloc[0]/test_9_1[test_9_1[\"Stock\"] == \"A\"][\"VaR95_Pct\"].iloc[0]\n",
    "B_value = test_9_1[test_9_1[\"Stock\"] == \"B\"][\"VaR95\"].iloc[0]/test_9_1[test_9_1[\"Stock\"] == \"B\"][\"VaR95_Pct\"].iloc[0]\n",
    "total_value = test_9_1[test_9_1[\"Stock\"] == \"Total\"][\"VaR95\"].iloc[0]/test_9_1[test_9_1[\"Stock\"] == \"Total\"][\"VaR95_Pct\"].iloc[0]\n",
    "\n",
    "holdings = np.ones(2)\n",
    "prices = np.array([A_value, B_value])\n",
    "risk_outputs = VaR_ES_2_level_sim_from_copula(sample_data=data_9_1, holdings=holdings, prices=prices, fix_method=near_psd, n_sims = 1_000_000, alpha=0.05, seed=1234)\n",
    "\n",
    "check_matrix_correctness(risk_outputs[[\"VaR95_Pct\",\t\"ES95_Pct\"]], test_9_1[[\"VaR95_Pct\", \"ES95_Pct\"]], error_epsilon=1e-2)\n",
    "check_matrix_correctness(risk_outputs[[\"VaR95\",\t\"ES95\"]], test_9_1[[\"VaR95\", \"ES95\"]], error_epsilon=1e2) # NOTE -> simulation is off by a bit here and portfolio values increase size of deviation"
   ]
  },
  {
   "cell_type": "code",
   "execution_count": null,
   "metadata": {},
   "outputs": [
    {
     "data": {
      "text/html": [
       "<div>\n",
       "<style scoped>\n",
       "    .dataframe tbody tr th:only-of-type {\n",
       "        vertical-align: middle;\n",
       "    }\n",
       "\n",
       "    .dataframe tbody tr th {\n",
       "        vertical-align: top;\n",
       "    }\n",
       "\n",
       "    .dataframe thead th {\n",
       "        text-align: right;\n",
       "    }\n",
       "</style>\n",
       "<table border=\"1\" class=\"dataframe\">\n",
       "  <thead>\n",
       "    <tr style=\"text-align: right;\">\n",
       "      <th></th>\n",
       "      <th>Stock</th>\n",
       "      <th>VaR95</th>\n",
       "      <th>ES95</th>\n",
       "      <th>VaR95_Pct</th>\n",
       "      <th>ES95_Pct</th>\n",
       "    </tr>\n",
       "  </thead>\n",
       "  <tbody>\n",
       "    <tr>\n",
       "      <th>0</th>\n",
       "      <td>A</td>\n",
       "      <td>94.175215</td>\n",
       "      <td>117.916311</td>\n",
       "      <td>0.047088</td>\n",
       "      <td>0.058958</td>\n",
       "    </tr>\n",
       "    <tr>\n",
       "      <th>1</th>\n",
       "      <td>B</td>\n",
       "      <td>113.308137</td>\n",
       "      <td>140.740947</td>\n",
       "      <td>0.037769</td>\n",
       "      <td>0.046914</td>\n",
       "    </tr>\n",
       "    <tr>\n",
       "      <th>2</th>\n",
       "      <td>Total</td>\n",
       "      <td>155.919658</td>\n",
       "      <td>194.246296</td>\n",
       "      <td>0.031184</td>\n",
       "      <td>0.038849</td>\n",
       "    </tr>\n",
       "  </tbody>\n",
       "</table>\n",
       "</div>"
      ],
      "text/plain": [
       "   Stock       VaR95        ES95  VaR95_Pct  ES95_Pct\n",
       "0      A   94.175215  117.916311   0.047088  0.058958\n",
       "1      B  113.308137  140.740947   0.037769  0.046914\n",
       "2  Total  155.919658  194.246296   0.031184  0.038849"
      ]
     },
     "execution_count": 240,
     "metadata": {},
     "output_type": "execute_result"
    }
   ],
   "source": [
    "risk_outputs"
   ]
  },
  {
   "cell_type": "code",
   "execution_count": null,
   "metadata": {},
   "outputs": [
    {
     "data": {
      "text/html": [
       "<div>\n",
       "<style scoped>\n",
       "    .dataframe tbody tr th:only-of-type {\n",
       "        vertical-align: middle;\n",
       "    }\n",
       "\n",
       "    .dataframe tbody tr th {\n",
       "        vertical-align: top;\n",
       "    }\n",
       "\n",
       "    .dataframe thead th {\n",
       "        text-align: right;\n",
       "    }\n",
       "</style>\n",
       "<table border=\"1\" class=\"dataframe\">\n",
       "  <thead>\n",
       "    <tr style=\"text-align: right;\">\n",
       "      <th></th>\n",
       "      <th>Stock</th>\n",
       "      <th>VaR95</th>\n",
       "      <th>ES95</th>\n",
       "      <th>VaR95_Pct</th>\n",
       "      <th>ES95_Pct</th>\n",
       "    </tr>\n",
       "  </thead>\n",
       "  <tbody>\n",
       "    <tr>\n",
       "      <th>0</th>\n",
       "      <td>A</td>\n",
       "      <td>94.460376</td>\n",
       "      <td>118.289371</td>\n",
       "      <td>0.047230</td>\n",
       "      <td>0.059145</td>\n",
       "    </tr>\n",
       "    <tr>\n",
       "      <th>1</th>\n",
       "      <td>B</td>\n",
       "      <td>107.880427</td>\n",
       "      <td>151.218174</td>\n",
       "      <td>0.035960</td>\n",
       "      <td>0.050406</td>\n",
       "    </tr>\n",
       "    <tr>\n",
       "      <th>2</th>\n",
       "      <td>Total</td>\n",
       "      <td>152.565684</td>\n",
       "      <td>199.704532</td>\n",
       "      <td>0.030513</td>\n",
       "      <td>0.039941</td>\n",
       "    </tr>\n",
       "  </tbody>\n",
       "</table>\n",
       "</div>"
      ],
      "text/plain": [
       "   Stock       VaR95        ES95  VaR95_Pct  ES95_Pct\n",
       "0      A   94.460376  118.289371   0.047230  0.059145\n",
       "1      B  107.880427  151.218174   0.035960  0.050406\n",
       "2  Total  152.565684  199.704532   0.030513  0.039941"
      ]
     },
     "execution_count": 239,
     "metadata": {},
     "output_type": "execute_result"
    }
   ],
   "source": [
    "test_9_1"
   ]
  }
 ],
 "metadata": {
  "kernelspec": {
   "display_name": "Python 3.12.7 ('.venv': venv)",
   "language": "python",
   "name": "python3"
  },
  "language_info": {
   "codemirror_mode": {
    "name": "ipython",
    "version": 3
   },
   "file_extension": ".py",
   "mimetype": "text/x-python",
   "name": "python",
   "nbconvert_exporter": "python",
   "pygments_lexer": "ipython3",
   "version": "3.12.7"
  },
  "orig_nbformat": 4,
  "vscode": {
   "interpreter": {
    "hash": "536fca8a70b20dc309c68387fb4322ec0bd98e3a90262e6704560667c02e5263"
   }
  }
 },
 "nbformat": 4,
 "nbformat_minor": 2
}
